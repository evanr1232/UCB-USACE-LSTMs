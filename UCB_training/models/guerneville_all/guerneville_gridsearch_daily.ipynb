{
 "cells": [
  {
   "cell_type": "code",
   "execution_count": null,
   "id": "acb0f9f7f5d26fb6",
   "metadata": {
    "ExecuteTime": {
     "end_time": "2025-02-25T02:13:23.067716Z",
     "start_time": "2025-02-25T02:13:23.063687Z"
    }
   },
   "outputs": [],
   "source": [
    "run_gridsearch = True\n",
    "skip_best_model_train = False\n",
    "hyperparam_csv_file = \"CV_guerneville_daily_hyperparams.csv\""
   ]
  },
  {
   "cell_type": "code",
   "execution_count": null,
   "id": "d15b8b7a8c5e86f7",
   "metadata": {
    "ExecuteTime": {
     "end_time": "2025-02-25T02:13:23.765968Z",
     "start_time": "2025-02-25T02:13:23.361894Z"
    }
   },
   "outputs": [],
   "source": [
    "import sys\n",
    "import os\n",
    "import itertools\n",
    "import pandas as pd\n",
    "current_dir = os.getcwd()\n",
    "print(current_dir)"
   ]
  },
  {
   "cell_type": "code",
   "execution_count": null,
   "id": "d09a34b33a33f17a",
   "metadata": {
    "ExecuteTime": {
     "end_time": "2025-02-25T02:13:23.769107Z",
     "start_time": "2025-02-25T02:13:23.767107Z"
    }
   },
   "outputs": [],
   "source": [
    "library_path = os.path.join('..', '..', '..','..','UCB-USACE-LSTMs')\n",
    "sys.path.insert(0, library_path)\n",
    "print(sys.path)"
   ]
  },
  {
   "cell_type": "code",
   "execution_count": null,
   "id": "fbec8069028f3a13",
   "metadata": {
    "ExecuteTime": {
     "end_time": "2025-02-25T02:13:25.831777Z",
     "start_time": "2025-02-25T02:13:23.769857Z"
    }
   },
   "outputs": [],
   "source": [
    "from pathlib import Path\n",
    "from neuralhydrology.evaluation.metrics import *\n",
    "from UCB_training.UCB_train import UCB_trainer\n",
    "from UCB_training.UCB_utils import combinedPlot\n",
    "from UCB_training.UCB_utils import fancyCombinedPlot\n",
    "from UCB_training.UCB_utils import combinedPlotFromDf\n",
    "from UCB_training.UCB_utils import fancyCombinedPlotFromDf"
   ]
  },
  {
   "cell_type": "code",
   "execution_count": null,
   "id": "b00c57b6454ec794",
   "metadata": {
    "ExecuteTime": {
     "end_time": "2025-02-25T02:13:25.836156Z",
     "start_time": "2025-02-25T02:13:25.833286Z"
    }
   },
   "outputs": [],
   "source": [
    "current_path = os.getcwd()\n",
    "library_path = current_path.split('UCB-USACE-LSTMs')[0] + 'UCB-USACE-LSTMs'\n",
    "\n",
    "target_path = os.path.join(library_path, 'UCB_training', 'models', 'guerneville_all')\n",
    "\n",
    "if os.path.exists(target_path):\n",
    "    os.chdir(target_path)\n",
    "    print(\"Current Working Directory:\", os.getcwd())\n",
    "    print(\"Train Basin File Exists:\", os.path.exists(\"guerneville\")) \n",
    "else:\n",
    "    print(f\"Error: The target path '{target_path}' does not exist.\")"
   ]
  },
  {
   "cell_type": "code",
   "execution_count": null,
   "id": "ea57c35133854087",
   "metadata": {
    "ExecuteTime": {
     "end_time": "2025-02-25T02:13:25.838658Z",
     "start_time": "2025-02-25T02:13:25.836943Z"
    }
   },
   "outputs": [],
   "source": [
    "path_to_csv = Path(library_path +'/russian_river_data')\n",
    "path_to_yaml = Path(\"guerneville_gage_nlayer.yaml\")\n",
    "path_to_physics_data = Path(library_path + \"/russian_river_data/Guerneville_daily.csv\")"
   ]
  },
  {
   "cell_type": "code",
   "execution_count": null,
   "id": "1707e9703b6e81b1",
   "metadata": {
    "ExecuteTime": {
     "end_time": "2025-02-25T02:13:25.843829Z",
     "start_time": "2025-02-25T02:13:25.839494Z"
    }
   },
   "outputs": [],
   "source": [
    "features_with_physics = [\n",
    "    \"BIG SULPHUR CR ET-POTENTIAL RUN:BASIN AVERAGE 60 YR\",\n",
    "    \"DRY CREEK 10 ET-POTENTIAL RUN:BASIN AVERAGE 60 YR\",\n",
    "    \"EF RUSSIAN 20 ET-POTENTIAL RUN:BASIN AVERAGE 60 YR\",\n",
    "    \"GREEN VALLEY ET-POTENTIAL RUN:BASIN AVERAGE 60 YR\",\n",
    "    \"LAGUNA ET-POTENTIAL RUN:BASIN AVERAGE 60 YR\",\n",
    "    \"RUSSIAN 20 ET-POTENTIAL RUN:BASIN AVERAGE 60 YR\",\n",
    "    \"RUSSIAN 30 ET-POTENTIAL RUN:BASIN AVERAGE 60 YR\",\n",
    "    \"RUSSIAN 40 ET-POTENTIAL RUN:BASIN AVERAGE 60 YR\",\n",
    "    \"RUSSIAN 50 ET-POTENTIAL RUN:BASIN AVERAGE 60 YR\",\n",
    "    \"RUSSIAN 60 ET-POTENTIAL RUN:BASIN AVERAGE 60 YR\",\n",
    "    \"RUSSIAN 70 ET-POTENTIAL RUN:BASIN AVERAGE 60 YR\",\n",
    "    \"SANTA ROSA CR 10 ET-POTENTIAL RUN:BASIN AVERAGE 60 YR\",\n",
    "    \"SANTA ROSA CR 20 ET-POTENTIAL RUN:BASIN AVERAGE 60 YR\",\n",
    "    \"WF RUSSIAN ET-POTENTIAL RUN:BASIN AVERAGE 60 YR\",\n",
    "    \"BIG SULPHUR CR PRECIP-INC SCREENED\",\n",
    "    \"DRY CREEK 10 PRECIP-INC SCREENED\",\n",
    "    \"EF RUSSIAN 20 PRECIP-INC SCREENED\",\n",
    "    \"GREEN VALLEY PRECIP-INC SCREENED\",\n",
    "    \"LAGUNA PRECIP-INC SCREENED\",\n",
    "    \"RUSSIAN 20 PRECIP-INC SCREENED\",\n",
    "    \"RUSSIAN 30 PRECIP-INC SCREENED\",\n",
    "    \"RUSSIAN 40 PRECIP-INC SCREENED\",\n",
    "    \"RUSSIAN 50 PRECIP-INC SCREENED\",\n",
    "    \"RUSSIAN 60 PRECIP-INC SCREENED\",\n",
    "    \"RUSSIAN 70 PRECIP-INC SCREENED\",\n",
    "    \"SANTA ROSA CR 10 PRECIP-INC SCREENED\",\n",
    "    \"SANTA ROSA CR 20 PRECIP-INC SCREENED\",\n",
    "    \"WF RUSSIAN PRECIP-INC SCREENED\",\n",
    "    \"UKIAH CA HUMIDITY USAF-NOAA\",\n",
    "    \"UKIAH CA SOLAR RADIATION USAF-NOAA\",\n",
    "    \"UKIAH CA TEMPERATURE USAF-NOAA\",\n",
    "    \"UKIAH CA WINDSPEED USAF-NOAA\",\n",
    "    \"SANTA ROSA CA HUMIDITY USAF-NOAA\",\n",
    "    \"SANTA ROSA CA SOLAR RADIATION USAF-NOAA\",\n",
    "    \"SANTA ROSA CA TEMPERATURE USAF-NOAA\",\n",
    "    \"SANTA ROSA CA WINDSPEED USAF-NOAA\",\n",
    "    \"UKIAH CA FLOW USGS-MERGED\",\n",
    "    \"GEYSERVILLE CA FLOW USGS-MERGED\",\n",
    "    \"Guerneville Gage FLOW\",\n",
    "    \"Big Sulphur Cr ET-POTENTIAL\",\n",
    "    \"Big Sulphur Cr FLOW\",\n",
    "    \"Big Sulphur Cr FLOW-BASE\",\n",
    "    \"Big Sulphur Cr INFILTRATION\",\n",
    "    \"Big Sulphur Cr PERC-SOIL\",\n",
    "    \"Big Sulphur Cr SATURATION FRACTION\",\n",
    "    \"Dry Creek 10 ET-POTENTIAL\",\n",
    "    \"Dry Creek 10 FLOW\",\n",
    "    \"Dry Creek 10 FLOW-BASE\",\n",
    "    \"Dry Creek 10 INFILTRATION\",\n",
    "    \"Dry Creek 10 PERC-SOIL\",\n",
    "    \"Dry Creek 10 SATURATION FRACTION\",\n",
    "    \"Green Valley ET-POTENTIAL\",\n",
    "    \"Green Valley FLOW\",\n",
    "    \"Green Valley FLOW-BASE\",\n",
    "    \"Green Valley INFILTRATION\",\n",
    "    \"Green Valley PERC-SOIL\",\n",
    "    \"Green Valley SATURATION FRACTION\",\n",
    "    \"Laguna ET-POTENTIAL\",\n",
    "    \"Laguna FLOW\",\n",
    "    \"Laguna FLOW-BASE\",\n",
    "    \"Laguna INFILTRATION\",\n",
    "    \"Laguna PERC-SOIL\",\n",
    "    \"Laguna SATURATION FRACTION\",\n",
    "    \"Russian 20 ET-POTENTIAL\",\n",
    "    \"Russian 20 FLOW\",\n",
    "    \"Russian 20 FLOW-BASE\",\n",
    "    \"Russian 20 INFILTRATION\",\n",
    "    \"Russian 20 PERC-SOIL\",\n",
    "    \"Russian 20 SATURATION FRACTION\",\n",
    "    \"Russian 30 ET-POTENTIAL\",\n",
    "    \"Russian 30 FLOW\",\n",
    "    \"Russian 30 FLOW-BASE\",\n",
    "    \"Russian 30 INFILTRATION\",\n",
    "    \"Russian 30 PERC-SOIL\",\n",
    "    \"Russian 30 SATURATION FRACTION\",\n",
    "    \"Russian 40 ET-POTENTIAL\",\n",
    "    \"Russian 40 FLOW\",\n",
    "    \"Russian 40 FLOW-BASE\",\n",
    "    \"Russian 40 INFILTRATION\",\n",
    "    \"Russian 40 PERC-SOIL\",\n",
    "    \"Russian 40 SATURATION FRACTION\",\n",
    "    \"Russian 50 ET-POTENTIAL\",\n",
    "    \"Russian 50 FLOW\",\n",
    "    \"Russian 50 FLOW-BASE\",\n",
    "    \"Russian 50 INFILTRATION\",\n",
    "    \"Russian 50 PERC-SOIL\",\n",
    "    \"Russian 50 SATURATION FRACTION\",\n",
    "    \"Russian 60 ET-POTENTIAL\",\n",
    "    \"Russian 60 FLOW\",\n",
    "    \"Russian 60 FLOW-BASE\",\n",
    "    \"Russian 60 INFILTRATION\",\n",
    "    \"Russian 60 PERC-SOIL\",\n",
    "    \"Russian 60 SATURATION FRACTION\",\n",
    "    \"Russian 70 ET-POTENTIAL\",\n",
    "    \"Russian 70 FLOW\",\n",
    "    \"Russian 70 FLOW-BASE\",\n",
    "    \"Russian 70 INFILTRATION\",\n",
    "    \"Russian 70 PERC-SOIL\",\n",
    "    \"Russian 70 SATURATION FRACTION\",\n",
    "    \"Santa Rosa Cr 10 ET-POTENTIAL\",\n",
    "    \"Santa Rosa Cr 10 FLOW\",\n",
    "    \"Santa Rosa Cr 10 FLOW-BASE\",\n",
    "    \"Santa Rosa Cr 10 INFILTRATION\",\n",
    "    \"Santa Rosa Cr 10 PERC-SOIL\",\n",
    "    \"Santa Rosa Cr 10 SATURATION FRACTION\",\n",
    "    \"Santa Rosa Cr 20 ET-POTENTIAL\",\n",
    "    \"Santa Rosa Cr 20 FLOW\",\n",
    "    \"Santa Rosa Cr 20 FLOW-BASE\",\n",
    "    \"Santa Rosa Cr 20 INFILTRATION\",\n",
    "    \"Santa Rosa Cr 20 PERC-SOIL\",\n",
    "    \"Santa Rosa Cr 20 SATURATION FRACTION\",\n",
    "    \"WF Russian ET-POTENTIAL\",\n",
    "    \"WF Russian FLOW\",\n",
    "    \"WF Russian FLOW-BASE\",\n",
    "    \"WF Russian INFILTRATION\",\n",
    "    \"WF Russian PERC-SOIL\",\n",
    "    \"WF Russian SATURATION FRACTION\"\n",
    "]\n"
   ]
  },
  {
   "cell_type": "code",
   "execution_count": null,
   "id": "572fb60a298e97ca",
   "metadata": {
    "ExecuteTime": {
     "end_time": "2025-02-25T02:13:25.846761Z",
     "start_time": "2025-02-25T02:13:25.844652Z"
    }
   },
   "outputs": [],
   "source": [
    "hyperparam_space = {\n",
    "    \"hidden_size\": [128, 256],\n",
    "    \"seq_length\": [90, 180],\n",
    "    \"num_layers\": [1, 2],\n",
    "    \"epochs\": [16, 32]\n",
    "}\n",
    "fixed_dropout = 0.4\n",
    "no_physics_results = []\n",
    "physics_results = []"
   ]
  },
  {
   "cell_type": "code",
   "execution_count": null,
   "id": "5c5114d4e004a05f",
   "metadata": {
    "ExecuteTime": {
     "end_time": "2025-02-25T02:13:25.851103Z",
     "start_time": "2025-02-25T02:13:25.847577Z"
    }
   },
   "outputs": [],
   "source": [
    "if run_gridsearch or not os.path.exists(hyperparam_csv_file):\n",
    "    for (hs, seq, nl, ep) in itertools.product(\n",
    "            hyperparam_space[\"hidden_size\"],\n",
    "            hyperparam_space[\"seq_length\"],\n",
    "            hyperparam_space[\"num_layers\"],\n",
    "            hyperparam_space[\"epochs\"]\n",
    "    ):\n",
    "        hp = {\n",
    "            \"hidden_size\": hs,\n",
    "            \"seq_length\": seq,\n",
    "            \"num_layers\": nl,\n",
    "            \"epochs\": ep,\n",
    "            \"output_dropout\": fixed_dropout,\n",
    "        }\n",
    "        print(f\"NoPhysics: {hp}\")\n",
    "        trainer = UCB_trainer(\n",
    "            path_to_csv_folder=path_to_csv,\n",
    "            yaml_path=path_to_yaml,\n",
    "            hyperparams=hp,\n",
    "            input_features=None,\n",
    "            physics_informed=False,\n",
    "            physics_data_file=None,\n",
    "            hourly=False,\n",
    "            extend_train_period=False,\n",
    "            gpu=0\n",
    "        )\n",
    "        metrics_dict = trainer.cross_validate()\n",
    "        row_data = {\"hidden_size\": hs, \"seq_length\": seq, \"num_layers\": nl, \"epochs\": ep, \"output_dropout\": fixed_dropout}\n",
    "        for k, v in metrics_dict.items():\n",
    "            row_data[k] = v\n",
    "        no_physics_results.append(row_data)\n",
    "    df_no_physics = pd.DataFrame(no_physics_results)\n",
    "    df_no_physics.sort_values(by=\"avg NSE\", ascending=False, inplace=True)\n",
    "    df_no_physics.reset_index(drop=True, inplace=True)\n",
    "else:\n",
    "    print(\"Skipping Grid-Search\")"
   ]
  },
  {
   "cell_type": "code",
   "execution_count": null,
   "id": "b35887b8e26d27dc",
   "metadata": {
    "ExecuteTime": {
     "end_time": "2025-02-25T02:13:25.856411Z",
     "start_time": "2025-02-25T02:13:25.851871Z"
    }
   },
   "outputs": [],
   "source": [
    "if run_gridsearch or not os.path.exists(hyperparam_csv_file):\n",
    "    for (hs, seq, nl, ep) in itertools.product(\n",
    "            hyperparam_space[\"hidden_size\"],\n",
    "            hyperparam_space[\"seq_length\"],\n",
    "            hyperparam_space[\"num_layers\"],\n",
    "            hyperparam_space[\"epochs\"]\n",
    "    ):\n",
    "        hp = {\n",
    "            \"hidden_size\": hs,\n",
    "            \"seq_length\": seq,\n",
    "            \"num_layers\": nl,\n",
    "            \"epochs\": ep,\n",
    "            \"output_dropout\": fixed_dropout,\n",
    "        }\n",
    "        print(f\"Physics: {hp}\")\n",
    "        trainer = UCB_trainer(\n",
    "            path_to_csv_folder=path_to_csv,\n",
    "            yaml_path=path_to_yaml,\n",
    "            hyperparams=hp,\n",
    "            input_features=features_with_physics,\n",
    "            physics_informed=True,\n",
    "            physics_data_file=path_to_physics_data,\n",
    "            hourly=False,\n",
    "            extend_train_period=False,\n",
    "            gpu=0\n",
    "        )\n",
    "        metrics_dict = trainer.cross_validate()\n",
    "        row_data = {\"hidden_size\": hs, \"seq_length\": seq, \"num_layers\": nl, \"epochs\": ep, \"output_dropout\": fixed_dropout}\n",
    "        for k, v in metrics_dict.items():\n",
    "            row_data[k] = v\n",
    "        physics_results.append(row_data)\n",
    "    df_physics = pd.DataFrame(physics_results)\n",
    "    df_physics.sort_values(by=\"avg NSE\", ascending=False, inplace=True)\n",
    "    df_physics.reset_index(drop=True, inplace=True)\n",
    "    best_no_phys = df_no_physics.iloc[0].to_dict()\n",
    "    best_phys = df_physics.iloc[0].to_dict()\n",
    "    best_no_phys[\"model_type\"] = \"no_physics\"\n",
    "    best_phys[\"model_type\"] = \"physics\"\n",
    "    best_params_df = pd.DataFrame([best_no_phys, best_phys])\n",
    "    best_params_df.to_csv(hyperparam_csv_file, index=False)\n",
    "else:\n",
    "    print(\"Skipping Grid-Search\")"
   ]
  },
  {
   "cell_type": "code",
   "execution_count": null,
   "id": "b11f812f9a17e8ee",
   "metadata": {
    "ExecuteTime": {
     "end_time": "2025-02-25T02:13:25.867865Z",
     "start_time": "2025-02-25T02:13:25.858496Z"
    }
   },
   "outputs": [],
   "source": [
    "if os.path.exists(hyperparam_csv_file):\n",
    "    best_params_df = pd.read_csv(hyperparam_csv_file)\n",
    "    best_no_phys = best_params_df.query(\"model_type == 'no_physics'\").iloc[0].to_dict()\n",
    "    best_phys = best_params_df.query(\"model_type == 'physics'\").iloc[0].to_dict()\n",
    "\n",
    "    best_no_physics_params = {\n",
    "        \"epochs\": int(best_no_phys[\"epochs\"]),\n",
    "        \"hidden_size\": int(best_no_phys[\"hidden_size\"]),\n",
    "        \"seq_length\": int(best_no_phys[\"seq_length\"]),\n",
    "        \"num_layers\": int(best_no_phys[\"num_layers\"]),\n",
    "        \"output_dropout\": float(best_no_phys[\"output_dropout\"]),\n",
    "    }\n",
    "\n",
    "    best_physics_params = {\n",
    "        \"epochs\": int(best_phys[\"epochs\"]),\n",
    "        \"hidden_size\": int(best_phys[\"hidden_size\"]),\n",
    "        \"seq_length\": int(best_phys[\"seq_length\"]),\n",
    "        \"num_layers\": int(best_phys[\"num_layers\"]),\n",
    "        \"output_dropout\": float(best_phys[\"output_dropout\"]),\n",
    "    }"
   ]
  },
  {
   "cell_type": "code",
   "execution_count": null,
   "id": "7a20f945a8d6faaf",
   "metadata": {
    "ExecuteTime": {
     "end_time": "2025-02-25T02:13:25.870437Z",
     "start_time": "2025-02-25T02:13:25.868620Z"
    }
   },
   "outputs": [],
   "source": [
    "if run_gridsearch:\n",
    "    print(df_no_physics.iloc[0:4])\n",
    "    df_no_physics.to_csv(\"CV_guerneville_daily_no_physics_gridsearch.csv\", index=False)"
   ]
  },
  {
   "cell_type": "code",
   "execution_count": null,
   "id": "3f3ffbbf30cc8f47",
   "metadata": {
    "ExecuteTime": {
     "end_time": "2025-02-25T02:13:25.872698Z",
     "start_time": "2025-02-25T02:13:25.871183Z"
    }
   },
   "outputs": [],
   "source": [
    "if run_gridsearch:\n",
    "    print(df_physics.iloc[0:4])\n",
    "    df_physics.to_csv(\"CV_guerneville_daily_physics_gridsearch.csv\", index=False)"
   ]
  },
  {
   "cell_type": "markdown",
   "id": "123cb6193d34312f",
   "metadata": {},
   "source": [
    "### Re-run validation with best hyperparameters"
   ]
  },
  {
   "cell_type": "code",
   "execution_count": null,
   "id": "32a9f50a6752b170",
   "metadata": {
    "ExecuteTime": {
     "end_time": "2025-02-25T02:13:25.875282Z",
     "start_time": "2025-02-25T02:13:25.873367Z"
    }
   },
   "outputs": [],
   "source": [
    "if not skip_best_model_train:\n",
    "    lstmNoPhysicsValBest = UCB_trainer(\n",
    "        path_to_csv_folder=path_to_csv,\n",
    "        yaml_path=path_to_yaml,\n",
    "        hyperparams=best_no_physics_params,\n",
    "        input_features=None,\n",
    "        physics_informed=False,\n",
    "        physics_data_file=None,\n",
    "        hourly=False,\n",
    "        extend_train_period=False,\n",
    "        gpu=0\n",
    "    )\n",
    "    lstmNoPhysicsValBest.train()\n",
    "    no_physics_val_csv, no_physics_val_metrics = lstmNoPhysicsValBest.results()\n",
    "    no_physics_val_metrics"
   ]
  },
  {
   "cell_type": "code",
   "execution_count": null,
   "id": "ed22fc556a08b0c7",
   "metadata": {
    "ExecuteTime": {
     "end_time": "2025-02-25T02:13:25.878152Z",
     "start_time": "2025-02-25T02:13:25.875841Z"
    }
   },
   "outputs": [],
   "source": [
    "if not skip_best_model_train:\n",
    "    lstmPhysicsValBest = UCB_trainer(\n",
    "        path_to_csv_folder=path_to_csv,\n",
    "        yaml_path=path_to_yaml,\n",
    "        hyperparams=best_physics_params,\n",
    "        input_features=features_with_physics,\n",
    "        physics_informed=True,\n",
    "        physics_data_file=path_to_physics_data,\n",
    "        hourly=False,\n",
    "        extend_train_period=False,\n",
    "        gpu=0\n",
    "    )\n",
    "    lstmPhysicsValBest.train()\n",
    "    physics_val_csv, physics_val_metrics = lstmPhysicsValBest.results()\n",
    "    physics_val_metrics"
   ]
  },
  {
   "cell_type": "code",
   "execution_count": null,
   "id": "8b83f5c036d4d280",
   "metadata": {
    "ExecuteTime": {
     "end_time": "2025-02-25T02:13:26.289980Z",
     "start_time": "2025-02-25T02:13:25.878823Z"
    }
   },
   "outputs": [],
   "source": [
    "if not skip_best_model_train:\n",
    "    combinedPlot(\n",
    "        lstm_results=no_physics_val_csv,\n",
    "        lstmPhysics_results=physics_val_csv,\n",
    "        HMS_results=path_to_physics_data,\n",
    "        title=\"Guerneville Basin Daily Model Comparison (Validation)\",\n",
    "        fName=\"CV_guerneville_daily_val_metrics.csv\",\n",
    "        plot_filename=\"CV_guerneville_daily_val_model_comparison.png\",\n",
    "        timeseries_filename =\"CV_guerneville_daily_val_combined_ts.csv\"\n",
    "    )\n",
    "else:\n",
    "    combined_df = pd.read_csv(\"CV_guerneville_daily_val_combined_ts.csv\")\n",
    "    combinedPlotFromDf(combined_df, title=\"Guerneville Basin Daily Model Comparison (Validation)\", fName=\"CV_guerneville_daily_val_metrics.csv\")"
   ]
  },
  {
   "cell_type": "code",
   "execution_count": null,
   "id": "4608c9d5f2c85522",
   "metadata": {
    "ExecuteTime": {
     "end_time": "2025-02-25T02:13:26.858361Z",
     "start_time": "2025-02-25T02:13:26.291098Z"
    }
   },
   "outputs": [],
   "source": [
    "if not skip_best_model_train:\n",
    "    fancyCombinedPlot(\n",
    "        lstm_results=no_physics_val_csv,\n",
    "        lstmPhysics_results=physics_val_csv,\n",
    "        HMS_results=path_to_physics_data,\n",
    "        title='Guerneville Basin Daily Model Comparison (Validation)',\n",
    "        fName=\"CV_guerneville_daily_val_metrics.csv\",\n",
    "        timeseries_filename =\"CV_guerneville_daily_val_combined_ts.csv\"\n",
    "    )\n",
    "else:\n",
    "    fancyCombinedPlotFromDf(combined_df, title='Guerneville Basin Daily Model Comparison (Validation)', \n",
    "                            fName=\"CV_guerneville_daily_val_metrics.csv\")"
   ]
  },
  {
   "cell_type": "code",
   "execution_count": null,
   "id": "bb202397aa81286",
   "metadata": {},
   "outputs": [],
   "source": [
    "if skip_best_model_train:\n",
    "    val_metrics = pd.read_csv(\"CV_guerneville_daily_val_metrics.csv\")\n",
    "    val_metrics.index = [\"NSE\", \"MSE\", \"RMSE\", \"KGE\", \"Alpha-NSE\", \"Beta-KGE\", \"Beta-NSE\", \"Pearson-r\", \"FHV\", \"FMS\", \"FLV\", \"Peak-Timing\", \"Peak-MAPE\"]\n",
    "    print(val_metrics)"
   ]
  },
  {
   "cell_type": "markdown",
   "id": "63529a048b4e936a",
   "metadata": {},
   "source": [
    "### Re-run testing with best hyperparameters"
   ]
  },
  {
   "cell_type": "code",
   "execution_count": null,
   "id": "4961dfe2b46e301d",
   "metadata": {},
   "outputs": [],
   "source": [
    "if not skip_best_model_train:\n",
    "    lstmNoPhysicsExtBest = UCB_trainer(\n",
    "        path_to_csv_folder=path_to_csv,\n",
    "        yaml_path=path_to_yaml,\n",
    "        hyperparams=best_no_physics_params,\n",
    "        input_features=None,\n",
    "        physics_informed=False,\n",
    "        physics_data_file=None,\n",
    "        hourly=False,\n",
    "        extend_train_period=True,  \n",
    "        gpu=0\n",
    "    )\n",
    "    \n",
    "    lstmNoPhysicsExtBest.train()\n",
    "    no_physics_test_csv, no_physics_test_metrics = lstmNoPhysicsExtBest.results('test')\n",
    "    no_physics_test_metrics"
   ]
  },
  {
   "cell_type": "code",
   "execution_count": null,
   "id": "4b92de7ddcddfc5c",
   "metadata": {},
   "outputs": [],
   "source": [
    "if not skip_best_model_train:\n",
    "    lstmPhysicsExtBest = UCB_trainer(\n",
    "        path_to_csv_folder=path_to_csv,\n",
    "        yaml_path=path_to_yaml,\n",
    "        hyperparams=best_physics_params,\n",
    "        input_features=features_with_physics,\n",
    "        physics_informed=True,\n",
    "        physics_data_file=path_to_physics_data,\n",
    "        hourly=False,\n",
    "        extend_train_period=True,\n",
    "        gpu=0\n",
    "    )\n",
    "    \n",
    "    lstmPhysicsExtBest.train()\n",
    "    physics_test_csv, physics_test_metrics = lstmPhysicsExtBest.results('test')\n",
    "    physics_test_metrics"
   ]
  },
  {
   "cell_type": "code",
   "execution_count": null,
   "id": "c45082ef1fb131c7",
   "metadata": {
    "ExecuteTime": {
     "end_time": "2025-02-25T02:13:27.277904Z",
     "start_time": "2025-02-25T02:13:26.870512Z"
    }
   },
   "outputs": [],
   "source": [
    "if not skip_best_model_train:\n",
    "    combinedPlot(\n",
    "        lstm_results=no_physics_test_csv,\n",
    "        lstmPhysics_results=physics_test_csv,\n",
    "        HMS_results=path_to_physics_data,\n",
    "        title=\"Guerneville Basin Daily Model Comparison (Test)\",\n",
    "        fName=\"CV_guerneville_daily_test_metrics.csv\",\n",
    "        plot_filename=\"CV_guerneville_daily_model_comparison.png\",\n",
    "        timeseries_filename =\"CV_guerneville_daily_test_combined_ts.csv\"\n",
    "    )\n",
    "else:\n",
    "    combined_df = pd.read_csv(\"CV_guerneville_daily_test_combined_ts.csv\")\n",
    "    combinedPlotFromDf(combined_df, title=\"Guerneville Basin Daily Model Comparison (Test)\", fName=\"CV_guerneville_daily_test_metrics.csv\")"
   ]
  },
  {
   "cell_type": "code",
   "execution_count": null,
   "id": "93aa54c514d7d2fe",
   "metadata": {
    "ExecuteTime": {
     "end_time": "2025-02-25T02:13:27.466918Z",
     "start_time": "2025-02-25T02:13:27.279417Z"
    }
   },
   "outputs": [],
   "source": [
    "if not skip_best_model_train:\n",
    "    fancyCombinedPlot(lstm_results=no_physics_test_csv, lstmPhysics_results= physics_test_csv, HMS_results=path_to_physics_data, title='Guerneville Basin Daily Model Comparison', fName = \"CV_guerneville_daily_test_metrics.csv\", timeseries_filename =\"CV_guerneville_daily_test_combined_ts.csv\")\n",
    "else:\n",
    "    fancyCombinedPlotFromDf(combined_df, title='Guerneville Basin Daily Model Comparison', fName = \"CV_guerneville_daily_test_metrics.csv\")"
   ]
  },
  {
   "cell_type": "code",
   "execution_count": null,
   "id": "83a59788127747ba",
   "metadata": {
    "ExecuteTime": {
     "end_time": "2025-02-25T02:13:27.471877Z",
     "start_time": "2025-02-25T02:13:27.467626Z"
    }
   },
   "outputs": [],
   "source": [
    "if skip_best_model_train:\n",
    "    test_metrics = pd.read_csv(\"CV_guerneville_daily_test_metrics.csv\")\n",
    "    test_metrics.index = [\"NSE\", \"MSE\", \"RMSE\", \"KGE\", \"Alpha-NSE\", \"Beta-KGE\", \"Beta-NSE\", \"Pearson-r\", \"FHV\", \"FMS\", \"FLV\", \"Peak-Timing\", \"Peak-MAPE\"]\n",
    "    print(test_metrics)"
   ]
  }
 ],
 "metadata": {
  "kernelspec": {
   "display_name": "Python 3",
   "language": "python",
   "name": "python3"
  },
  "language_info": {
   "codemirror_mode": {
    "name": "ipython",
    "version": 3
   },
   "file_extension": ".py",
   "mimetype": "text/x-python",
   "name": "python",
   "nbconvert_exporter": "python",
   "pygments_lexer": "ipython3",
   "version": "3.11.0"
  }
 },
 "nbformat": 4,
 "nbformat_minor": 5
}
