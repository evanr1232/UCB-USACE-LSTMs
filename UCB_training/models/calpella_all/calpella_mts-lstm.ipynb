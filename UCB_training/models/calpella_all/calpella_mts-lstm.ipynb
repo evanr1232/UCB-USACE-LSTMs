{
 "cells": [
  {
   "cell_type": "code",
   "id": "initial_id",
   "metadata": {
    "collapsed": true,
    "ExecuteTime": {
     "end_time": "2025-02-24T22:46:07.089652Z",
     "start_time": "2025-02-24T22:46:07.084849Z"
    }
   },
   "source": [
    "import sys\n",
    "import os\n",
    "current_dir = os.getcwd()\n",
    "print(current_dir)"
   ],
   "outputs": [
    {
     "name": "stdout",
     "output_type": "stream",
     "text": [
      "/Users/canruso/Desktop/UCB-USACE-LSTMs/UCB_training/models/calpella_all\n"
     ]
    }
   ],
   "execution_count": 1
  },
  {
   "metadata": {
    "ExecuteTime": {
     "end_time": "2025-02-24T22:46:07.092637Z",
     "start_time": "2025-02-24T22:46:07.090704Z"
    }
   },
   "cell_type": "code",
   "source": [
    "library_path = os.path.join('..', '..', '..','..','UCB-USACE-LSTMs')\n",
    "sys.path.insert(0, library_path)\n",
    "print(sys.path)"
   ],
   "id": "fe9b94ac70f8f0c2",
   "outputs": [
    {
     "name": "stdout",
     "output_type": "stream",
     "text": [
      "['../../../../UCB-USACE-LSTMs', '/Users/canruso/Desktop/UCB-USACE-LSTMs/UCB_training/models/calpella_all', '/Users/canruso/Desktop', '/Users/canruso/miniforge3/envs/ESDL_LSTM/lib/python310.zip', '/Users/canruso/miniforge3/envs/ESDL_LSTM/lib/python3.10', '/Users/canruso/miniforge3/envs/ESDL_LSTM/lib/python3.10/lib-dynload', '', '/Users/canruso/miniforge3/envs/ESDL_LSTM/lib/python3.10/site-packages', '/Users/canruso/miniforge3/envs/ESDL_LSTM/lib/python3.10/site-packages/setuptools/_vendor']\n"
     ]
    }
   ],
   "execution_count": 2
  },
  {
   "metadata": {
    "ExecuteTime": {
     "end_time": "2025-02-24T22:46:09.321065Z",
     "start_time": "2025-02-24T22:46:07.093518Z"
    }
   },
   "cell_type": "code",
   "source": [
    "from pathlib import Path\n",
    "from neuralhydrology.evaluation.metrics import *\n",
    "from UCB_training.UCB_train import UCB_trainer\n",
    "from UCB_training.UCB_utils import (combinedPlot, fancyCombinedPlot, combinedPlotFromDf, fancyCombinedPlotFromDf)"
   ],
   "id": "931374ee7b889954",
   "outputs": [],
   "execution_count": 3
  },
  {
   "metadata": {
    "ExecuteTime": {
     "end_time": "2025-02-24T22:46:09.324876Z",
     "start_time": "2025-02-24T22:46:09.321987Z"
    }
   },
   "cell_type": "code",
   "source": [
    "# Dynamically find the repo root from the current working directory\n",
    "current_path = os.getcwd()\n",
    "library_path = current_path.split('UCB-USACE-LSTMs')[0] + 'UCB-USACE-LSTMs'\n",
    "\n",
    "# Construct the target path\n",
    "target_path = os.path.join(library_path, 'UCB_training', 'models', 'calpella_all')\n",
    "\n",
    "# Verify if the directory exists before changing\n",
    "if os.path.exists(target_path):\n",
    "    os.chdir(target_path)\n",
    "    print(\"Current Working Directory:\", os.getcwd())\n",
    "    print(\"Train Basin File Exists:\", os.path.exists(\"calpella\")) \n",
    "else:\n",
    "    print(f\"Error: The target path '{target_path}' does not exist.\")"
   ],
   "id": "b092883bb53797fd",
   "outputs": [
    {
     "name": "stdout",
     "output_type": "stream",
     "text": [
      "Current Working Directory: /Users/canruso/Desktop/UCB-USACE-LSTMs/UCB_training/models/calpella_all\n",
      "Train Basin File Exists: True\n"
     ]
    }
   ],
   "execution_count": 4
  },
  {
   "metadata": {
    "ExecuteTime": {
     "end_time": "2025-02-24T22:46:09.328648Z",
     "start_time": "2025-02-24T22:46:09.326543Z"
    }
   },
   "cell_type": "code",
   "source": [
    "path_to_csv = Path(library_path +'/russian_river_data')\n",
    "path_to_yaml = Path(\"calpella_mtslstm.yaml\") \n"
   ],
   "id": "eb8121ea7c498434",
   "outputs": [],
   "execution_count": 5
  },
  {
   "metadata": {
    "ExecuteTime": {
     "end_time": "2025-02-24T22:46:09.331069Z",
     "start_time": "2025-02-24T22:46:09.329390Z"
    }
   },
   "cell_type": "code",
   "source": [
    "params = {\n",
    "    \"epochs\": 16,\n",
    "    \"hidden_size\": 128,\n",
    "    \"output_dropout\": 0.4,\n",
    "    \"seq_length\": {\"1D\": 90, \"1H\": 336}\n",
    "}"
   ],
   "id": "db40b17fe84fbc12",
   "outputs": [],
   "execution_count": 6
  },
  {
   "metadata": {
    "ExecuteTime": {
     "end_time": "2025-02-25T01:13:43.093661Z",
     "start_time": "2025-02-25T01:12:39.211222Z"
    }
   },
   "cell_type": "code",
   "source": [
    "mtsNoPhysTrainer = UCB_trainer(\n",
    "    path_to_csv_folder=path_to_csv,\n",
    "    yaml_path=path_to_yaml,\n",
    "    hyperparams=params,\n",
    "    physics_informed=False,      \n",
    "    physics_data_file=None,\n",
    "    hourly=True,                \n",
    "    extend_train_period=False,\n",
    "    gpu=-1\n",
    ")\n",
    "mtsNoPhysTrainer.train()"
   ],
   "id": "fdee4b3e56bebb38",
   "outputs": [
    {
     "name": "stdout",
     "output_type": "stream",
     "text": [
      "2025-02-24 17:12:39,218: Logging to /Users/canruso/Desktop/UCB-USACE-LSTMs/UCB_training/models/calpella_all/runs/testing_run_2402_171239/output.log initialized.\n",
      "2025-02-24 17:12:39,219: ### Folder structure created at /Users/canruso/Desktop/UCB-USACE-LSTMs/UCB_training/models/calpella_all/runs/testing_run_2402_171239\n",
      "2025-02-24 17:12:39,219: ### Run configurations for testing_run\n",
      "2025-02-24 17:12:39,220: experiment_name: testing_run\n",
      "2025-02-24 17:12:39,220: train_basin_file: calpella\n",
      "2025-02-24 17:12:39,221: validation_basin_file: calpella\n",
      "2025-02-24 17:12:39,221: test_basin_file: calpella\n",
      "2025-02-24 17:12:39,221: train_start_date: 1994-10-02 00:00:00\n",
      "2025-02-24 17:12:39,222: train_end_date: 2002-09-30 00:00:00\n",
      "2025-02-24 17:12:39,222: validation_start_date: 2002-10-01 00:00:00\n",
      "2025-02-24 17:12:39,222: validation_end_date: 2005-09-30 00:00:00\n",
      "2025-02-24 17:12:39,222: test_start_date: 2005-10-01 00:00:00\n",
      "2025-02-24 17:12:39,223: test_end_date: 2009-09-30 00:00:00\n",
      "2025-02-24 17:12:39,223: device: cpu\n",
      "2025-02-24 17:12:39,223: physics_informed: False\n",
      "2025-02-24 17:12:39,224: physics_data_file: None\n",
      "2025-02-24 17:12:39,224: validate_every: 5\n",
      "2025-02-24 17:12:39,224: validate_n_random_basins: 1\n",
      "2025-02-24 17:12:39,224: save_validation_results: True\n",
      "2025-02-24 17:12:39,225: metrics: ['NSE', 'MSE']\n",
      "2025-02-24 17:12:39,225: model: mtslstm\n",
      "2025-02-24 17:12:39,225: shared_mtslstm: False\n",
      "2025-02-24 17:12:39,226: transfer_mtslstm_states: {'h': 'linear', 'c': 'linear'}\n",
      "2025-02-24 17:12:39,226: use_frequencies: ['1H', '1D']\n",
      "2025-02-24 17:12:39,226: head: regression\n",
      "2025-02-24 17:12:39,226: output_activation: linear\n",
      "2025-02-24 17:12:39,227: hidden_size: 128\n",
      "2025-02-24 17:12:39,227: initial_forget_bias: 3\n",
      "2025-02-24 17:12:39,228: output_dropout: 0.4\n",
      "2025-02-24 17:12:39,228: optimizer: Adam\n",
      "2025-02-24 17:12:39,229: loss: NSE\n",
      "2025-02-24 17:12:39,229: learning_rate: {0: 0.01, 30: 0.005, 40: 0.001}\n",
      "2025-02-24 17:12:39,229: batch_size: 256\n",
      "2025-02-24 17:12:39,230: epochs: 8\n",
      "2025-02-24 17:12:39,230: clip_gradient_norm: 1\n",
      "2025-02-24 17:12:39,230: predict_last_n: {'1D': 1, '1H': 24}\n",
      "2025-02-24 17:12:39,231: seq_length: {'1D': 90, '1H': 336}\n",
      "2025-02-24 17:12:39,231: log_interval: 16\n",
      "2025-02-24 17:12:39,231: log_tensorboard: True\n",
      "2025-02-24 17:12:39,231: log_n_figures: 1\n",
      "2025-02-24 17:12:39,232: save_weights_every: 8\n",
      "2025-02-24 17:12:39,232: dataset: russian_river\n",
      "2025-02-24 17:12:39,232: data_dir: /Users/canruso/Desktop/UCB-USACE-LSTMs/russian_river_data\n",
      "2025-02-24 17:12:39,232: dynamic_inputs: {'1D': ['EF RUSSIAN 20 ET-POTENTIAL RUN:BASIN AVERAGE 60 YR', 'EF RUSSIAN 20 PRECIP-INC SCREENED', 'POTTER VALLEY CA FLOW USGS_ADJUSTED', 'UKIAH CA HUMIDITY USAF-NOAA', 'UKIAH CA SOLAR RADIATION USAF-NOAA', 'UKIAH CA TEMPERATURE USAF-NOAA', 'UKIAH CA WINDSPEED USAF-NOAA'], '1H': ['EF RUSSIAN 20 ET-POTENTIAL RUN:BASIN AVERAGE 60 YR', 'EF RUSSIAN 20 PRECIP-INC SCREENED', 'POTTER VALLEY CA FLOW USGS_ADJUSTED', 'UKIAH CA HUMIDITY USAF-NOAA', 'UKIAH CA SOLAR RADIATION USAF-NOAA', 'UKIAH CA TEMPERATURE USAF-NOAA', 'UKIAH CA WINDSPEED USAF-NOAA']}\n",
      "2025-02-24 17:12:39,233: target_variables: ['NR CALPELLA FLOW COE CPL']\n",
      "2025-02-24 17:12:39,233: clip_targets_to_zero: [['NR CALPELLA FLOW COE CPL']]\n",
      "2025-02-24 17:12:39,233: hourly: True\n",
      "2025-02-24 17:12:39,234: dev_mode: True\n",
      "2025-02-24 17:12:39,234: number_of_basins: 1\n",
      "2025-02-24 17:12:39,234: run_dir: /Users/canruso/Desktop/UCB-USACE-LSTMs/UCB_training/models/calpella_all/runs/testing_run_2402_171239\n",
      "2025-02-24 17:12:39,235: train_dir: /Users/canruso/Desktop/UCB-USACE-LSTMs/UCB_training/models/calpella_all/runs/testing_run_2402_171239/train_data\n",
      "2025-02-24 17:12:39,235: img_log_dir: /Users/canruso/Desktop/UCB-USACE-LSTMs/UCB_training/models/calpella_all/runs/testing_run_2402_171239/img_log\n",
      "2025-02-24 17:12:39,240: ### Device cpu will be used for training\n",
      "2025-02-24 17:12:39,241: Loading basin data into xarray data set.\n",
      "100%|██████████| 1/1 [00:01<00:00,  1.72s/it]\n",
      "2025-02-24 17:12:40,974: Calculating target variable stds per basin\n"
     ]
    },
    {
     "name": "stderr",
     "output_type": "stream",
     "text": [
      "/Users/canruso/Desktop/UCB-USACE-LSTMs/UCB_training/models/calpella_all/../../../../UCB-USACE-LSTMs/neuralhydrology/datautils/utils.py:339: FutureWarning: 'H' is deprecated and will be removed in a future version, please use 'h' instead.\n",
      "  offset_one = to_offset(freq_one)\n",
      "/Users/canruso/Desktop/UCB-USACE-LSTMs/UCB_training/models/calpella_all/../../../../UCB-USACE-LSTMs/neuralhydrology/datasetzoo/basedataset.py:396: FutureWarning: 'H' is deprecated and will be removed in a future version, please use 'h' instead.\n",
      "  offsets = [(self.seq_len[i] - self._predict_last_n[i]) * to_offset(freq)\n",
      "/Users/canruso/Desktop/UCB-USACE-LSTMs/UCB_training/models/calpella_all/../../../../UCB-USACE-LSTMs/neuralhydrology/datasetzoo/basedataset.py:403: FutureWarning: 'H' is deprecated and will be removed in a future version, please use 'h' instead.\n",
      "  if not all(to_offset(freq).is_on_offset(start_date) for freq in self.frequencies):\n"
     ]
    },
    {
     "name": "stdout",
     "output_type": "stream",
     "text": [
      "100%|██████████| 1/1 [00:00<00:00, 293.08it/s]\n",
      "2025-02-24 17:12:40,988: Create lookup table and convert to pytorch tensor\n",
      "100%|██████████| 1/1 [00:00<00:00, 12.87it/s]\n",
      "2025-02-24 17:12:41,082: No specific hidden size for frequencies are specified. Same hidden size is used for all.\n"
     ]
    },
    {
     "name": "stderr",
     "output_type": "stream",
     "text": [
      "/Users/canruso/Desktop/UCB-USACE-LSTMs/UCB_training/models/calpella_all/../../../../UCB-USACE-LSTMs/neuralhydrology/datautils/utils.py:340: FutureWarning: 'H' is deprecated and will be removed in a future version, please use 'h' instead.\n",
      "  offset_two = to_offset(freq_two)\n",
      "/Users/canruso/Desktop/UCB-USACE-LSTMs/UCB_training/models/calpella_all/../../../../UCB-USACE-LSTMs/neuralhydrology/datautils/utils.py:382: FutureWarning: 'H' is deprecated and will be removed in a future version. Please use 'h' instead of 'H'.\n",
      "  factor = pd.to_timedelta(freq_one) / pd.to_timedelta(freq_two)\n",
      "/Users/canruso/Desktop/UCB-USACE-LSTMs/UCB_training/models/calpella_all/../../../../UCB-USACE-LSTMs/neuralhydrology/datasetzoo/basedataset.py:555: FutureWarning: 'H' is deprecated and will be removed in a future version, please use 'h' instead.\n",
      "  self.cfg.autoregressive_inputs].resample(freq).mean()\n",
      "/Users/canruso/Desktop/UCB-USACE-LSTMs/UCB_training/models/calpella_all/../../../../UCB-USACE-LSTMs/neuralhydrology/datautils/utils.py:340: FutureWarning: 'H' is deprecated and will be removed in a future version, please use 'h' instead.\n",
      "  offset_two = to_offset(freq_two)\n",
      "/Users/canruso/Desktop/UCB-USACE-LSTMs/UCB_training/models/calpella_all/../../../../UCB-USACE-LSTMs/neuralhydrology/datautils/utils.py:382: FutureWarning: 'H' is deprecated and will be removed in a future version. Please use 'h' instead of 'H'.\n",
      "  factor = pd.to_timedelta(freq_one) / pd.to_timedelta(freq_two)\n",
      "/Users/canruso/Desktop/UCB-USACE-LSTMs/UCB_training/models/calpella_all/../../../../UCB-USACE-LSTMs/neuralhydrology/datautils/utils.py:340: FutureWarning: 'H' is deprecated and will be removed in a future version, please use 'h' instead.\n",
      "  offset_two = to_offset(freq_two)\n",
      "/Users/canruso/Desktop/UCB-USACE-LSTMs/UCB_training/models/calpella_all/../../../../UCB-USACE-LSTMs/neuralhydrology/datautils/utils.py:382: FutureWarning: 'H' is deprecated and will be removed in a future version. Please use 'h' instead of 'H'.\n",
      "  factor = pd.to_timedelta(freq_one) / pd.to_timedelta(freq_two)\n"
     ]
    },
    {
     "name": "stdout",
     "output_type": "stream",
     "text": [
      "# Epoch 1: 100%|██████████| 11/11 [00:07<00:00,  1.53it/s, Loss: 0.0000]\n",
      "2025-02-24 17:12:48,482: Epoch 1 average loss: avg_loss: 0.00001, avg_total_loss: 0.00001\n",
      "# Epoch 2: 100%|██████████| 11/11 [00:06<00:00,  1.61it/s, Loss: 0.0000]\n",
      "2025-02-24 17:12:55,322: Epoch 2 average loss: avg_loss: 0.00000, avg_total_loss: 0.00000\n",
      "# Epoch 3: 100%|██████████| 11/11 [00:06<00:00,  1.68it/s, Loss: 0.0000]\n",
      "2025-02-24 17:13:01,874: Epoch 3 average loss: avg_loss: 0.00000, avg_total_loss: 0.00000\n",
      "# Epoch 4: 100%|██████████| 11/11 [00:06<00:00,  1.68it/s, Loss: 0.0000]\n",
      "2025-02-24 17:13:08,444: Epoch 4 average loss: avg_loss: 0.00000, avg_total_loss: 0.00000\n",
      "# Epoch 5: 100%|██████████| 11/11 [00:06<00:00,  1.64it/s, Loss: 0.0000]\n",
      "2025-02-24 17:13:15,154: Epoch 5 average loss: avg_loss: 0.00000, avg_total_loss: 0.00000\n",
      "# Validation:   0%|          | 0/1 [00:00<?, ?it/s]"
     ]
    },
    {
     "name": "stderr",
     "output_type": "stream",
     "text": [
      "/Users/canruso/Desktop/UCB-USACE-LSTMs/UCB_training/models/calpella_all/../../../../UCB-USACE-LSTMs/neuralhydrology/datautils/utils.py:339: FutureWarning: 'H' is deprecated and will be removed in a future version, please use 'h' instead.\n",
      "  offset_one = to_offset(freq_one)\n",
      "/Users/canruso/Desktop/UCB-USACE-LSTMs/UCB_training/models/calpella_all/../../../../UCB-USACE-LSTMs/neuralhydrology/datasetzoo/basedataset.py:396: FutureWarning: 'H' is deprecated and will be removed in a future version, please use 'h' instead.\n",
      "  offsets = [(self.seq_len[i] - self._predict_last_n[i]) * to_offset(freq)\n",
      "/Users/canruso/Desktop/UCB-USACE-LSTMs/UCB_training/models/calpella_all/../../../../UCB-USACE-LSTMs/neuralhydrology/datasetzoo/basedataset.py:403: FutureWarning: 'H' is deprecated and will be removed in a future version, please use 'h' instead.\n",
      "  if not all(to_offset(freq).is_on_offset(start_date) for freq in self.frequencies):\n",
      "/Users/canruso/Desktop/UCB-USACE-LSTMs/UCB_training/models/calpella_all/../../../../UCB-USACE-LSTMs/neuralhydrology/datautils/utils.py:340: FutureWarning: 'H' is deprecated and will be removed in a future version, please use 'h' instead.\n",
      "  offset_two = to_offset(freq_two)\n",
      "/Users/canruso/Desktop/UCB-USACE-LSTMs/UCB_training/models/calpella_all/../../../../UCB-USACE-LSTMs/neuralhydrology/datautils/utils.py:382: FutureWarning: 'H' is deprecated and will be removed in a future version. Please use 'h' instead of 'H'.\n",
      "  factor = pd.to_timedelta(freq_one) / pd.to_timedelta(freq_two)\n",
      "/Users/canruso/Desktop/UCB-USACE-LSTMs/UCB_training/models/calpella_all/../../../../UCB-USACE-LSTMs/neuralhydrology/datasetzoo/basedataset.py:555: FutureWarning: 'H' is deprecated and will be removed in a future version, please use 'h' instead.\n",
      "  self.cfg.autoregressive_inputs].resample(freq).mean()\n",
      "/Users/canruso/Desktop/UCB-USACE-LSTMs/UCB_training/models/calpella_all/../../../../UCB-USACE-LSTMs/neuralhydrology/datautils/utils.py:340: FutureWarning: 'H' is deprecated and will be removed in a future version, please use 'h' instead.\n",
      "  offset_two = to_offset(freq_two)\n",
      "/Users/canruso/Desktop/UCB-USACE-LSTMs/UCB_training/models/calpella_all/../../../../UCB-USACE-LSTMs/neuralhydrology/datautils/utils.py:382: FutureWarning: 'H' is deprecated and will be removed in a future version. Please use 'h' instead of 'H'.\n",
      "  factor = pd.to_timedelta(freq_one) / pd.to_timedelta(freq_two)\n"
     ]
    },
    {
     "name": "stdout",
     "output_type": "stream",
     "text": [
      "# Validation: 100%|██████████| 1/1 [00:03<00:00,  3.22s/it]"
     ]
    },
    {
     "name": "stderr",
     "output_type": "stream",
     "text": [
      "/Users/canruso/Desktop/UCB-USACE-LSTMs/UCB_training/models/calpella_all/../../../../UCB-USACE-LSTMs/neuralhydrology/datautils/utils.py:340: FutureWarning: 'H' is deprecated and will be removed in a future version, please use 'h' instead.\n",
      "  offset_two = to_offset(freq_two)\n",
      "/Users/canruso/Desktop/UCB-USACE-LSTMs/UCB_training/models/calpella_all/../../../../UCB-USACE-LSTMs/neuralhydrology/datautils/utils.py:382: FutureWarning: 'H' is deprecated and will be removed in a future version. Please use 'h' instead of 'H'.\n",
      "  factor = pd.to_timedelta(freq_one) / pd.to_timedelta(freq_two)\n",
      "/Users/canruso/Desktop/UCB-USACE-LSTMs/UCB_training/models/calpella_all/../../../../UCB-USACE-LSTMs/neuralhydrology/datautils/utils.py:340: FutureWarning: 'H' is deprecated and will be removed in a future version, please use 'h' instead.\n",
      "  offset_two = to_offset(freq_two)\n",
      "/Users/canruso/Desktop/UCB-USACE-LSTMs/UCB_training/models/calpella_all/../../../../UCB-USACE-LSTMs/neuralhydrology/datautils/utils.py:382: FutureWarning: 'H' is deprecated and will be removed in a future version. Please use 'h' instead of 'H'.\n",
      "  factor = pd.to_timedelta(freq_one) / pd.to_timedelta(freq_two)\n",
      "/Users/canruso/Desktop/UCB-USACE-LSTMs/UCB_training/models/calpella_all/../../../../UCB-USACE-LSTMs/neuralhydrology/evaluation/tester.py:265: FutureWarning: 'H' is deprecated and will be removed in a future version. Please use 'h' instead of 'H'.\n",
      "  'time_step': ((dates[freq][0, :] - dates[freq][0, -1]) / pd.Timedelta(freq)).astype(np.int64) +\n",
      "/Users/canruso/Desktop/UCB-USACE-LSTMs/UCB_training/models/calpella_all/../../../../UCB-USACE-LSTMs/neuralhydrology/evaluation/tester.py:277: FutureWarning: 'H' is deprecated and will be removed in a future version, please use 'h' instead.\n",
      "  freq_date_range = pd.date_range(start=dates[lowest_freq][0, -1], end=dates[freq][-1, -1], freq=freq)\n"
     ]
    },
    {
     "name": "stdout",
     "output_type": "stream",
     "text": [
      "\n",
      "2025-02-24 17:13:18,869: Stored metrics at /Users/canruso/Desktop/UCB-USACE-LSTMs/UCB_training/models/calpella_all/runs/testing_run_2402_171239/validation/model_epoch005/validation_metrics.csv\n",
      "2025-02-24 17:13:18,871: Stored results at /Users/canruso/Desktop/UCB-USACE-LSTMs/UCB_training/models/calpella_all/runs/testing_run_2402_171239/validation/model_epoch005/validation_results.p\n",
      "2025-02-24 17:13:18,873: Epoch 5 average validation loss: 0.00000 -- Median validation metrics: avg_loss: 0.00000, NSE_1H: 0.70792, MSE_1H: 63798.66406, NSE_1D: 0.71351, MSE_1D: 49058.53906\n",
      "# Epoch 6: 100%|██████████| 11/11 [00:06<00:00,  1.61it/s, Loss: 0.0000]\n",
      "2025-02-24 17:13:25,695: Epoch 6 average loss: avg_loss: 0.00000, avg_total_loss: 0.00000\n",
      "# Epoch 7: 100%|██████████| 11/11 [00:07<00:00,  1.55it/s, Loss: 0.0000]\n",
      "2025-02-24 17:13:32,809: Epoch 7 average loss: avg_loss: 0.00000, avg_total_loss: 0.00000\n",
      "# Epoch 8: 100%|██████████| 11/11 [00:06<00:00,  1.63it/s, Loss: 0.0000]\n",
      "2025-02-24 17:13:39,560: Epoch 8 average loss: avg_loss: 0.00000, avg_total_loss: 0.00000\n",
      "2025-02-24 17:13:39,587: No specific hidden size for frequencies are specified. Same hidden size is used for all.\n",
      "2025-02-24 17:13:39,602: Using the model weights from /Users/canruso/Desktop/UCB-USACE-LSTMs/UCB_training/models/calpella_all/runs/testing_run_2402_171239/model_epoch008.pt\n"
     ]
    },
    {
     "name": "stderr",
     "output_type": "stream",
     "text": [
      "/Users/canruso/Desktop/UCB-USACE-LSTMs/UCB_training/models/calpella_all/../../../../UCB-USACE-LSTMs/neuralhydrology/datautils/utils.py:340: FutureWarning: 'H' is deprecated and will be removed in a future version, please use 'h' instead.\n",
      "  offset_two = to_offset(freq_two)\n",
      "/Users/canruso/Desktop/UCB-USACE-LSTMs/UCB_training/models/calpella_all/../../../../UCB-USACE-LSTMs/neuralhydrology/datautils/utils.py:382: FutureWarning: 'H' is deprecated and will be removed in a future version. Please use 'h' instead of 'H'.\n",
      "  factor = pd.to_timedelta(freq_one) / pd.to_timedelta(freq_two)\n",
      "/Users/canruso/Desktop/UCB-USACE-LSTMs/UCB_training/models/calpella_all/../../../../UCB-USACE-LSTMs/neuralhydrology/evaluation/tester.py:133: FutureWarning: You are using `torch.load` with `weights_only=False` (the current default value), which uses the default pickle module implicitly. It is possible to construct malicious pickle data which will execute arbitrary code during unpickling (See https://github.com/pytorch/pytorch/blob/main/SECURITY.md#untrusted-models for more details). In a future release, the default value for `weights_only` will be flipped to `True`. This limits the functions that could be executed during unpickling. Arbitrary objects will no longer be allowed to be loaded via this mode unless they are explicitly allowlisted by the user via `torch.serialization.add_safe_globals`. We recommend you start setting `weights_only=True` for any use case where you don't have full control of the loaded file. Please open an issue on GitHub for any issues related to this experimental feature.\n",
      "  self.model.load_state_dict(torch.load(weight_file, map_location=self.device))\n"
     ]
    },
    {
     "name": "stdout",
     "output_type": "stream",
     "text": [
      "# Validation:   0%|          | 0/1 [00:00<?, ?it/s]"
     ]
    },
    {
     "name": "stderr",
     "output_type": "stream",
     "text": [
      "/Users/canruso/Desktop/UCB-USACE-LSTMs/UCB_training/models/calpella_all/../../../../UCB-USACE-LSTMs/neuralhydrology/datautils/utils.py:339: FutureWarning: 'H' is deprecated and will be removed in a future version, please use 'h' instead.\n",
      "  offset_one = to_offset(freq_one)\n",
      "/Users/canruso/Desktop/UCB-USACE-LSTMs/UCB_training/models/calpella_all/../../../../UCB-USACE-LSTMs/neuralhydrology/datasetzoo/basedataset.py:396: FutureWarning: 'H' is deprecated and will be removed in a future version, please use 'h' instead.\n",
      "  offsets = [(self.seq_len[i] - self._predict_last_n[i]) * to_offset(freq)\n",
      "/Users/canruso/Desktop/UCB-USACE-LSTMs/UCB_training/models/calpella_all/../../../../UCB-USACE-LSTMs/neuralhydrology/datasetzoo/basedataset.py:403: FutureWarning: 'H' is deprecated and will be removed in a future version, please use 'h' instead.\n",
      "  if not all(to_offset(freq).is_on_offset(start_date) for freq in self.frequencies):\n",
      "/Users/canruso/Desktop/UCB-USACE-LSTMs/UCB_training/models/calpella_all/../../../../UCB-USACE-LSTMs/neuralhydrology/datautils/utils.py:340: FutureWarning: 'H' is deprecated and will be removed in a future version, please use 'h' instead.\n",
      "  offset_two = to_offset(freq_two)\n",
      "/Users/canruso/Desktop/UCB-USACE-LSTMs/UCB_training/models/calpella_all/../../../../UCB-USACE-LSTMs/neuralhydrology/datautils/utils.py:382: FutureWarning: 'H' is deprecated and will be removed in a future version. Please use 'h' instead of 'H'.\n",
      "  factor = pd.to_timedelta(freq_one) / pd.to_timedelta(freq_two)\n",
      "/Users/canruso/Desktop/UCB-USACE-LSTMs/UCB_training/models/calpella_all/../../../../UCB-USACE-LSTMs/neuralhydrology/datasetzoo/basedataset.py:555: FutureWarning: 'H' is deprecated and will be removed in a future version, please use 'h' instead.\n",
      "  self.cfg.autoregressive_inputs].resample(freq).mean()\n",
      "/Users/canruso/Desktop/UCB-USACE-LSTMs/UCB_training/models/calpella_all/../../../../UCB-USACE-LSTMs/neuralhydrology/datautils/utils.py:340: FutureWarning: 'H' is deprecated and will be removed in a future version, please use 'h' instead.\n",
      "  offset_two = to_offset(freq_two)\n",
      "/Users/canruso/Desktop/UCB-USACE-LSTMs/UCB_training/models/calpella_all/../../../../UCB-USACE-LSTMs/neuralhydrology/datautils/utils.py:382: FutureWarning: 'H' is deprecated and will be removed in a future version. Please use 'h' instead of 'H'.\n",
      "  factor = pd.to_timedelta(freq_one) / pd.to_timedelta(freq_two)\n"
     ]
    },
    {
     "name": "stdout",
     "output_type": "stream",
     "text": [
      "# Validation: 100%|██████████| 1/1 [00:03<00:00,  3.48s/it]\n",
      "2025-02-24 17:13:43,088: Stored metrics at /Users/canruso/Desktop/UCB-USACE-LSTMs/UCB_training/models/calpella_all/runs/testing_run_2402_171239/validation/model_epoch008/validation_metrics.csv\n",
      "2025-02-24 17:13:43,089: Stored results at /Users/canruso/Desktop/UCB-USACE-LSTMs/UCB_training/models/calpella_all/runs/testing_run_2402_171239/validation/model_epoch008/validation_results.p\n"
     ]
    },
    {
     "name": "stderr",
     "output_type": "stream",
     "text": [
      "/Users/canruso/Desktop/UCB-USACE-LSTMs/UCB_training/models/calpella_all/../../../../UCB-USACE-LSTMs/neuralhydrology/datautils/utils.py:340: FutureWarning: 'H' is deprecated and will be removed in a future version, please use 'h' instead.\n",
      "  offset_two = to_offset(freq_two)\n",
      "/Users/canruso/Desktop/UCB-USACE-LSTMs/UCB_training/models/calpella_all/../../../../UCB-USACE-LSTMs/neuralhydrology/datautils/utils.py:382: FutureWarning: 'H' is deprecated and will be removed in a future version. Please use 'h' instead of 'H'.\n",
      "  factor = pd.to_timedelta(freq_one) / pd.to_timedelta(freq_two)\n",
      "/Users/canruso/Desktop/UCB-USACE-LSTMs/UCB_training/models/calpella_all/../../../../UCB-USACE-LSTMs/neuralhydrology/datautils/utils.py:340: FutureWarning: 'H' is deprecated and will be removed in a future version, please use 'h' instead.\n",
      "  offset_two = to_offset(freq_two)\n",
      "/Users/canruso/Desktop/UCB-USACE-LSTMs/UCB_training/models/calpella_all/../../../../UCB-USACE-LSTMs/neuralhydrology/datautils/utils.py:382: FutureWarning: 'H' is deprecated and will be removed in a future version. Please use 'h' instead of 'H'.\n",
      "  factor = pd.to_timedelta(freq_one) / pd.to_timedelta(freq_two)\n",
      "/Users/canruso/Desktop/UCB-USACE-LSTMs/UCB_training/models/calpella_all/../../../../UCB-USACE-LSTMs/neuralhydrology/evaluation/tester.py:265: FutureWarning: 'H' is deprecated and will be removed in a future version. Please use 'h' instead of 'H'.\n",
      "  'time_step': ((dates[freq][0, :] - dates[freq][0, -1]) / pd.Timedelta(freq)).astype(np.int64) +\n",
      "/Users/canruso/Desktop/UCB-USACE-LSTMs/UCB_training/models/calpella_all/../../../../UCB-USACE-LSTMs/neuralhydrology/evaluation/tester.py:277: FutureWarning: 'H' is deprecated and will be removed in a future version, please use 'h' instead.\n",
      "  freq_date_range = pd.date_range(start=dates[lowest_freq][0, -1], end=dates[freq][-1, -1], freq=freq)\n"
     ]
    },
    {
     "data": {
      "text/plain": [
       "PosixPath('/Users/canruso/Desktop/UCB-USACE-LSTMs/UCB_training/models/calpella_all/runs/testing_run_2402_171239')"
      ]
     },
     "execution_count": 9,
     "metadata": {},
     "output_type": "execute_result"
    }
   ],
   "execution_count": 9
  },
  {
   "metadata": {
    "ExecuteTime": {
     "end_time": "2025-02-24T22:47:12.237262Z",
     "start_time": "2025-02-24T22:47:12.235632Z"
    }
   },
   "cell_type": "code",
   "source": "",
   "id": "7110794cc1845993",
   "outputs": [],
   "execution_count": 7
  }
 ],
 "metadata": {
  "kernelspec": {
   "display_name": "Python 3",
   "language": "python",
   "name": "python3"
  },
  "language_info": {
   "codemirror_mode": {
    "name": "ipython",
    "version": 2
   },
   "file_extension": ".py",
   "mimetype": "text/x-python",
   "name": "python",
   "nbconvert_exporter": "python",
   "pygments_lexer": "ipython2",
   "version": "2.7.6"
  }
 },
 "nbformat": 4,
 "nbformat_minor": 5
}
