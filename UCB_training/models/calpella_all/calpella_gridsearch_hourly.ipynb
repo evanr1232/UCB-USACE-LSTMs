{
 "cells": [
  {
   "metadata": {
    "ExecuteTime": {
     "end_time": "2025-02-17T01:50:35.545995Z",
     "start_time": "2025-02-17T01:50:35.540615Z"
    }
   },
   "cell_type": "code",
   "source": [
    "run_gridsearch = False  \n",
    "hyperparam_csv_file = \"calpella_hourly_hyperparams.csv\""
   ],
   "id": "48cebc3de75b33e4",
   "outputs": [],
   "execution_count": 1
  },
  {
   "metadata": {
    "ExecuteTime": {
     "end_time": "2025-02-17T01:50:35.978330Z",
     "start_time": "2025-02-17T01:50:35.547131Z"
    }
   },
   "cell_type": "code",
   "source": [
    "import sys\n",
    "import os\n",
    "import itertools\n",
    "import pandas as pd\n",
    "current_dir = os.getcwd()\n",
    "print(current_dir)"
   ],
   "id": "d15b8b7a8c5e86f7",
   "outputs": [
    {
     "name": "stdout",
     "output_type": "stream",
     "text": [
      "/Users/canruso/Desktop/UCB-USACE-LSTMs/UCB_training/models/calpella_all\n"
     ]
    }
   ],
   "execution_count": 2
  },
  {
   "metadata": {
    "ExecuteTime": {
     "end_time": "2025-02-17T01:50:35.981393Z",
     "start_time": "2025-02-17T01:50:35.979218Z"
    }
   },
   "cell_type": "code",
   "source": [
    "library_path = os.path.join('..', '..', '..','..','UCB-USACE-LSTMs')\n",
    "sys.path.insert(0, library_path)\n",
    "print(sys.path)"
   ],
   "id": "d09a34b33a33f17a",
   "outputs": [
    {
     "name": "stdout",
     "output_type": "stream",
     "text": [
      "['../../../../UCB-USACE-LSTMs', '/Users/canruso/Desktop/UCB-USACE-LSTMs/UCB_training/models/calpella_all', '/Users/canruso/Desktop', '/Users/canruso/miniforge3/envs/ESDL_LSTM/lib/python310.zip', '/Users/canruso/miniforge3/envs/ESDL_LSTM/lib/python3.10', '/Users/canruso/miniforge3/envs/ESDL_LSTM/lib/python3.10/lib-dynload', '', '/Users/canruso/miniforge3/envs/ESDL_LSTM/lib/python3.10/site-packages', '/Users/canruso/miniforge3/envs/ESDL_LSTM/lib/python3.10/site-packages/setuptools/_vendor']\n"
     ]
    }
   ],
   "execution_count": 3
  },
  {
   "metadata": {
    "ExecuteTime": {
     "end_time": "2025-02-17T01:50:38.414304Z",
     "start_time": "2025-02-17T01:50:35.982047Z"
    }
   },
   "cell_type": "code",
   "source": [
    "from pathlib import Path\n",
    "from neuralhydrology.evaluation.metrics import *\n",
    "from UCB_training.UCB_train import UCB_trainer\n",
    "from UCB_training.UCB_utils import combinedPlot\n",
    "from UCB_training.UCB_utils import fancyCombinedPlot"
   ],
   "id": "fbec8069028f3a13",
   "outputs": [],
   "execution_count": 4
  },
  {
   "metadata": {
    "ExecuteTime": {
     "end_time": "2025-02-17T01:50:38.418898Z",
     "start_time": "2025-02-17T01:50:38.416087Z"
    }
   },
   "cell_type": "code",
   "source": [
    "current_path = os.getcwd()\n",
    "library_path = current_path.split('UCB-USACE-LSTMs')[0] + 'UCB-USACE-LSTMs'\n",
    "\n",
    "target_path = os.path.join(library_path, 'UCB_training', 'models', 'calpella_all')\n",
    "\n",
    "if os.path.exists(target_path):\n",
    "    os.chdir(target_path)\n",
    "    print(\"Current Working Directory:\", os.getcwd())\n",
    "    print(\"Train Basin File Exists:\", os.path.exists(\"calpella\")) \n",
    "else:\n",
    "    print(f\"Error: The target path '{target_path}' does not exist.\")"
   ],
   "id": "b00c57b6454ec794",
   "outputs": [
    {
     "name": "stdout",
     "output_type": "stream",
     "text": [
      "Current Working Directory: /Users/canruso/Desktop/UCB-USACE-LSTMs/UCB_training/models/calpella_all\n",
      "Train Basin File Exists: True\n"
     ]
    }
   ],
   "execution_count": 5
  },
  {
   "metadata": {
    "ExecuteTime": {
     "end_time": "2025-02-17T01:50:38.422147Z",
     "start_time": "2025-02-17T01:50:38.419838Z"
    }
   },
   "cell_type": "code",
   "source": [
    "path_to_csv = Path(library_path +'/russian_river_data')\n",
    "path_to_yaml = Path(\"calpella_gage_nlayer.yaml\")\n",
    "path_to_physics_data = Path(library_path + \"/russian_river_data/Calpella_hourly.csv\")"
   ],
   "id": "ea57c35133854087",
   "outputs": [],
   "execution_count": 6
  },
  {
   "metadata": {
    "ExecuteTime": {
     "end_time": "2025-02-17T01:50:38.424923Z",
     "start_time": "2025-02-17T01:50:38.423039Z"
    }
   },
   "cell_type": "code",
   "source": [
    "features_with_physics = [\n",
    "    #from hourly\n",
    "    \"EF RUSSIAN 20 ET-POTENTIAL RUN:BASIN AVERAGE 60 YR\",\n",
    "    \"EF RUSSIAN 20 PRECIP-INC SCREENED\",\n",
    "    \"POTTER VALLEY CA FLOW USGS_ADJUSTED\",\n",
    "    \"UKIAH CA HUMIDITY USAF-NOAA\",\n",
    "    \"UKIAH CA SOLAR RADIATION USAF-NOAA\",\n",
    "    \"UKIAH CA TEMPERATURE USAF-NOAA\",\n",
    "    \"UKIAH CA WINDSPEED USAF-NOAA\",\n",
    "    #from new capella.csv\n",
    "    'Capella Gage FLOW',\n",
    "    'EF Russian 20 ET-POTENTIAL',\n",
    "    'EF Russian 20 FLOW',\n",
    "    'EF Russian 20 FLOW-BASE',\n",
    "    'EF Russian 20 INFILTRATION',\n",
    "    'EF Russian 20 PERC-SOIL',\n",
    "    'EF Russian 20 SATURATION FRACTION',\n",
    "    #    'Lake Mendocino Storage',\n",
    "]"
   ],
   "id": "1707e9703b6e81b1",
   "outputs": [],
   "execution_count": 7
  },
  {
   "metadata": {
    "ExecuteTime": {
     "end_time": "2025-02-17T01:50:38.427595Z",
     "start_time": "2025-02-17T01:50:38.425554Z"
    }
   },
   "cell_type": "code",
   "source": [
    "hyperparam_space = {\n",
    "    \"hidden_size\": [64, 128, 256],\n",
    "    \"seq_length\": [90, 168, 336],\n",
    "    \"num_layers\": [1],\n",
    "    \"epochs\": [16, 32]\n",
    "}\n",
    "fixed_dropout = 0.4\n",
    "no_physics_results = []\n",
    "physics_results = []"
   ],
   "id": "572fb60a298e97ca",
   "outputs": [],
   "execution_count": 8
  },
  {
   "metadata": {
    "ExecuteTime": {
     "end_time": "2025-02-17T01:50:38.432305Z",
     "start_time": "2025-02-17T01:50:38.428415Z"
    }
   },
   "cell_type": "code",
   "source": [
    "if run_gridsearch or not os.path.exists(hyperparam_csv_file):\n",
    "    for (hs, seq, nl, ep) in itertools.product(\n",
    "            hyperparam_space[\"hidden_size\"],\n",
    "            hyperparam_space[\"seq_length\"],\n",
    "            hyperparam_space[\"num_layers\"],\n",
    "            hyperparam_space[\"epochs\"]\n",
    "    ):\n",
    "        hp = {\n",
    "            \"hidden_size\": hs,\n",
    "            \"seq_length\": seq,\n",
    "            \"num_layers\": nl,\n",
    "            \"epochs\": ep,\n",
    "            \"output_dropout\": fixed_dropout,\n",
    "        }\n",
    "        print(f\"NoPhysics: {hp}\")\n",
    "        trainer = UCB_trainer(\n",
    "            path_to_csv_folder=path_to_csv,\n",
    "            yaml_path=path_to_yaml,\n",
    "            hyperparams=hp,\n",
    "            input_features=None,\n",
    "            physics_informed=False,\n",
    "            physics_data_file=None,\n",
    "            hourly=True,\n",
    "            extend_train_period=False,\n",
    "            gpu=-1\n",
    "        )\n",
    "        trainer.train()\n",
    "        csv_path, metrics_dict = trainer.results()\n",
    "        row_data = {\"hidden_size\": hs, \"seq_length\": seq, \"num_layers\": nl, \"epochs\": ep, \"output_dropout\": fixed_dropout}\n",
    "        for k, v in metrics_dict.items():\n",
    "            row_data[k] = v\n",
    "        no_physics_results.append(row_data)\n",
    "    df_no_physics = pd.DataFrame(no_physics_results)\n",
    "    df_no_physics.sort_values(by=\"NSE\", ascending=False, inplace=True)\n",
    "    df_no_physics.reset_index(drop=True, inplace=True)\n",
    "else:\n",
    "    print(\"Skipping Grid-Search\")"
   ],
   "id": "5c5114d4e004a05f",
   "outputs": [
    {
     "name": "stdout",
     "output_type": "stream",
     "text": [
      "Skipping Grid-Search\n"
     ]
    }
   ],
   "execution_count": 9
  },
  {
   "metadata": {
    "ExecuteTime": {
     "end_time": "2025-02-17T01:50:38.437401Z",
     "start_time": "2025-02-17T01:50:38.433144Z"
    }
   },
   "cell_type": "code",
   "source": [
    "if run_gridsearch or not os.path.exists(hyperparam_csv_file):\n",
    "    for (hs, seq, nl, ep) in itertools.product(\n",
    "            hyperparam_space[\"hidden_size\"],\n",
    "            hyperparam_space[\"seq_length\"],\n",
    "            hyperparam_space[\"num_layers\"],\n",
    "            hyperparam_space[\"epochs\"]\n",
    "    ):\n",
    "        hp = {\n",
    "            \"hidden_size\": hs,\n",
    "            \"seq_length\": seq,\n",
    "            \"num_layers\": nl,\n",
    "            \"epochs\": ep,\n",
    "            \"output_dropout\": fixed_dropout,\n",
    "        }\n",
    "        print(f\"Physics: {hp}\")\n",
    "        trainer = UCB_trainer(\n",
    "            path_to_csv_folder=path_to_csv,\n",
    "            yaml_path=path_to_yaml,\n",
    "            hyperparams=hp,\n",
    "            input_features=features_with_physics,\n",
    "            physics_informed=True,\n",
    "            physics_data_file=path_to_physics_data,\n",
    "            hourly=True,\n",
    "            extend_train_period=False,\n",
    "            gpu=-1\n",
    "        )\n",
    "        trainer.train()\n",
    "        csv_path, metrics_dict = trainer.results()\n",
    "        row_data = {\"hidden_size\": hs, \"seq_length\": seq, \"num_layers\": nl, \"epochs\": ep, \"output_dropout\": fixed_dropout}\n",
    "        for k, v in metrics_dict.items():\n",
    "            row_data[k] = v\n",
    "        physics_results.append(row_data)\n",
    "    df_physics = pd.DataFrame(physics_results)\n",
    "    df_physics.sort_values(by=\"NSE\", ascending=False, inplace=True)\n",
    "    df_physics.reset_index(drop=True, inplace=True)\n",
    "    best_no_phys = df_no_physics.iloc[0].to_dict()\n",
    "    best_phys = df_physics.iloc[0].to_dict()\n",
    "    best_no_phys[\"model_type\"] = \"no_physics\"\n",
    "    best_phys[\"model_type\"] = \"physics\"\n",
    "    best_params_df = pd.DataFrame([best_no_phys, best_phys])\n",
    "    best_params_df.to_csv(hyperparam_csv_file, index=False)\n",
    "else:\n",
    "    print(\"Skipping Grid-Search\")"
   ],
   "id": "b35887b8e26d27dc",
   "outputs": [
    {
     "name": "stdout",
     "output_type": "stream",
     "text": [
      "Skipping Grid-Search\n"
     ]
    }
   ],
   "execution_count": 10
  },
  {
   "metadata": {
    "ExecuteTime": {
     "end_time": "2025-02-17T01:50:38.452529Z",
     "start_time": "2025-02-17T01:50:38.438211Z"
    }
   },
   "cell_type": "code",
   "source": [
    "if os.path.exists(hyperparam_csv_file):\n",
    "    best_params_df = pd.read_csv(hyperparam_csv_file)\n",
    "    best_no_phys = best_params_df.query(\"model_type == 'no_physics'\").iloc[0].to_dict()\n",
    "    best_phys = best_params_df.query(\"model_type == 'physics'\").iloc[0].to_dict()\n",
    "    \n",
    "    best_no_physics_params = {\n",
    "        \"epochs\": int(best_no_phys[\"epochs\"]),\n",
    "        \"hidden_size\": int(best_no_phys[\"hidden_size\"]),\n",
    "        \"seq_length\": int(best_no_phys[\"seq_length\"]),\n",
    "        \"num_layers\": int(best_no_phys[\"num_layers\"]),\n",
    "        \"output_dropout\": float(best_no_phys[\"output_dropout\"]),\n",
    "    }\n",
    "    \n",
    "    best_physics_params = {\n",
    "        \"epochs\": int(best_phys[\"epochs\"]),\n",
    "        \"hidden_size\": int(best_phys[\"hidden_size\"]),\n",
    "        \"seq_length\": int(best_phys[\"seq_length\"]),\n",
    "        \"num_layers\": int(best_phys[\"num_layers\"]),\n",
    "        \"output_dropout\": float(best_phys[\"output_dropout\"]),\n",
    "    }"
   ],
   "id": "332b0c735edd391d",
   "outputs": [],
   "execution_count": 11
  },
  {
   "metadata": {},
   "cell_type": "code",
   "outputs": [],
   "execution_count": null,
   "source": [
    "if run_gridsearch:\n",
    "    print(df_no_physics.iloc[0:4])\n",
    "    df_no_physics.to_csv(\"calpella_hourly_no_physics_gridsearch.csv\", index=False)"
   ],
   "id": "4ff83b7ee7bb9508"
  },
  {
   "metadata": {},
   "cell_type": "code",
   "outputs": [],
   "execution_count": null,
   "source": [
    "if run_gridsearch:\n",
    "    print(df_physics.iloc[0:4])\n",
    "    df_physics.to_csv(\"calpella_hourly_physics_gridsearch.csv\", index=False)"
   ],
   "id": "68ea3b1d3299a36f"
  },
  {
   "metadata": {},
   "cell_type": "markdown",
   "source": "### Re-run w/ best parameters on validation period",
   "id": "64b909624db28c15"
  },
  {
   "metadata": {},
   "cell_type": "code",
   "outputs": [],
   "execution_count": null,
   "source": [
    "lstmNoPhysicsValBest = UCB_trainer(\n",
    "    path_to_csv_folder=path_to_csv,\n",
    "    yaml_path=path_to_yaml,\n",
    "    hyperparams=best_no_physics_params,\n",
    "    input_features=None,\n",
    "    physics_informed=False,\n",
    "    physics_data_file=None,\n",
    "    hourly=True,\n",
    "    extend_train_period=False,  \n",
    "    gpu=-1\n",
    ")\n",
    "lstmNoPhysicsValBest.train()\n",
    "no_physics_val_csv, no_physics_val_metrics = lstmNoPhysicsValBest.results()\n",
    "no_physics_val_metrics"
   ],
   "id": "2b71407c3c67d719"
  },
  {
   "metadata": {},
   "cell_type": "code",
   "outputs": [],
   "execution_count": null,
   "source": [
    "lstmPhysicsValBest = UCB_trainer(\n",
    "    path_to_csv_folder=path_to_csv,\n",
    "    yaml_path=path_to_yaml,\n",
    "    hyperparams=best_physics_params,\n",
    "    input_features=features_with_physics,\n",
    "    physics_informed=True,\n",
    "    physics_data_file=path_to_physics_data,\n",
    "    hourly=True,\n",
    "    extend_train_period=False, \n",
    "    gpu=-1\n",
    ")\n",
    "lstmPhysicsValBest.train()\n",
    "physics_val_csv, physics_val_metrics = lstmPhysicsValBest.results()\n",
    "physics_val_metrics"
   ],
   "id": "de5e13d4e27625e8"
  },
  {
   "metadata": {},
   "cell_type": "markdown",
   "source": "### Run non-physics-informed model with best hyperparameters",
   "id": "b80f794c4aa38985"
  },
  {
   "metadata": {
    "ExecuteTime": {
     "end_time": "2025-02-17T02:57:04.435236Z",
     "start_time": "2025-02-17T01:50:38.453409Z"
    }
   },
   "cell_type": "code",
   "source": [
    "lstmNoPhysicsExtBest = UCB_trainer(\n",
    "    path_to_csv_folder=path_to_csv,\n",
    "    yaml_path=path_to_yaml,\n",
    "    hyperparams=best_no_physics_params,\n",
    "    input_features=None,\n",
    "    physics_informed=False,\n",
    "    physics_data_file=None,\n",
    "    hourly=True,\n",
    "    extend_train_period=True,  \n",
    "    gpu=-1\n",
    ")\n",
    "\n",
    "lstmNoPhysicsExtBest.train()\n",
    "no_physics_test_csv, no_physics_test_metrics = lstmNoPhysicsExtBest.results('test')\n",
    "no_physics_test_metrics"
   ],
   "id": "4961dfe2b46e301d",
   "outputs": [
    {
     "name": "stdout",
     "output_type": "stream",
     "text": [
      "2025-02-16 17:50:38,460: Logging to /Users/canruso/Desktop/UCB-USACE-LSTMs/UCB_training/models/calpella_all/runs/testing_run_1602_175038/output.log initialized.\n",
      "2025-02-16 17:50:38,461: ### Folder structure created at /Users/canruso/Desktop/UCB-USACE-LSTMs/UCB_training/models/calpella_all/runs/testing_run_1602_175038\n",
      "2025-02-16 17:50:38,461: ### Run configurations for testing_run\n",
      "2025-02-16 17:50:38,461: experiment_name: testing_run\n",
      "2025-02-16 17:50:38,462: train_basin_file: calpella\n",
      "2025-02-16 17:50:38,462: validation_basin_file: calpella\n",
      "2025-02-16 17:50:38,462: test_basin_file: calpella\n",
      "2025-02-16 17:50:38,463: train_start_date: 1994-10-01 00:00:00\n",
      "2025-02-16 17:50:38,463: train_end_date: 2005-09-30 00:00:00\n",
      "2025-02-16 17:50:38,463: validation_start_date: 2002-10-01 00:00:00\n",
      "2025-02-16 17:50:38,464: validation_end_date: 2005-09-30 00:00:00\n",
      "2025-02-16 17:50:38,464: test_start_date: 2005-10-01 00:00:00\n",
      "2025-02-16 17:50:38,464: test_end_date: 2009-09-29 00:00:00\n",
      "2025-02-16 17:50:38,464: device: cpu\n",
      "2025-02-16 17:50:38,465: physics_informed: False\n",
      "2025-02-16 17:50:38,465: physics_data_file: None\n",
      "2025-02-16 17:50:38,465: validate_every: 5\n",
      "2025-02-16 17:50:38,465: validate_n_random_basins: 1\n",
      "2025-02-16 17:50:38,466: metrics: ['NSE', 'MSE']\n",
      "2025-02-16 17:50:38,466: model: cudalstm\n",
      "2025-02-16 17:50:38,466: head: regression\n",
      "2025-02-16 17:50:38,467: output_activation: linear\n",
      "2025-02-16 17:50:38,467: hidden_size: 256\n",
      "2025-02-16 17:50:38,467: initial_forget_bias: 3\n",
      "2025-02-16 17:50:38,467: output_dropout: 0.4\n",
      "2025-02-16 17:50:38,468: num_layers: 1\n",
      "2025-02-16 17:50:38,468: dev_mode: True\n",
      "2025-02-16 17:50:38,468: optimizer: Adam\n",
      "2025-02-16 17:50:38,468: loss: NSE\n",
      "2025-02-16 17:50:38,469: learning_rate: {0: 0.01, 20: 0.005, 30: 0.001}\n",
      "2025-02-16 17:50:38,469: batch_size: 256\n",
      "2025-02-16 17:50:38,469: epochs: 32\n",
      "2025-02-16 17:50:38,469: clip_gradient_norm: 1\n",
      "2025-02-16 17:50:38,470: predict_last_n: 1\n",
      "2025-02-16 17:50:38,470: seq_length: 336\n",
      "2025-02-16 17:50:38,470: log_interval: 16\n",
      "2025-02-16 17:50:38,470: log_tensorboard: True\n",
      "2025-02-16 17:50:38,471: log_n_figures: 1\n",
      "2025-02-16 17:50:38,471: save_weights_every: 32\n",
      "2025-02-16 17:50:38,471: dataset: russian_river\n",
      "2025-02-16 17:50:38,471: data_dir: /Users/canruso/Desktop/UCB-USACE-LSTMs/russian_river_data\n",
      "2025-02-16 17:50:38,472: dynamic_inputs: ['EF RUSSIAN 20 ET-POTENTIAL RUN:BASIN AVERAGE 60 YR', 'EF RUSSIAN 20 PRECIP-INC SCREENED', 'POTTER VALLEY CA FLOW USGS_ADJUSTED', 'UKIAH CA HUMIDITY USAF-NOAA', 'UKIAH CA SOLAR RADIATION USAF-NOAA', 'UKIAH CA TEMPERATURE USAF-NOAA', 'UKIAH CA WINDSPEED USAF-NOAA']\n",
      "2025-02-16 17:50:38,472: target_variables: ['NR CALPELLA FLOW COE CPL']\n",
      "2025-02-16 17:50:38,472: clip_targets_to_zero: [['NR CALPELLA FLOW COE CPL']]\n",
      "2025-02-16 17:50:38,472: hourly: True\n",
      "2025-02-16 17:50:38,473: number_of_basins: 1\n",
      "2025-02-16 17:50:38,473: run_dir: /Users/canruso/Desktop/UCB-USACE-LSTMs/UCB_training/models/calpella_all/runs/testing_run_1602_175038\n",
      "2025-02-16 17:50:38,473: train_dir: /Users/canruso/Desktop/UCB-USACE-LSTMs/UCB_training/models/calpella_all/runs/testing_run_1602_175038/train_data\n",
      "2025-02-16 17:50:38,474: img_log_dir: /Users/canruso/Desktop/UCB-USACE-LSTMs/UCB_training/models/calpella_all/runs/testing_run_1602_175038/img_log\n",
      "2025-02-16 17:50:38,482: ### Device cpu will be used for training\n",
      "2025-02-16 17:50:38,482: Loading basin data into xarray data set.\n",
      "100%|██████████| 1/1 [00:01<00:00,  1.45s/it]\n",
      "2025-02-16 17:50:39,966: Calculating target variable stds per basin\n",
      "100%|██████████| 1/1 [00:00<00:00, 107.10it/s]\n",
      "2025-02-16 17:50:39,989: Create lookup table and convert to pytorch tensor\n",
      "100%|██████████| 1/1 [00:01<00:00,  1.66s/it]\n",
      "# Epoch 1: 100%|██████████| 352/352 [05:26<00:00,  1.08it/s, Loss: 0.0000]\n",
      "2025-02-16 17:56:08,948: Epoch 1 average loss: avg_loss: 0.00000, avg_total_loss: 0.00000\n",
      "# Epoch 2: 100%|██████████| 352/352 [30:20<00:00,  5.17s/it, Loss: 0.0000]    \n",
      "2025-02-16 18:26:29,836: Epoch 2 average loss: avg_loss: 0.00000, avg_total_loss: 0.00000\n",
      "# Epoch 3: 100%|██████████| 352/352 [10:36<00:00,  1.81s/it, Loss: 0.0000] \n",
      "2025-02-16 18:37:06,597: Epoch 3 average loss: avg_loss: 0.00000, avg_total_loss: 0.00000\n",
      "# Epoch 4: 100%|██████████| 352/352 [05:05<00:00,  1.15it/s, Loss: 0.0000]\n",
      "2025-02-16 18:42:11,846: Epoch 4 average loss: avg_loss: 0.00000, avg_total_loss: 0.00000\n",
      "# Epoch 5: 100%|██████████| 352/352 [05:02<00:00,  1.16it/s, Loss: 0.0000]\n",
      "2025-02-16 18:47:14,121: Epoch 5 average loss: avg_loss: 0.00000, avg_total_loss: 0.00000\n",
      "# Validation: 100%|██████████| 1/1 [00:37<00:00, 37.01s/it]\n",
      "2025-02-16 18:47:51,444: Epoch 5 average validation loss: 0.00000 -- Median validation metrics: avg_loss: 0.00000, NSE: 0.80282, MSE: 43069.93750\n",
      "# Epoch 6: 100%|██████████| 352/352 [06:28<00:00,  1.10s/it, Loss: 0.0000]\n",
      "2025-02-16 18:54:19,669: Epoch 6 average loss: avg_loss: 0.00000, avg_total_loss: 0.00000\n",
      "# Epoch 7:  32%|███▏      | 111/352 [02:44<05:56,  1.48s/it, Loss: 0.0000]\n"
     ]
    },
    {
     "ename": "KeyboardInterrupt",
     "evalue": "",
     "output_type": "error",
     "traceback": [
      "\u001B[0;31m---------------------------------------------------------------------------\u001B[0m",
      "\u001B[0;31mKeyboardInterrupt\u001B[0m                         Traceback (most recent call last)",
      "Cell \u001B[0;32mIn[12], line 13\u001B[0m\n\u001B[1;32m      1\u001B[0m lstmNoPhysicsExtBest \u001B[38;5;241m=\u001B[39m UCB_trainer(\n\u001B[1;32m      2\u001B[0m     path_to_csv_folder\u001B[38;5;241m=\u001B[39mpath_to_csv,\n\u001B[1;32m      3\u001B[0m     yaml_path\u001B[38;5;241m=\u001B[39mpath_to_yaml,\n\u001B[0;32m   (...)\u001B[0m\n\u001B[1;32m     10\u001B[0m     gpu\u001B[38;5;241m=\u001B[39m\u001B[38;5;241m-\u001B[39m\u001B[38;5;241m1\u001B[39m\n\u001B[1;32m     11\u001B[0m )\n\u001B[0;32m---> 13\u001B[0m \u001B[43mlstmNoPhysicsExtBest\u001B[49m\u001B[38;5;241;43m.\u001B[39;49m\u001B[43mtrain\u001B[49m\u001B[43m(\u001B[49m\u001B[43m)\u001B[49m\n\u001B[1;32m     14\u001B[0m no_physics_test_csv, no_physics_test_metrics \u001B[38;5;241m=\u001B[39m lstmNoPhysicsExtBest\u001B[38;5;241m.\u001B[39mresults(\u001B[38;5;124m'\u001B[39m\u001B[38;5;124mtest\u001B[39m\u001B[38;5;124m'\u001B[39m)\n\u001B[1;32m     15\u001B[0m no_physics_test_metrics\n",
      "File \u001B[0;32m~/Desktop/UCB-USACE-LSTMs/UCB_training/models/calpella_all/../../../../UCB-USACE-LSTMs/UCB_training/UCB_train.py:68\u001B[0m, in \u001B[0;36mUCB_trainer.train\u001B[0;34m(self)\u001B[0m\n\u001B[1;32m     61\u001B[0m \u001B[38;5;250m\u001B[39m\u001B[38;5;124;03m\"\"\"\u001B[39;00m\n\u001B[1;32m     62\u001B[0m \u001B[38;5;124;03mTrain the model or ensemble based on the specified number of ensemble members.\u001B[39;00m\n\u001B[1;32m     63\u001B[0m \n\u001B[1;32m     64\u001B[0m \u001B[38;5;124;03mReturns:\u001B[39;00m\n\u001B[1;32m     65\u001B[0m \u001B[38;5;124;03m    Path or List[Path]: The path(s) to the trained model(s).\u001B[39;00m\n\u001B[1;32m     66\u001B[0m \u001B[38;5;124;03m\"\"\"\u001B[39;00m\n\u001B[1;32m     67\u001B[0m \u001B[38;5;28;01mif\u001B[39;00m \u001B[38;5;28mself\u001B[39m\u001B[38;5;241m.\u001B[39m_num_ensemble_members \u001B[38;5;241m==\u001B[39m \u001B[38;5;241m1\u001B[39m:\n\u001B[0;32m---> 68\u001B[0m     \u001B[38;5;28mself\u001B[39m\u001B[38;5;241m.\u001B[39m_model \u001B[38;5;241m=\u001B[39m \u001B[38;5;28;43mself\u001B[39;49m\u001B[38;5;241;43m.\u001B[39;49m\u001B[43m_train_model\u001B[49m\u001B[43m(\u001B[49m\u001B[43m)\u001B[49m\n\u001B[1;32m     69\u001B[0m     \u001B[38;5;66;03m# Evaluate on validation\u001B[39;00m\n\u001B[1;32m     70\u001B[0m     \u001B[38;5;28mself\u001B[39m\u001B[38;5;241m.\u001B[39m_eval_model(\u001B[38;5;28mself\u001B[39m\u001B[38;5;241m.\u001B[39m_model, period\u001B[38;5;241m=\u001B[39m\u001B[38;5;124m\"\u001B[39m\u001B[38;5;124mvalidation\u001B[39m\u001B[38;5;124m\"\u001B[39m)\n",
      "File \u001B[0;32m~/Desktop/UCB-USACE-LSTMs/UCB_training/models/calpella_all/../../../../UCB-USACE-LSTMs/UCB_training/UCB_train.py:224\u001B[0m, in \u001B[0;36mUCB_trainer._train_model\u001B[0;34m(self)\u001B[0m\n\u001B[1;32m    220\u001B[0m \u001B[38;5;28;01mdef\u001B[39;00m \u001B[38;5;21m_train_model\u001B[39m(\u001B[38;5;28mself\u001B[39m) \u001B[38;5;241m-\u001B[39m\u001B[38;5;241m>\u001B[39m Path:\n\u001B[1;32m    221\u001B[0m \u001B[38;5;250m    \u001B[39m\u001B[38;5;124;03m\"\"\"\u001B[39;00m\n\u001B[1;32m    222\u001B[0m \u001B[38;5;124;03m    Train a single model instance.\u001B[39;00m\n\u001B[1;32m    223\u001B[0m \u001B[38;5;124;03m    \"\"\"\u001B[39;00m\n\u001B[0;32m--> 224\u001B[0m     \u001B[43mstart_training\u001B[49m\u001B[43m(\u001B[49m\u001B[38;5;28;43mself\u001B[39;49m\u001B[38;5;241;43m.\u001B[39;49m\u001B[43m_config\u001B[49m\u001B[43m)\u001B[49m\n\u001B[1;32m    225\u001B[0m     \u001B[38;5;28;01mreturn\u001B[39;00m \u001B[38;5;28mself\u001B[39m\u001B[38;5;241m.\u001B[39m_config\u001B[38;5;241m.\u001B[39mrun_dir\n",
      "File \u001B[0;32m~/Desktop/UCB-USACE-LSTMs/UCB_training/models/calpella_all/../../../../UCB-USACE-LSTMs/neuralhydrology/training/train.py:20\u001B[0m, in \u001B[0;36mstart_training\u001B[0;34m(cfg)\u001B[0m\n\u001B[1;32m     18\u001B[0m     \u001B[38;5;28;01mraise\u001B[39;00m \u001B[38;5;167;01mValueError\u001B[39;00m(\u001B[38;5;124mf\u001B[39m\u001B[38;5;124m\"\u001B[39m\u001B[38;5;124mUnknown head \u001B[39m\u001B[38;5;132;01m{\u001B[39;00mcfg\u001B[38;5;241m.\u001B[39mhead\u001B[38;5;132;01m}\u001B[39;00m\u001B[38;5;124m.\u001B[39m\u001B[38;5;124m\"\u001B[39m)\n\u001B[1;32m     19\u001B[0m trainer\u001B[38;5;241m.\u001B[39minitialize_training()\n\u001B[0;32m---> 20\u001B[0m \u001B[43mtrainer\u001B[49m\u001B[38;5;241;43m.\u001B[39;49m\u001B[43mtrain_and_validate\u001B[49m\u001B[43m(\u001B[49m\u001B[43m)\u001B[49m\n",
      "File \u001B[0;32m~/Desktop/UCB-USACE-LSTMs/UCB_training/models/calpella_all/../../../../UCB-USACE-LSTMs/neuralhydrology/training/basetrainer.py:214\u001B[0m, in \u001B[0;36mBaseTrainer.train_and_validate\u001B[0;34m(self)\u001B[0m\n\u001B[1;32m    211\u001B[0m     \u001B[38;5;28;01mfor\u001B[39;00m param_group \u001B[38;5;129;01min\u001B[39;00m \u001B[38;5;28mself\u001B[39m\u001B[38;5;241m.\u001B[39moptimizer\u001B[38;5;241m.\u001B[39mparam_groups:\n\u001B[1;32m    212\u001B[0m         param_group[\u001B[38;5;124m\"\u001B[39m\u001B[38;5;124mlr\u001B[39m\u001B[38;5;124m\"\u001B[39m] \u001B[38;5;241m=\u001B[39m \u001B[38;5;28mself\u001B[39m\u001B[38;5;241m.\u001B[39mcfg\u001B[38;5;241m.\u001B[39mlearning_rate[epoch]\n\u001B[0;32m--> 214\u001B[0m \u001B[38;5;28;43mself\u001B[39;49m\u001B[38;5;241;43m.\u001B[39;49m\u001B[43m_train_epoch\u001B[49m\u001B[43m(\u001B[49m\u001B[43mepoch\u001B[49m\u001B[38;5;241;43m=\u001B[39;49m\u001B[43mepoch\u001B[49m\u001B[43m)\u001B[49m\n\u001B[1;32m    215\u001B[0m avg_losses \u001B[38;5;241m=\u001B[39m \u001B[38;5;28mself\u001B[39m\u001B[38;5;241m.\u001B[39mexperiment_logger\u001B[38;5;241m.\u001B[39msummarise()\n\u001B[1;32m    216\u001B[0m loss_str \u001B[38;5;241m=\u001B[39m \u001B[38;5;124m\"\u001B[39m\u001B[38;5;124m, \u001B[39m\u001B[38;5;124m\"\u001B[39m\u001B[38;5;241m.\u001B[39mjoin(\u001B[38;5;124mf\u001B[39m\u001B[38;5;124m\"\u001B[39m\u001B[38;5;132;01m{\u001B[39;00mk\u001B[38;5;132;01m}\u001B[39;00m\u001B[38;5;124m: \u001B[39m\u001B[38;5;132;01m{\u001B[39;00mv\u001B[38;5;132;01m:\u001B[39;00m\u001B[38;5;124m.5f\u001B[39m\u001B[38;5;132;01m}\u001B[39;00m\u001B[38;5;124m\"\u001B[39m \u001B[38;5;28;01mfor\u001B[39;00m k, v \u001B[38;5;129;01min\u001B[39;00m avg_losses\u001B[38;5;241m.\u001B[39mitems())\n",
      "File \u001B[0;32m~/Desktop/UCB-USACE-LSTMs/UCB_training/models/calpella_all/../../../../UCB-USACE-LSTMs/neuralhydrology/training/basetrainer.py:296\u001B[0m, in \u001B[0;36mBaseTrainer._train_epoch\u001B[0;34m(self, epoch)\u001B[0m\n\u001B[1;32m    293\u001B[0m data \u001B[38;5;241m=\u001B[39m \u001B[38;5;28mself\u001B[39m\u001B[38;5;241m.\u001B[39mmodel\u001B[38;5;241m.\u001B[39mpre_model_hook(data, is_train\u001B[38;5;241m=\u001B[39m\u001B[38;5;28;01mTrue\u001B[39;00m)\n\u001B[1;32m    295\u001B[0m \u001B[38;5;66;03m# get predictions\u001B[39;00m\n\u001B[0;32m--> 296\u001B[0m predictions \u001B[38;5;241m=\u001B[39m \u001B[38;5;28;43mself\u001B[39;49m\u001B[38;5;241;43m.\u001B[39;49m\u001B[43mmodel\u001B[49m\u001B[43m(\u001B[49m\u001B[43mdata\u001B[49m\u001B[43m)\u001B[49m\n\u001B[1;32m    298\u001B[0m \u001B[38;5;28;01mif\u001B[39;00m \u001B[38;5;28mself\u001B[39m\u001B[38;5;241m.\u001B[39mnoise_sampler_y \u001B[38;5;129;01mis\u001B[39;00m \u001B[38;5;129;01mnot\u001B[39;00m \u001B[38;5;28;01mNone\u001B[39;00m:\n\u001B[1;32m    299\u001B[0m     \u001B[38;5;28;01mfor\u001B[39;00m key \u001B[38;5;129;01min\u001B[39;00m \u001B[38;5;28mfilter\u001B[39m(\u001B[38;5;28;01mlambda\u001B[39;00m k: \u001B[38;5;124m'\u001B[39m\u001B[38;5;124my\u001B[39m\u001B[38;5;124m'\u001B[39m \u001B[38;5;129;01min\u001B[39;00m k, data\u001B[38;5;241m.\u001B[39mkeys()):\n",
      "File \u001B[0;32m~/miniforge3/envs/ESDL_LSTM/lib/python3.10/site-packages/torch/nn/modules/module.py:1553\u001B[0m, in \u001B[0;36mModule._wrapped_call_impl\u001B[0;34m(self, *args, **kwargs)\u001B[0m\n\u001B[1;32m   1551\u001B[0m     \u001B[38;5;28;01mreturn\u001B[39;00m \u001B[38;5;28mself\u001B[39m\u001B[38;5;241m.\u001B[39m_compiled_call_impl(\u001B[38;5;241m*\u001B[39margs, \u001B[38;5;241m*\u001B[39m\u001B[38;5;241m*\u001B[39mkwargs)  \u001B[38;5;66;03m# type: ignore[misc]\u001B[39;00m\n\u001B[1;32m   1552\u001B[0m \u001B[38;5;28;01melse\u001B[39;00m:\n\u001B[0;32m-> 1553\u001B[0m     \u001B[38;5;28;01mreturn\u001B[39;00m \u001B[38;5;28;43mself\u001B[39;49m\u001B[38;5;241;43m.\u001B[39;49m\u001B[43m_call_impl\u001B[49m\u001B[43m(\u001B[49m\u001B[38;5;241;43m*\u001B[39;49m\u001B[43margs\u001B[49m\u001B[43m,\u001B[49m\u001B[43m \u001B[49m\u001B[38;5;241;43m*\u001B[39;49m\u001B[38;5;241;43m*\u001B[39;49m\u001B[43mkwargs\u001B[49m\u001B[43m)\u001B[49m\n",
      "File \u001B[0;32m~/miniforge3/envs/ESDL_LSTM/lib/python3.10/site-packages/torch/nn/modules/module.py:1562\u001B[0m, in \u001B[0;36mModule._call_impl\u001B[0;34m(self, *args, **kwargs)\u001B[0m\n\u001B[1;32m   1557\u001B[0m \u001B[38;5;66;03m# If we don't have any hooks, we want to skip the rest of the logic in\u001B[39;00m\n\u001B[1;32m   1558\u001B[0m \u001B[38;5;66;03m# this function, and just call forward.\u001B[39;00m\n\u001B[1;32m   1559\u001B[0m \u001B[38;5;28;01mif\u001B[39;00m \u001B[38;5;129;01mnot\u001B[39;00m (\u001B[38;5;28mself\u001B[39m\u001B[38;5;241m.\u001B[39m_backward_hooks \u001B[38;5;129;01mor\u001B[39;00m \u001B[38;5;28mself\u001B[39m\u001B[38;5;241m.\u001B[39m_backward_pre_hooks \u001B[38;5;129;01mor\u001B[39;00m \u001B[38;5;28mself\u001B[39m\u001B[38;5;241m.\u001B[39m_forward_hooks \u001B[38;5;129;01mor\u001B[39;00m \u001B[38;5;28mself\u001B[39m\u001B[38;5;241m.\u001B[39m_forward_pre_hooks\n\u001B[1;32m   1560\u001B[0m         \u001B[38;5;129;01mor\u001B[39;00m _global_backward_pre_hooks \u001B[38;5;129;01mor\u001B[39;00m _global_backward_hooks\n\u001B[1;32m   1561\u001B[0m         \u001B[38;5;129;01mor\u001B[39;00m _global_forward_hooks \u001B[38;5;129;01mor\u001B[39;00m _global_forward_pre_hooks):\n\u001B[0;32m-> 1562\u001B[0m     \u001B[38;5;28;01mreturn\u001B[39;00m \u001B[43mforward_call\u001B[49m\u001B[43m(\u001B[49m\u001B[38;5;241;43m*\u001B[39;49m\u001B[43margs\u001B[49m\u001B[43m,\u001B[49m\u001B[43m \u001B[49m\u001B[38;5;241;43m*\u001B[39;49m\u001B[38;5;241;43m*\u001B[39;49m\u001B[43mkwargs\u001B[49m\u001B[43m)\u001B[49m\n\u001B[1;32m   1564\u001B[0m \u001B[38;5;28;01mtry\u001B[39;00m:\n\u001B[1;32m   1565\u001B[0m     result \u001B[38;5;241m=\u001B[39m \u001B[38;5;28;01mNone\u001B[39;00m\n",
      "File \u001B[0;32m~/Desktop/UCB-USACE-LSTMs/UCB_training/models/calpella_all/../../../../UCB-USACE-LSTMs/neuralhydrology/modelzoo/cudalstm.py:68\u001B[0m, in \u001B[0;36mCudaLSTM.forward\u001B[0;34m(self, data)\u001B[0m\n\u001B[1;32m     66\u001B[0m \u001B[38;5;66;03m# possibly pass dynamic and static inputs through embedding layers, then concatenate them\u001B[39;00m\n\u001B[1;32m     67\u001B[0m x_d \u001B[38;5;241m=\u001B[39m \u001B[38;5;28mself\u001B[39m\u001B[38;5;241m.\u001B[39membedding_net(data)\n\u001B[0;32m---> 68\u001B[0m lstm_output, (h_n, c_n) \u001B[38;5;241m=\u001B[39m \u001B[38;5;28;43mself\u001B[39;49m\u001B[38;5;241;43m.\u001B[39;49m\u001B[43mlstm\u001B[49m\u001B[43m(\u001B[49m\u001B[38;5;28;43minput\u001B[39;49m\u001B[38;5;241;43m=\u001B[39;49m\u001B[43mx_d\u001B[49m\u001B[43m)\u001B[49m\n\u001B[1;32m     70\u001B[0m \u001B[38;5;66;03m# reshape to [batch_size, seq, n_hiddens]\u001B[39;00m\n\u001B[1;32m     71\u001B[0m lstm_output \u001B[38;5;241m=\u001B[39m lstm_output\u001B[38;5;241m.\u001B[39mtranspose(\u001B[38;5;241m0\u001B[39m, \u001B[38;5;241m1\u001B[39m)\n",
      "File \u001B[0;32m~/miniforge3/envs/ESDL_LSTM/lib/python3.10/site-packages/torch/nn/modules/module.py:1553\u001B[0m, in \u001B[0;36mModule._wrapped_call_impl\u001B[0;34m(self, *args, **kwargs)\u001B[0m\n\u001B[1;32m   1551\u001B[0m     \u001B[38;5;28;01mreturn\u001B[39;00m \u001B[38;5;28mself\u001B[39m\u001B[38;5;241m.\u001B[39m_compiled_call_impl(\u001B[38;5;241m*\u001B[39margs, \u001B[38;5;241m*\u001B[39m\u001B[38;5;241m*\u001B[39mkwargs)  \u001B[38;5;66;03m# type: ignore[misc]\u001B[39;00m\n\u001B[1;32m   1552\u001B[0m \u001B[38;5;28;01melse\u001B[39;00m:\n\u001B[0;32m-> 1553\u001B[0m     \u001B[38;5;28;01mreturn\u001B[39;00m \u001B[38;5;28;43mself\u001B[39;49m\u001B[38;5;241;43m.\u001B[39;49m\u001B[43m_call_impl\u001B[49m\u001B[43m(\u001B[49m\u001B[38;5;241;43m*\u001B[39;49m\u001B[43margs\u001B[49m\u001B[43m,\u001B[49m\u001B[43m \u001B[49m\u001B[38;5;241;43m*\u001B[39;49m\u001B[38;5;241;43m*\u001B[39;49m\u001B[43mkwargs\u001B[49m\u001B[43m)\u001B[49m\n",
      "File \u001B[0;32m~/miniforge3/envs/ESDL_LSTM/lib/python3.10/site-packages/torch/nn/modules/module.py:1562\u001B[0m, in \u001B[0;36mModule._call_impl\u001B[0;34m(self, *args, **kwargs)\u001B[0m\n\u001B[1;32m   1557\u001B[0m \u001B[38;5;66;03m# If we don't have any hooks, we want to skip the rest of the logic in\u001B[39;00m\n\u001B[1;32m   1558\u001B[0m \u001B[38;5;66;03m# this function, and just call forward.\u001B[39;00m\n\u001B[1;32m   1559\u001B[0m \u001B[38;5;28;01mif\u001B[39;00m \u001B[38;5;129;01mnot\u001B[39;00m (\u001B[38;5;28mself\u001B[39m\u001B[38;5;241m.\u001B[39m_backward_hooks \u001B[38;5;129;01mor\u001B[39;00m \u001B[38;5;28mself\u001B[39m\u001B[38;5;241m.\u001B[39m_backward_pre_hooks \u001B[38;5;129;01mor\u001B[39;00m \u001B[38;5;28mself\u001B[39m\u001B[38;5;241m.\u001B[39m_forward_hooks \u001B[38;5;129;01mor\u001B[39;00m \u001B[38;5;28mself\u001B[39m\u001B[38;5;241m.\u001B[39m_forward_pre_hooks\n\u001B[1;32m   1560\u001B[0m         \u001B[38;5;129;01mor\u001B[39;00m _global_backward_pre_hooks \u001B[38;5;129;01mor\u001B[39;00m _global_backward_hooks\n\u001B[1;32m   1561\u001B[0m         \u001B[38;5;129;01mor\u001B[39;00m _global_forward_hooks \u001B[38;5;129;01mor\u001B[39;00m _global_forward_pre_hooks):\n\u001B[0;32m-> 1562\u001B[0m     \u001B[38;5;28;01mreturn\u001B[39;00m \u001B[43mforward_call\u001B[49m\u001B[43m(\u001B[49m\u001B[38;5;241;43m*\u001B[39;49m\u001B[43margs\u001B[49m\u001B[43m,\u001B[49m\u001B[43m \u001B[49m\u001B[38;5;241;43m*\u001B[39;49m\u001B[38;5;241;43m*\u001B[39;49m\u001B[43mkwargs\u001B[49m\u001B[43m)\u001B[49m\n\u001B[1;32m   1564\u001B[0m \u001B[38;5;28;01mtry\u001B[39;00m:\n\u001B[1;32m   1565\u001B[0m     result \u001B[38;5;241m=\u001B[39m \u001B[38;5;28;01mNone\u001B[39;00m\n",
      "File \u001B[0;32m~/miniforge3/envs/ESDL_LSTM/lib/python3.10/site-packages/torch/nn/modules/rnn.py:917\u001B[0m, in \u001B[0;36mLSTM.forward\u001B[0;34m(self, input, hx)\u001B[0m\n\u001B[1;32m    914\u001B[0m         hx \u001B[38;5;241m=\u001B[39m \u001B[38;5;28mself\u001B[39m\u001B[38;5;241m.\u001B[39mpermute_hidden(hx, sorted_indices)\n\u001B[1;32m    916\u001B[0m \u001B[38;5;28;01mif\u001B[39;00m batch_sizes \u001B[38;5;129;01mis\u001B[39;00m \u001B[38;5;28;01mNone\u001B[39;00m:\n\u001B[0;32m--> 917\u001B[0m     result \u001B[38;5;241m=\u001B[39m \u001B[43m_VF\u001B[49m\u001B[38;5;241;43m.\u001B[39;49m\u001B[43mlstm\u001B[49m\u001B[43m(\u001B[49m\u001B[38;5;28;43minput\u001B[39;49m\u001B[43m,\u001B[49m\u001B[43m \u001B[49m\u001B[43mhx\u001B[49m\u001B[43m,\u001B[49m\u001B[43m \u001B[49m\u001B[38;5;28;43mself\u001B[39;49m\u001B[38;5;241;43m.\u001B[39;49m\u001B[43m_flat_weights\u001B[49m\u001B[43m,\u001B[49m\u001B[43m \u001B[49m\u001B[38;5;28;43mself\u001B[39;49m\u001B[38;5;241;43m.\u001B[39;49m\u001B[43mbias\u001B[49m\u001B[43m,\u001B[49m\u001B[43m \u001B[49m\u001B[38;5;28;43mself\u001B[39;49m\u001B[38;5;241;43m.\u001B[39;49m\u001B[43mnum_layers\u001B[49m\u001B[43m,\u001B[49m\n\u001B[1;32m    918\u001B[0m \u001B[43m                      \u001B[49m\u001B[38;5;28;43mself\u001B[39;49m\u001B[38;5;241;43m.\u001B[39;49m\u001B[43mdropout\u001B[49m\u001B[43m,\u001B[49m\u001B[43m \u001B[49m\u001B[38;5;28;43mself\u001B[39;49m\u001B[38;5;241;43m.\u001B[39;49m\u001B[43mtraining\u001B[49m\u001B[43m,\u001B[49m\u001B[43m \u001B[49m\u001B[38;5;28;43mself\u001B[39;49m\u001B[38;5;241;43m.\u001B[39;49m\u001B[43mbidirectional\u001B[49m\u001B[43m,\u001B[49m\u001B[43m \u001B[49m\u001B[38;5;28;43mself\u001B[39;49m\u001B[38;5;241;43m.\u001B[39;49m\u001B[43mbatch_first\u001B[49m\u001B[43m)\u001B[49m\n\u001B[1;32m    919\u001B[0m \u001B[38;5;28;01melse\u001B[39;00m:\n\u001B[1;32m    920\u001B[0m     result \u001B[38;5;241m=\u001B[39m _VF\u001B[38;5;241m.\u001B[39mlstm(\u001B[38;5;28minput\u001B[39m, batch_sizes, hx, \u001B[38;5;28mself\u001B[39m\u001B[38;5;241m.\u001B[39m_flat_weights, \u001B[38;5;28mself\u001B[39m\u001B[38;5;241m.\u001B[39mbias,\n\u001B[1;32m    921\u001B[0m                       \u001B[38;5;28mself\u001B[39m\u001B[38;5;241m.\u001B[39mnum_layers, \u001B[38;5;28mself\u001B[39m\u001B[38;5;241m.\u001B[39mdropout, \u001B[38;5;28mself\u001B[39m\u001B[38;5;241m.\u001B[39mtraining, \u001B[38;5;28mself\u001B[39m\u001B[38;5;241m.\u001B[39mbidirectional)\n",
      "\u001B[0;31mKeyboardInterrupt\u001B[0m: "
     ]
    }
   ],
   "execution_count": 12
  },
  {
   "metadata": {},
   "cell_type": "code",
   "outputs": [],
   "execution_count": null,
   "source": [
    "combinedPlot(\n",
    "    lstm_results=no_physics_val_csv,\n",
    "    lstmPhysics_results=physics_val_csv,\n",
    "    HMS_results=path_to_physics_data,\n",
    "    title='Calpella Basin Hourly Model Comparison (Validation)',\n",
    "    fName=\"calpella_hourly_val_metrics.csv\",\n",
    "    plot_filename = \"calpella_hourly_val_model_comparison.png\"\n",
    ")"
   ],
   "id": "b2a2d5771d584832"
  },
  {
   "metadata": {},
   "cell_type": "code",
   "outputs": [],
   "execution_count": null,
   "source": [
    "fancyCombinedPlot(\n",
    "    lstm_results=no_physics_val_csv,\n",
    "    lstmPhysics_results=physics_val_csv,\n",
    "    HMS_results=path_to_physics_data, \n",
    "    title='Calpella Basin Hourly Model Comparison (Validation)',\n",
    "    fName=\"calpella_hourly_val_metrics.csv\"\n",
    ")"
   ],
   "id": "df02db67926e2c76"
  },
  {
   "metadata": {},
   "cell_type": "markdown",
   "source": "### Run physics-informed model with best hyperparameters",
   "id": "dbdab622c178a66a"
  },
  {
   "metadata": {
    "ExecuteTime": {
     "end_time": "2025-02-17T02:57:04.437938Z",
     "start_time": "2025-02-17T02:57:04.437878Z"
    }
   },
   "cell_type": "code",
   "source": [
    "lstmPhysicsExtBest = UCB_trainer(\n",
    "    path_to_csv_folder=path_to_csv,\n",
    "    yaml_path=path_to_yaml,\n",
    "    hyperparams=best_physics_params,\n",
    "    input_features=features_with_physics,\n",
    "    physics_informed=True,\n",
    "    physics_data_file=path_to_physics_data,\n",
    "    hourly=True,\n",
    "    extend_train_period=True,\n",
    "    gpu=-1\n",
    ")\n",
    "\n",
    "lstmPhysicsExtBest.train()\n",
    "physics_test_csv, physics_test_metrics = lstmPhysicsExtBest.results('test')\n",
    "physics_test_metrics"
   ],
   "id": "4b92de7ddcddfc5c",
   "outputs": [],
   "execution_count": null
  },
  {
   "metadata": {},
   "cell_type": "code",
   "outputs": [],
   "execution_count": null,
   "source": [
    "combinedPlot(\n",
    "    lstm_results=no_physics_test_csv,\n",
    "    lstmPhysics_results=physics_test_csv,\n",
    "    HMS_results=path_to_physics_data,\n",
    "    title='Calpella Basin Hourly Model Comparison',\n",
    "    fName=\"calpella_hourly_metrics.csv\",\n",
    "    plot_filename = \"calpella_hourly_test_model_comparison.png\"\n",
    ")"
   ],
   "id": "7a43096815700344"
  },
  {
   "metadata": {},
   "cell_type": "code",
   "source": "fancyCombinedPlot(lstm_results=no_physics_test_csv, lstmPhysics_results= physics_test_csv, HMS_results=path_to_physics_data, title='Calpella Basin Hourly Model Comparison', fName = \"calpella_hourly_metrics.csv\")",
   "id": "eff25095db86ee55",
   "outputs": [],
   "execution_count": null
  }
 ],
 "metadata": {
  "kernelspec": {
   "display_name": "Python 3",
   "language": "python",
   "name": "python3"
  },
  "language_info": {
   "codemirror_mode": {
    "name": "ipython",
    "version": 2
   },
   "file_extension": ".py",
   "mimetype": "text/x-python",
   "name": "python",
   "nbconvert_exporter": "python",
   "pygments_lexer": "ipython2",
   "version": "2.7.6"
  }
 },
 "nbformat": 4,
 "nbformat_minor": 5
}
