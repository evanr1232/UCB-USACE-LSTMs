{
 "cells": [
  {
   "cell_type": "markdown",
   "metadata": {},
   "source": [
    "# Warm Springs HMS Shift Analysis\n",
    "Compute NSE for HMS predictions using raw hourly observations.\n"
   ]
  },
  {
   "metadata": {
    "ExecuteTime": {
     "end_time": "2025-06-05T19:08:42.151044Z",
     "start_time": "2025-06-05T19:08:41.870301Z"
    }
   },
   "cell_type": "code",
   "source": [
    "import pandas as pd\n",
    "import numpy as np\n",
    "import re"
   ],
   "outputs": [],
   "execution_count": 1
  },
  {
   "cell_type": "code",
   "metadata": {
    "ExecuteTime": {
     "end_time": "2025-06-05T19:08:42.155309Z",
     "start_time": "2025-06-05T19:08:42.152116Z"
    }
   },
   "source": [
    "def clean_df(df):\n",
    "    df.columns = df.iloc[0]\n",
    "    df = df[3:]\n",
    "    df.columns = df.columns.str.strip()\n",
    "    if 'Ordinate' in df.columns:\n",
    "        df = df.drop(columns=['Ordinate'])\n",
    "    if 'Date' in df.columns:\n",
    "        df = df.rename(columns={'Date':'Day'})\n",
    "    if 'Time' not in df.columns and 'time' in df.columns:\n",
    "        df = df.rename(columns={'time':'Time'})\n",
    "    mask = df['Time'] == '24:00:00'\n",
    "    df.loc[mask,'Day'] = (pd.to_datetime(df.loc[mask,'Day'], format='%d-%b-%y') + pd.Timedelta(days=1)).dt.strftime('%d-%b-%y')\n",
    "    df['Time'] = df['Time'].replace('24:00:00','00:00:00')\n",
    "    df['date'] = pd.to_datetime(df['Day'], format='%d-%b-%y') + pd.to_timedelta(df['Time'])\n",
    "    df.dropna(subset=['date'], inplace=True)\n",
    "    df = df.loc[:, ~df.columns.duplicated(keep=False)]\n",
    "    df.set_index('date', inplace=True)\n",
    "    if 'Day' in df.columns:\n",
    "        df.drop(columns=['Day'], inplace=True)\n",
    "    if 'Time' in df.columns:\n",
    "        df.drop(columns=['Time'], inplace=True)\n",
    "    return df"
   ],
   "outputs": [],
   "execution_count": 2
  },
  {
   "metadata": {
    "ExecuteTime": {
     "end_time": "2025-06-05T19:08:43.175229Z",
     "start_time": "2025-06-05T19:08:42.155982Z"
    }
   },
   "cell_type": "code",
   "source": [
    "obs_df = clean_df(pd.read_csv('../../../russian_river_data/hourly.csv', low_memory=False))\n",
    "hms_df = clean_df(pd.read_csv('../../../russian_river_data/WarmSprings_Inflow_hourly.csv', low_memory=False))\n",
    "obs = obs_df['LAKE SONOMA FLOW-RES IN CALC-VAL-SHIFT-SMOOTH'].astype(float)\n",
    "pred = hms_df['Warm Springs Dam Inflow FLOW'].astype(float)\n",
    "df = pd.concat([obs, pred], axis=1, join='inner')\n",
    "obs = df.iloc[:,0]\n",
    "pred = df.iloc[:,1]\n",
    "nse = 1 - np.sum((obs - pred)**2)/np.sum((obs - np.mean(obs))**2)\n",
    "print('NSE', nse)"
   ],
   "outputs": [
    {
     "name": "stdout",
     "output_type": "stream",
     "text": [
      "NSE 0.40521964808462485\n"
     ]
    }
   ],
   "execution_count": 3
  },
  {
   "cell_type": "code",
   "metadata": {
    "ExecuteTime": {
     "end_time": "2025-06-05T19:08:43.180812Z",
     "start_time": "2025-06-05T19:08:43.175932Z"
    }
   },
   "source": [
    "shifted_pred = pred.shift(-8)\n",
    "mask = shifted_pred.notna()\n",
    "shifted_nse = 1 - np.sum((obs[mask] - shifted_pred[mask])**2)/np.sum((obs[mask] - np.mean(obs[mask]))**2)\n",
    "print('Shifted NSE', shifted_nse)"
   ],
   "outputs": [
    {
     "name": "stdout",
     "output_type": "stream",
     "text": [
      "Shifted NSE 0.7186403200235634\n"
     ]
    }
   ],
   "execution_count": 4
  },
  {
   "cell_type": "markdown",
   "metadata": {},
   "source": [
    "## Test period NSE\n",
    "Subset data to the test period and compute NSE before and after shifting HMS predictions.\n"
   ]
  },
  {
   "cell_type": "code",
   "metadata": {
    "ExecuteTime": {
     "end_time": "2025-06-05T19:10:01.134916Z",
     "start_time": "2025-06-05T19:10:01.127015Z"
    }
   },
   "source": [
    "with open('warm_springs_dam_nlayer.yaml') as f:\n",
    "    text=f.read()\n",
    "start_str=re.search(r'test_start_date:\\s*\"(.*?)\"', text).group(1)\n",
    "end_str=re.search(r'test_end_date:\\s*\"(.*?)\"', text).group(1)\n",
    "start=pd.to_datetime(start_str, dayfirst=True)\n",
    "end=pd.to_datetime(end_str, dayfirst=True)\n",
    "mask_period=(df.index>=start) & (df.index<=end)"
   ],
   "outputs": [],
   "execution_count": 9
  },
  {
   "metadata": {
    "ExecuteTime": {
     "end_time": "2025-06-05T19:10:01.316284Z",
     "start_time": "2025-06-05T19:10:01.307479Z"
    }
   },
   "cell_type": "code",
   "source": [
    "obs_test=obs[mask_period]\n",
    "pred_test=pred[mask_period]\n",
    "nse_test=1-np.sum((obs_test-pred_test)**2)/np.sum((obs_test-np.mean(obs_test))**2)\n",
    "print('Test NSE', nse_test)\n",
    "shifted_pred_test=pred.shift(-8)[mask_period]\n",
    "mask=shifted_pred_test.notna()\n",
    "shifted_nse_test=1-np.sum((obs_test[mask]-shifted_pred_test[mask])**2)/np.sum((obs_test[mask]-np.mean(obs_test[mask]))**2)\n",
    "print('Shifted Test NSE', shifted_nse_test)"
   ],
   "outputs": [
    {
     "name": "stdout",
     "output_type": "stream",
     "text": [
      "Test NSE 0.3303296010156259\n",
      "Shifted Test NSE 0.6136935521637354\n"
     ]
    }
   ],
   "execution_count": 10
  },
  {
   "metadata": {},
   "cell_type": "code",
   "outputs": [],
   "execution_count": null,
   "source": ""
  }
 ],
 "metadata": {
  "kernelspec": {
   "name": "python3",
   "language": "python",
   "display_name": "Python 3 (ipykernel)"
  }
 },
 "nbformat": 4,
 "nbformat_minor": 2
}
