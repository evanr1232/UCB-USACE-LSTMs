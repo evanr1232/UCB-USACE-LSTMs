{
 "cells": [
  {
   "cell_type": "code",
   "execution_count": 1,
   "id": "a98e29fd",
   "metadata": {},
   "outputs": [],
   "source": [
    "# import pandas as pd\n",
    "\n",
    "# # Check these values\n",
    "\n",
    "# # Load the data (assuming it's tab-separated)\n",
    "# df = pd.read_csv(\"../usgs_streamflow/11467000_streamflow_qc.txt\", sep=\"\\t\", header=None, names=[\"gauge_id\", \"date\", \"discharge_cfs\", \"qualifier\"])\n",
    "# df['date'] = pd.to_datetime(df['date'])\n",
    "# df.set_index('date', inplace=True)\n",
    "\n",
    "# # Convert from cfs to mm/day (optional, if you want depth)\n",
    "# # First you need basin area in km² from USGS or StreamStats\n",
    "# area_sqmi = 1338\n",
    "# area_km2 = area_sqmi * 2.58999\n",
    "# cfs_to_mm_day = 0.0283168 * 86400 / (area_km2 * 1e6) * 1e3\n",
    "# df[\"discharge_mm\"] = df[\"discharge_cfs\"] * cfs_to_mm_day\n",
    "\n",
    "# display(df)"
   ]
  },
  {
   "cell_type": "code",
   "execution_count": 2,
   "id": "d157d319",
   "metadata": {},
   "outputs": [],
   "source": [
    "# q_mean = df[\"discharge_cfs\"].mean()\n",
    "# q5 = df[\"discharge_cfs\"].quantile(0.05)\n",
    "# q95 = df[\"discharge_cfs\"].quantile(0.95)\n",
    "\n",
    "# display(df)"
   ]
  },
  {
   "cell_type": "code",
   "execution_count": 3,
   "id": "00f23889",
   "metadata": {},
   "outputs": [],
   "source": [
    "# # Reorder or drop columns if needed\n",
    "# df_to_save = df[[\"gauge_id\", \"discharge_cfs\", \"discharge_mm\"]].copy()\n",
    "# df_to_save.reset_index(inplace=True)  # move date back to column\n",
    "\n",
    "# # Save as tab-separated .txt\n",
    "# df_to_save.to_csv(\"11467000_streamflow_mm.txt\", sep=\"\\t\", index=False)"
   ]
  },
  {
   "cell_type": "code",
   "execution_count": 4,
   "id": "6e2a1ca5",
   "metadata": {},
   "outputs": [],
   "source": [
    "# df_to_save"
   ]
  },
  {
   "cell_type": "code",
   "execution_count": 5,
   "id": "9ff4d5e7",
   "metadata": {},
   "outputs": [
    {
     "name": "stdout",
     "output_type": "stream",
     "text": [
      "Intel MKL WARNING: Support of Intel(R) Streaming SIMD Extensions 4.2 (Intel(R) SSE4.2) enabled only processors has been deprecated. Intel oneAPI Math Kernel Library 2025.0 will require Intel(R) Advanced Vector Extensions (Intel(R) AVX) instructions.\n",
      "Intel MKL WARNING: Support of Intel(R) Streaming SIMD Extensions 4.2 (Intel(R) SSE4.2) enabled only processors has been deprecated. Intel oneAPI Math Kernel Library 2025.0 will require Intel(R) Advanced Vector Extensions (Intel(R) AVX) instructions.\n"
     ]
    },
    {
     "name": "stderr",
     "output_type": "stream",
     "text": [
      "/var/folders/wh/2ltd3_yj3gx4x07y15x8vhbw0000gn/T/ipykernel_43811/3209445517.py:39: FutureWarning: 'Y' is deprecated and will be removed in a future version, please use 'YE' instead.\n",
      "  runoff_mm_annual = df[\"discharge_mm\"].resample(\"Y\").sum().mean()\n"
     ]
    }
   ],
   "source": [
    "import pandas as pd\n",
    "import numpy as np\n",
    "\n",
    "# ---- Load your daily discharge data (already shown in your notebook)\n",
    "df = pd.read_csv(\"../usgs_streamflow/11467000_streamflow_qc.txt\", sep=\"\\t\", header=None, names=[\"gauge_id\", \"date\", \"discharge_cfs\", \"qualifier\"])\n",
    "df['date'] = pd.to_datetime(df['date'])\n",
    "df.set_index('date', inplace=True)\n",
    "\n",
    "# ---- Convert to mm/day\n",
    "area_sqmi = 1338\n",
    "area_km2 = area_sqmi * 2.58999\n",
    "cfs_to_mm_day = 0.0283168 * 86400 / (area_km2 * 1e6) * 1000\n",
    "df[\"discharge_mm\"] = df[\"discharge_cfs\"] * cfs_to_mm_day\n",
    "\n",
    "# ---- Compute hydrologic metrics\n",
    "def compute_event_stats(series, threshold, condition):\n",
    "    event_flags = condition(series, threshold)\n",
    "    starts = (event_flags & ~event_flags.shift(1, fill_value=False)).sum()\n",
    "    durations = []\n",
    "    count = 0\n",
    "    for val in event_flags:\n",
    "        if val:\n",
    "            count += 1\n",
    "        elif count > 0:\n",
    "            durations.append(count)\n",
    "            count = 0\n",
    "    if count > 0:\n",
    "        durations.append(count)\n",
    "    mean_duration = np.mean(durations) if durations else 0\n",
    "    return starts, mean_duration\n",
    "\n",
    "# Basic stats\n",
    "q_mean = df[\"discharge_cfs\"].mean()\n",
    "q5 = df[\"discharge_cfs\"].quantile(0.05)\n",
    "q95 = df[\"discharge_cfs\"].quantile(0.95)\n",
    "\n",
    "# Runoff ratio (needs precip)\n",
    "p_mean = 900  # placeholder in mm/year (adjust if you have actual)\n",
    "runoff_mm_annual = df[\"discharge_mm\"].resample(\"Y\").sum().mean()\n",
    "runoff_ratio = runoff_mm_annual / p_mean\n",
    "\n",
    "# Slope of FDC\n",
    "sorted_flow = df[\"discharge_cfs\"].sort_values(ascending=False).reset_index(drop=True)\n",
    "q33 = sorted_flow.iloc[int(0.33 * len(sorted_flow))]\n",
    "q66 = sorted_flow.iloc[int(0.66 * len(sorted_flow))]\n",
    "slope_fdc = (q33 - q66) / (0.66 - 0.33)\n",
    "\n",
    "# Baseflow index (simplified: use 90th percentile of baseflow proxy)\n",
    "# You may want to replace this with a proper filter (e.g. Lyne-Hollick)\n",
    "baseflow_index = df[\"discharge_cfs\"].rolling(7, center=True).min().sum() / df[\"discharge_cfs\"].sum()\n",
    "\n",
    "# Stream elasticity: %ΔQ / %ΔP (placeholder)\n",
    "stream_elas = None  # needs both annual Q and P time series\n",
    "\n",
    "# High/low flow event frequency/duration\n",
    "high_thresh = df[\"discharge_cfs\"].quantile(0.9)\n",
    "low_thresh = df[\"discharge_cfs\"].quantile(0.1)\n",
    "\n",
    "high_freq, high_dur = compute_event_stats(df[\"discharge_cfs\"], high_thresh, lambda s, t: s > t)\n",
    "low_freq, low_dur = compute_event_stats(df[\"discharge_cfs\"], low_thresh, lambda s, t: s < t)\n",
    "\n",
    "# Zero-flow frequency\n",
    "zero_q_freq = (df[\"discharge_cfs\"] == 0).sum() / len(df)\n",
    "\n",
    "# HFD mean\n",
    "df[\"doy\"] = df.index.dayofyear\n",
    "hfd = df.groupby(df.index.year).apply(lambda x: (x[\"discharge_cfs\"] * x[\"doy\"]).sum() / x[\"discharge_cfs\"].sum())\n",
    "hfd_mean = hfd.mean()\n",
    "\n",
    "# ---- Package into DataFrame\n",
    "summary = {\n",
    "    \"gauge_id\": 11467000,\n",
    "    \"q_mean\": q_mean,\n",
    "    \"runoff_ratio\": runoff_ratio,\n",
    "    \"slope_fdc\": slope_fdc,\n",
    "    \"baseflow_index\": baseflow_index,\n",
    "    \"stream_elas\": stream_elas,\n",
    "    \"q5\": q5,\n",
    "    \"q95\": q95,\n",
    "    \"high_q_freq\": high_freq,\n",
    "    \"high_q_dur\": high_dur,\n",
    "    \"low_q_freq\": low_freq,\n",
    "    \"low_q_dur\": low_dur,\n",
    "    \"zero_q_freq\": zero_q_freq,\n",
    "    \"hfd_mean\": hfd_mean\n",
    "}\n",
    "\n",
    "summary_df = pd.DataFrame([summary])\n",
    "\n",
    "# ---- Export to CSV with semicolon delimiter\n",
    "summary_df.to_csv(\"camels_hydro_11467000.txt\", sep=\";\", index=False)\n"
   ]
  },
  {
   "cell_type": "code",
   "execution_count": null,
   "id": "9b8c7850",
   "metadata": {},
   "outputs": [],
   "source": []
  }
 ],
 "metadata": {
  "kernelspec": {
   "display_name": "neuralhydrology",
   "language": "python",
   "name": "python3"
  },
  "language_info": {
   "codemirror_mode": {
    "name": "ipython",
    "version": 3
   },
   "file_extension": ".py",
   "mimetype": "text/x-python",
   "name": "python",
   "nbconvert_exporter": "python",
   "pygments_lexer": "ipython3",
   "version": "3.10.16"
  }
 },
 "nbformat": 4,
 "nbformat_minor": 5
}
