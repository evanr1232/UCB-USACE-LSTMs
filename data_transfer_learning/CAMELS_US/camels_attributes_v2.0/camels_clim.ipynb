{
 "cells": [
  {
   "cell_type": "code",
   "execution_count": 1,
   "id": "379243eb",
   "metadata": {},
   "outputs": [
    {
     "name": "stdout",
     "output_type": "stream",
     "text": [
      "Intel MKL WARNING: Support of Intel(R) Streaming SIMD Extensions 4.2 (Intel(R) SSE4.2) enabled only processors has been deprecated. Intel oneAPI Math Kernel Library 2025.0 will require Intel(R) Advanced Vector Extensions (Intel(R) AVX) instructions.\n",
      "Intel MKL WARNING: Support of Intel(R) Streaming SIMD Extensions 4.2 (Intel(R) SSE4.2) enabled only processors has been deprecated. Intel oneAPI Math Kernel Library 2025.0 will require Intel(R) Advanced Vector Extensions (Intel(R) AVX) instructions.\n"
     ]
    },
    {
     "name": "stderr",
     "output_type": "stream",
     "text": [
      "/var/folders/wh/2ltd3_yj3gx4x07y15x8vhbw0000gn/T/ipykernel_44609/510614703.py:9: FutureWarning: 'Y' is deprecated and will be removed in a future version, please use 'YE' instead.\n",
      "  p_mean = df[\"prcp\"].resample(\"Y\").sum().mean()\n",
      "/var/folders/wh/2ltd3_yj3gx4x07y15x8vhbw0000gn/T/ipykernel_44609/510614703.py:10: FutureWarning: 'M' is deprecated and will be removed in a future version, please use 'ME' instead.\n",
      "  monthly = df[\"prcp\"].resample(\"M\").sum()\n",
      "/var/folders/wh/2ltd3_yj3gx4x07y15x8vhbw0000gn/T/ipykernel_44609/510614703.py:21: FutureWarning: 'Y' is deprecated and will be removed in a future version, please use 'YE' instead.\n",
      "  pet_mean = df[\"pet\"].resample(\"Y\").sum().mean()\n"
     ]
    }
   ],
   "source": [
    "import pandas as pd\n",
    "import numpy as np\n",
    "\n",
    "# Load Daymet data\n",
    "df = pd.read_csv(\"../basin_mean_forcing/daymet/spatial_avg_Guerneville.csv\", parse_dates=[\"time\"])\n",
    "df.set_index(\"time\", inplace=True)\n",
    "\n",
    "# ---- Basic\n",
    "p_mean = df[\"prcp\"].resample(\"Y\").sum().mean()\n",
    "monthly = df[\"prcp\"].resample(\"M\").sum()\n",
    "p_seasonality = monthly.groupby(monthly.index.month).mean().std() / monthly.groupby(monthly.index.month).mean().mean()\n",
    "\n",
    "# ---- Snow fraction: tmax < 0C days with precip\n",
    "snow_days = df[(df[\"tmax\"] < 0) & (df[\"prcp\"] > 1)].shape[0]\n",
    "wet_days = df[df[\"prcp\"] > 1].shape[0]\n",
    "frac_snow = snow_days / wet_days if wet_days > 0 else 0\n",
    "\n",
    "# ---- PET estimation using Hargreaves (simple method)\n",
    "df[\"tavg\"] = (df[\"tmax\"] + df[\"tmin\"]) / 2\n",
    "df[\"pet\"] = 0.0023 * (df[\"tmax\"] - df[\"tmin\"]).pow(0.5) * (df[\"tavg\"] + 17.8) * 0.408\n",
    "pet_mean = df[\"pet\"].resample(\"Y\").sum().mean()\n",
    "aridity = pet_mean / p_mean\n",
    "\n",
    "# ---- High precip events\n",
    "high_thresh = df[\"prcp\"].quantile(0.9)\n",
    "df[\"high_prec\"] = df[\"prcp\"] > high_thresh\n",
    "df[\"doy\"] = df.index.dayofyear\n",
    "df[\"high_group\"] = (df[\"high_prec\"] != df[\"high_prec\"].shift()).cumsum()\n",
    "high_events = df[df[\"high_prec\"]].groupby(\"high_group\")\n",
    "high_freq = high_events.ngroups / (df.index.year.max() - df.index.year.min() + 1)\n",
    "high_dur = high_events.size().mean()\n",
    "high_timing = high_events[\"doy\"].mean().mean()\n",
    "\n",
    "# ---- Low precip events\n",
    "df[\"low_prec\"] = df[\"prcp\"] < 1\n",
    "df[\"low_group\"] = (df[\"low_prec\"] != df[\"low_prec\"].shift()).cumsum()\n",
    "low_events = df[df[\"low_prec\"]].groupby(\"low_group\")\n",
    "low_freq = low_events.ngroups / (df.index.year.max() - df.index.year.min() + 1)\n",
    "low_dur = low_events.size().mean()\n",
    "low_timing = low_events[\"doy\"].mean().mean()\n",
    "\n",
    "# ---- Output\n",
    "row = {\n",
    "    \"gauge_id\": 11467000,\n",
    "    \"p_mean\": p_mean,\n",
    "    \"pet_mean\": pet_mean,\n",
    "    \"p_seasonality\": p_seasonality,\n",
    "    \"frac_snow\": frac_snow,\n",
    "    \"aridity\": aridity,\n",
    "    \"high_prec_freq\": high_freq,\n",
    "    \"high_prec_dur\": high_dur,\n",
    "    \"high_prec_timing\": high_timing,\n",
    "    \"low_prec_freq\": low_freq,\n",
    "    \"low_prec_dur\": low_dur,\n",
    "    \"low_prec_timing\": low_timing\n",
    "}\n",
    "\n",
    "df_out = pd.DataFrame([row])\n",
    "df_out.to_csv(\"camels_clim_11467000.txt\", sep=\";\", index=False)\n"
   ]
  },
  {
   "cell_type": "code",
   "execution_count": null,
   "id": "79391d53",
   "metadata": {},
   "outputs": [],
   "source": []
  }
 ],
 "metadata": {
  "kernelspec": {
   "display_name": "neuralhydrology",
   "language": "python",
   "name": "python3"
  },
  "language_info": {
   "codemirror_mode": {
    "name": "ipython",
    "version": 3
   },
   "file_extension": ".py",
   "mimetype": "text/x-python",
   "name": "python",
   "nbconvert_exporter": "python",
   "pygments_lexer": "ipython3",
   "version": "3.10.16"
  }
 },
 "nbformat": 4,
 "nbformat_minor": 5
}
