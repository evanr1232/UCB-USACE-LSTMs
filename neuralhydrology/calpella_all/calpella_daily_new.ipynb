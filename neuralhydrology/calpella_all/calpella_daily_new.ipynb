{
 "cells": [
  {
   "cell_type": "markdown",
   "metadata": {},
   "source": [
    "## Imports"
   ]
  },
  {
   "cell_type": "code",
   "execution_count": 2,
   "metadata": {},
   "outputs": [],
   "source": [
    "import sys\n",
    "import os\n",
    "import pickle\n",
    "\n",
    "library_path = os.path.join('..', '..', '..','UCB-USACE-LSTMs')\n",
    "sys.path.insert(0, library_path)\n",
    "\n",
    "from pathlib import Path\n",
    "import pandas as pd\n",
    "import xarray as xr\n",
    "\n",
    "import matplotlib.pyplot as plt\n",
    "import torch\n",
    "from neuralhydrology.evaluation.metrics import *\n",
    "from neuralhydrology.nh_run import start_run, eval_run, finetune\n",
    "from neuralhydrology.utils.nh_results_ensemble import create_results_ensemble\n",
    "from neuralhydrology.UCB_training.UCB_train import UCB_trainer\n",
    "from neuralhydrology.UCB_training.UCB_train import clean_daily\n",
    "from neuralhydrology.UCB_training.UCB_train import combinedPlot\n",
    "from neuralhydrology.evaluation.metrics import calculate_all_metrics"
   ]
  },
  {
   "cell_type": "markdown",
   "metadata": {},
   "source": [
    "## Working directory"
   ]
  },
  {
   "cell_type": "code",
   "execution_count": 4,
   "metadata": {},
   "outputs": [
    {
     "name": "stdout",
     "output_type": "stream",
     "text": [
      "Current Working Directory: F:\\Dino\\UCB-USACE-LSTMs\\neuralhydrology\\calpella_all\n",
      "Train Basin File Exists: True\n"
     ]
    }
   ],
   "source": [
    "print(\"Current Working Directory:\", os.getcwd())\n",
    "print(\"Train Basin File Exists:\", os.path.exists(\"calpella\"))"
   ]
  },
  {
   "cell_type": "markdown",
   "metadata": {},
   "source": [
    "## Standard daily LSTM, train on training subset, evaluate on evaluation period (for hyperparameter search)"
   ]
  },
  {
   "cell_type": "code",
   "execution_count": 6,
   "metadata": {},
   "outputs": [],
   "source": [
    "path_to_csv = Path(\"F:/Dino/UCB-USACE-LSTMs/data/updated_russian_river_folder/\")\n",
    "path_to_yaml = Path(\"calpella_gage.yaml\")\n",
    "params = {\n",
    "    \"epochs\":16,\n",
    "    \"hidden_size\": 128,\n",
    "    \"output_dropout\": 0.4,\n",
    "    \"seq_length\": 90,\n",
    "}\n",
    "#defaults to daily so no need to specify hourly\n",
    "lstmNoPhysicsDaily = UCB_trainer(path_to_csv, yaml_path= path_to_yaml, hyperparams= params)"
   ]
  },
  {
   "cell_type": "code",
   "execution_count": null,
   "metadata": {},
   "outputs": [
    {
     "name": "stdout",
     "output_type": "stream",
     "text": [
      "2025-01-29 13:49:50,138: Logging to F:\\Dino\\UCB-USACE-LSTMs\\neuralhydrology\\calpella_all\\runs\\testing_run_2901_134950\\output.log initialized.\n",
      "2025-01-29 13:49:50,140: ### Folder structure created at F:\\Dino\\UCB-USACE-LSTMs\\neuralhydrology\\calpella_all\\runs\\testing_run_2901_134950\n",
      "2025-01-29 13:49:50,141: ### Run configurations for testing_run\n",
      "2025-01-29 13:49:50,144: experiment_name: testing_run\n",
      "2025-01-29 13:49:50,146: train_basin_file: calpella\n",
      "2025-01-29 13:49:50,149: validation_basin_file: calpella\n",
      "2025-01-29 13:49:50,151: test_basin_file: calpella\n",
      "2025-01-29 13:49:50,154: train_start_date: 1994-10-01 00:00:00\n",
      "2025-01-29 13:49:50,157: train_end_date: 2002-09-30 00:00:00\n",
      "2025-01-29 13:49:50,158: validation_start_date: 2002-10-01 00:00:00\n",
      "2025-01-29 13:49:50,161: validation_end_date: 2005-09-30 00:00:00\n",
      "2025-01-29 13:49:50,162: test_start_date: 2005-10-01 00:00:00\n",
      "2025-01-29 13:49:50,163: test_end_date: 2009-09-30 00:00:00\n",
      "2025-01-29 13:49:50,164: device: cpu\n",
      "2025-01-29 13:49:50,164: physics_informed: False\n",
      "2025-01-29 13:49:50,165: physics_data_file: None\n",
      "2025-01-29 13:49:50,166: validate_every: 5\n",
      "2025-01-29 13:49:50,168: validate_n_random_basins: 1\n",
      "2025-01-29 13:49:50,171: metrics: ['NSE', 'MSE']\n",
      "2025-01-29 13:49:50,173: model: cudalstm\n",
      "2025-01-29 13:49:50,175: head: regression\n",
      "2025-01-29 13:49:50,176: output_activation: linear\n",
      "2025-01-29 13:49:50,177: hidden_size: 128\n",
      "2025-01-29 13:49:50,179: initial_forget_bias: 3\n",
      "2025-01-29 13:49:50,181: output_dropout: 0.4\n",
      "2025-01-29 13:49:50,182: optimizer: Adam\n",
      "2025-01-29 13:49:50,184: loss: NSE\n",
      "2025-01-29 13:49:50,185: learning_rate: {0: 0.01, 30: 0.005, 40: 0.001}\n",
      "2025-01-29 13:49:50,186: batch_size: 256\n",
      "2025-01-29 13:49:50,188: epochs: 16\n",
      "2025-01-29 13:49:50,191: clip_gradient_norm: 1\n",
      "2025-01-29 13:49:50,193: predict_last_n: 1\n",
      "2025-01-29 13:49:50,194: seq_length: 90\n",
      "2025-01-29 13:49:50,196: log_interval: 16\n",
      "2025-01-29 13:49:50,198: log_tensorboard: True\n",
      "2025-01-29 13:49:50,199: log_n_figures: 1\n",
      "2025-01-29 13:49:50,200: save_weights_every: 16\n",
      "2025-01-29 13:49:50,201: dataset: russian_river\n",
      "2025-01-29 13:49:50,202: data_dir: F:\\Dino\\UCB-USACE-LSTMs\\data\\updated_russian_river_folder\n",
      "2025-01-29 13:49:50,202: dynamic_inputs: ['EF RUSSIAN 20 ET-POTENTIAL RUN:BASIN AVERAGE 60 YR', 'EF RUSSIAN 20 PRECIP-INC SCREENED', 'POTTER VALLEY CA FLOW USGS_ADJUSTED', 'UKIAH CA HUMIDITY USAF-NOAA', 'UKIAH CA SOLAR RADIATION USAF-NOAA', 'UKIAH CA TEMPERATURE USAF-NOAA', 'UKIAH CA WINDSPEED USAF-NOAA']\n",
      "2025-01-29 13:49:50,203: target_variables: ['NR CALPELLA FLOW COE CPL']\n",
      "2025-01-29 13:49:50,204: clip_targets_to_zero: ['NR CALPELLA FLOW COE CPL']\n",
      "2025-01-29 13:49:50,206: hourly: False\n",
      "2025-01-29 13:49:50,208: number_of_basins: 1\n",
      "2025-01-29 13:49:50,210: run_dir: F:\\Dino\\UCB-USACE-LSTMs\\neuralhydrology\\calpella_all\\runs\\testing_run_2901_134950\n",
      "2025-01-29 13:49:50,212: train_dir: F:\\Dino\\UCB-USACE-LSTMs\\neuralhydrology\\calpella_all\\runs\\testing_run_2901_134950\\train_data\n",
      "2025-01-29 13:49:50,213: img_log_dir: F:\\Dino\\UCB-USACE-LSTMs\\neuralhydrology\\calpella_all\\runs\\testing_run_2901_134950\\img_log\n",
      "2025-01-29 13:49:50,224: ### Device cpu will be used for training\n",
      "2025-01-29 13:49:50,227: Loading basin data into xarray data set.\n",
      "100%|██████████| 1/1 [00:00<00:00,  3.85it/s]\n",
      "2025-01-29 13:49:50,504: Calculating target variable stds per basin\n",
      "100%|██████████| 1/1 [00:00<00:00, 143.49it/s]\n",
      "2025-01-29 13:49:50,551: Create lookup table and convert to pytorch tensor\n",
      "100%|██████████| 1/1 [00:02<00:00,  2.92s/it]\n",
      "# Epoch 1: 100%|██████████| 11/11 [00:01<00:00,  7.84it/s, Loss: 0.0000]\n",
      "2025-01-29 13:49:57,064: Epoch 1 average loss: avg_loss: 0.00000, avg_total_loss: 0.00000\n",
      "# Epoch 2: 100%|██████████| 11/11 [00:00<00:00, 11.28it/s, Loss: 0.0000]\n",
      "2025-01-29 13:49:58,046: Epoch 2 average loss: avg_loss: 0.00000, avg_total_loss: 0.00000\n",
      "# Epoch 3: 100%|██████████| 11/11 [00:00<00:00, 11.23it/s, Loss: 0.0000]\n",
      "2025-01-29 13:49:59,034: Epoch 3 average loss: avg_loss: 0.00000, avg_total_loss: 0.00000\n",
      "# Epoch 4: 100%|██████████| 11/11 [00:00<00:00, 11.14it/s, Loss: 0.0000]\n",
      "2025-01-29 13:50:00,031: Epoch 4 average loss: avg_loss: 0.00000, avg_total_loss: 0.00000\n",
      "# Epoch 5: 100%|██████████| 11/11 [00:00<00:00, 11.44it/s, Loss: 0.0000]\n",
      "2025-01-29 13:50:01,001: Epoch 5 average loss: avg_loss: 0.00000, avg_total_loss: 0.00000\n",
      "# Validation: 100%|██████████| 1/1 [00:00<00:00,  1.06it/s]\n",
      "2025-01-29 13:50:02,486: Epoch 5 average validation loss: 0.00000 -- Median validation metrics: avg_loss: 0.00000, NSE: 0.70687, MSE: 50215.70703\n",
      "# Epoch 6: 100%|██████████| 11/11 [00:01<00:00,  8.60it/s, Loss: 0.0000]\n",
      "2025-01-29 13:50:03,774: Epoch 6 average loss: avg_loss: 0.00000, avg_total_loss: 0.00000\n",
      "# Epoch 7: 100%|██████████| 11/11 [00:01<00:00, 10.48it/s, Loss: 0.0000]\n",
      "2025-01-29 13:50:04,834: Epoch 7 average loss: avg_loss: 0.00000, avg_total_loss: 0.00000\n",
      "# Epoch 8: 100%|██████████| 11/11 [00:01<00:00, 10.60it/s, Loss: 0.0000]\n",
      "2025-01-29 13:50:05,877: Epoch 8 average loss: avg_loss: 0.00000, avg_total_loss: 0.00000\n",
      "# Epoch 9:  45%|████▌     | 5/11 [00:00<00:00, 10.03it/s, Loss: 0.0000]"
     ]
    }
   ],
   "source": [
    "lstmNoPhysicsDaily.train()"
   ]
  },
  {
   "cell_type": "code",
   "execution_count": null,
   "metadata": {},
   "outputs": [],
   "source": [
    "lstmNoPhysicsDaily.results()"
   ]
  },
  {
   "cell_type": "markdown",
   "metadata": {},
   "source": [
    "## Physics-informed LSTM, train on training subset, evaluate on evaluation period (for hyperparameter search)"
   ]
  },
  {
   "cell_type": "code",
   "execution_count": null,
   "metadata": {},
   "outputs": [],
   "source": [
    "path_to_csv = Path(\"F:/Dino/UCB-USACE-LSTMs/data/updated_russian_river_folder/\")\n",
    "path_to_yaml = Path(\"calpella_gage.yaml\")\n",
    "path_to_physics_data = Path(\"F:/Dino/UCB-USACE-LSTMs/data/updated_russian_river_folder/Calpella_daily.csv\")\n",
    "params = {\n",
    "    \"epochs\":16,\n",
    "    \"hidden_size\": 128,\n",
    "    \"output_dropout\": 0.4,\n",
    "    \"seq_length\": 90,\n",
    "}\n",
    "features_with_physics = [\n",
    "    #from daily\n",
    "    \"EF RUSSIAN 20 ET-POTENTIAL RUN:BASIN AVERAGE 60 YR\",\n",
    "    \"EF RUSSIAN 20 PRECIP-INC SCREENED\",\n",
    "    \"POTTER VALLEY CA FLOW USGS_ADJUSTED\",\n",
    "    \"UKIAH CA HUMIDITY USAF-NOAA\",\n",
    "    \"UKIAH CA SOLAR RADIATION USAF-NOAA\",\n",
    "    \"UKIAH CA TEMPERATURE USAF-NOAA\",\n",
    "    \"UKIAH CA WINDSPEED USAF-NOAA\",\n",
    "    #from new capella.csv\n",
    "    'Capella Gage FLOW',\n",
    "    'EF Russian 20 ET-POTENTIAL',\n",
    "    'EF Russian 20 FLOW',\n",
    "    'EF Russian 20 FLOW-BASE',\n",
    "    'EF Russian 20 INFILTRATION',\n",
    "    'EF Russian 20 PERC-SOIL',\n",
    "    'EF Russian 20 SATURATION FRACTION',\n",
    "#    'Lake Mendocino Storage',\n",
    "    ]\n",
    "lstmPhysicsDaily = UCB_trainer(path_to_csv, yaml_path= path_to_yaml, hyperparams= params, input_features= features_with_physics, physics_informed=True, physics_data_file=path_to_physics_data, hourly=False)"
   ]
  },
  {
   "cell_type": "code",
   "execution_count": null,
   "metadata": {},
   "outputs": [],
   "source": [
    "lstmPhysicsDaily.train()"
   ]
  },
  {
   "cell_type": "code",
   "execution_count": null,
   "metadata": {},
   "outputs": [],
   "source": [
    "lstmPhysicsDaily.results()"
   ]
  },
  {
   "cell_type": "markdown",
   "metadata": {},
   "source": [
    "## Retrain LSTM on entire train period using best hyperparameters, evaluate on test period"
   ]
  },
  {
   "cell_type": "code",
   "execution_count": null,
   "metadata": {},
   "outputs": [],
   "source": [
    "path_to_csv = Path(\"F:/Dino/UCB-USACE-LSTMs/data/updated_russian_river_folder/\")\n",
    "path_to_yaml = Path(\"calpella_gage.yaml\")\n",
    "params = {\n",
    "    \"epochs\":32,\n",
    "    \"hidden_size\": 128,\n",
    "    \"output_dropout\": 0.4,\n",
    "    \"seq_length\": 90,\n",
    "}\n",
    "#defaults to daily so no need to specify hourly\n",
    "lstmNoPhysicsDailyExtended = UCB_trainer(path_to_csv, yaml_path= path_to_yaml, hyperparams= params, hourly=False, extend_train_period=True)"
   ]
  },
  {
   "cell_type": "code",
   "execution_count": null,
   "metadata": {},
   "outputs": [],
   "source": [
    "lstmNoPhysicsDailyExtended.train()"
   ]
  },
  {
   "cell_type": "code",
   "execution_count": null,
   "metadata": {},
   "outputs": [],
   "source": [
    "lstm_result_metrics, lstm_result_path = lstmNoPhysicsDailyExtended.results('test')"
   ]
  },
  {
   "cell_type": "code",
   "execution_count": null,
   "metadata": {},
   "outputs": [],
   "source": [
    "lstm_result_metrics"
   ]
  },
  {
   "cell_type": "markdown",
   "metadata": {},
   "source": [
    "## Retrain PI-LSTM on entire train period using best hyperparameters, evaluate on test period"
   ]
  },
  {
   "cell_type": "code",
   "execution_count": null,
   "metadata": {},
   "outputs": [],
   "source": [
    "path_to_csv = Path(\"F:/Dino/UCB-USACE-LSTMs/data/updated_russian_river_folder/\")\n",
    "path_to_yaml = Path(\"calpella_gage.yaml\")\n",
    "path_to_physics_data = Path(\"F:/Dino/UCB-USACE-LSTMs/data/updated_russian_river_folder/Calpella_daily.csv\")\n",
    "params = {\n",
    "    \"epochs\":32,\n",
    "    \"hidden_size\": 128,\n",
    "    \"output_dropout\": 0.4,\n",
    "    \"seq_length\": 90,\n",
    "}\n",
    "features_with_physics = [\n",
    "    #from daily\n",
    "    \"EF RUSSIAN 20 ET-POTENTIAL RUN:BASIN AVERAGE 60 YR\",\n",
    "    \"EF RUSSIAN 20 PRECIP-INC SCREENED\",\n",
    "    \"POTTER VALLEY CA FLOW USGS_ADJUSTED\",\n",
    "    \"UKIAH CA HUMIDITY USAF-NOAA\",\n",
    "    \"UKIAH CA SOLAR RADIATION USAF-NOAA\",\n",
    "    \"UKIAH CA TEMPERATURE USAF-NOAA\",\n",
    "    \"UKIAH CA WINDSPEED USAF-NOAA\",\n",
    "    #from new capella.csv\n",
    "    'Capella Gage FLOW',\n",
    "    'EF Russian 20 ET-POTENTIAL',\n",
    "    'EF Russian 20 FLOW',\n",
    "    'EF Russian 20 FLOW-BASE',\n",
    "    'EF Russian 20 INFILTRATION',\n",
    "    'EF Russian 20 PERC-SOIL',\n",
    "    'EF Russian 20 SATURATION FRACTION',\n",
    "#    'Lake Mendocino Storage',\n",
    "    ]\n",
    "#extend train period set to true\n",
    "lstmPhysicsDailyExtended = UCB_trainer(path_to_csv, yaml_path= path_to_yaml, hyperparams= params, input_features= features_with_physics, physics_informed=True, physics_data_file=path_to_physics_data, hourly=False, extend_train_period=True)"
   ]
  },
  {
   "cell_type": "code",
   "execution_count": null,
   "metadata": {},
   "outputs": [],
   "source": [
    "lstmPhysicsDailyExtended.train()"
   ]
  },
  {
   "cell_type": "code",
   "execution_count": null,
   "metadata": {},
   "outputs": [],
   "source": [
    "physics_informed_result_metrics, physics_informed_result_path = lstmPhysicsDailyExtended.results('test')"
   ]
  },
  {
   "cell_type": "code",
   "execution_count": null,
   "metadata": {},
   "outputs": [],
   "source": [
    "physics_informed_result_metrics"
   ]
  },
  {
   "cell_type": "markdown",
   "metadata": {},
   "source": [
    "## Inspect results"
   ]
  },
  {
   "cell_type": "code",
   "execution_count": null,
   "metadata": {},
   "outputs": [],
   "source": [
    "    model1_df = pd.read_csv(lstm_result_path) #colums: Date, Observed, Predicted\n",
    "    model1_df.head()"
   ]
  },
  {
   "cell_type": "code",
   "execution_count": null,
   "metadata": {},
   "outputs": [],
   "source": [
    "    model2_df = pd.read_csv(physics_informed_result_path) #colums: Date, Observed, Predicted\n",
    "    model1_df.head()"
   ]
  },
  {
   "cell_type": "code",
   "execution_count": null,
   "metadata": {},
   "outputs": [],
   "source": [
    "    hms_df = clean_daily(pd.read_csv(path_to_physics_data))\n",
    "    hms_df.head()"
   ]
  },
  {
   "cell_type": "markdown",
   "metadata": {},
   "source": [
    " ## Plot combined results"
   ]
  },
  {
   "cell_type": "code",
   "execution_count": null,
   "metadata": {},
   "outputs": [],
   "source": [
    "myplot, metrics_df = combinedPlot(lstm_results=lstm_result_path, lstmPhysics_results= physics_informed_result_path, HMS_results=path_to_physics_data, title='Calpella Basin Model Comparison', fName = \"calpella_metrics.csv\")"
   ]
  },
  {
   "cell_type": "code",
   "execution_count": null,
   "metadata": {},
   "outputs": [],
   "source": [
    "metrics_df"
   ]
  },
  {
   "cell_type": "code",
   "execution_count": null,
   "metadata": {},
   "outputs": [],
   "source": []
  }
 ],
 "metadata": {
  "kernelspec": {
   "display_name": "Python 3 (ipykernel)",
   "language": "python",
   "name": "python3"
  },
  "language_info": {
   "codemirror_mode": {
    "name": "ipython",
    "version": 3
   },
   "file_extension": ".py",
   "mimetype": "text/x-python",
   "name": "python",
   "nbconvert_exporter": "python",
   "pygments_lexer": "ipython3",
   "version": "3.12.4"
  }
 },
 "nbformat": 4,
 "nbformat_minor": 4
}
