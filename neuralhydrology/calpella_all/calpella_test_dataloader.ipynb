{
 "cells": [
  {
   "cell_type": "code",
   "execution_count": null,
   "metadata": {},
   "outputs": [],
   "source": [
    "import sys\n",
    "import os\n",
    "import pickle\n",
    "\n",
    "library_path = os.path.join('..', '..', '..','UCB-USACE-LSTMs')\n",
    "sys.path.insert(0, library_path)\n",
    "\n",
    "from pathlib import Path\n",
    "import pandas as pd\n",
    "\n",
    "import matplotlib.pyplot as plt\n",
    "import torch\n",
    "from neuralhydrology.evaluation.metrics import *\n",
    "from neuralhydrology.nh_run import start_run, eval_run, finetune\n",
    "from neuralhydrology.utils.nh_results_ensemble import create_results_ensemble\n",
    "from neuralhydrology.UCB_training.UCB_train import UCB_trainer\n",
    "from neuralhydrology.evaluation.metrics import calculate_all_metrics"
   ]
  },
  {
   "cell_type": "markdown",
   "metadata": {},
   "source": [
    "Quick check that working directory and train basin file exists:"
   ]
  },
  {
   "cell_type": "code",
   "execution_count": null,
   "metadata": {},
   "outputs": [],
   "source": [
    "print(\"Current Working Directory:\", os.getcwd())\n",
    "print(\"Train Basin File Exists:\", os.path.exists(\"calpella\"))"
   ]
  },
  {
   "cell_type": "markdown",
   "metadata": {},
   "source": [
    "check that daily no phyiscs still runs correctly:"
   ]
  },
  {
   "cell_type": "code",
   "execution_count": null,
   "metadata": {},
   "outputs": [],
   "source": [
    "path_to_csv = Path(\"F:/Dino/UCB-USACE-LSTMs/data/updated_russian_river_folder/\")\n",
    "path_to_yaml = Path(\"calpella_gage.yaml\")\n",
    "params = {\n",
    "    \"epochs\":5,\n",
    "    \"hidden_size\": 128,\n",
    "    \"output_dropout\": 0.4,\n",
    "    \"seq_length\": 365,\n",
    "}\n",
    "#defaults to daily so no need to specify hourly\n",
    "lstmNoPhysicsDaily = UCB_trainer(path_to_csv, yaml_path= path_to_yaml, hyperparams= params)"
   ]
  },
  {
   "cell_type": "code",
   "execution_count": null,
   "metadata": {},
   "outputs": [],
   "source": [
    "lstmNoPhysicsDaily.train()"
   ]
  },
  {
   "cell_type": "code",
   "execution_count": null,
   "metadata": {},
   "outputs": [],
   "source": [
    "lstmNoPhysicsDaily.results()"
   ]
  },
  {
   "cell_type": "markdown",
   "metadata": {},
   "source": [
    "check if no physics hourly works:"
   ]
  },
  {
   "cell_type": "code",
   "execution_count": null,
   "metadata": {},
   "outputs": [],
   "source": [
    "# set path to folder, ensure that daily.csv and hourly.csv are present\n",
    "path_to_csv = Path(\"F:/Dino/UCB-USACE-LSTMs/data/updated_russian_river_folder/\")\n",
    "path_to_yaml = Path(\"calpella_gage.yaml\")\n",
    "params = {\n",
    "    \"epochs\":5,\n",
    "    \"hidden_size\": 128,\n",
    "    \"output_dropout\": 0.4,\n",
    "    \"seq_length\": 365,\n",
    "}\n",
    "#if using hourly data , set hourly = True\n",
    "lstmNoPhysicsHourly = UCB_trainer(path_to_csv, yaml_path= path_to_yaml, hyperparams= params, hourly=True)"
   ]
  },
  {
   "cell_type": "code",
   "execution_count": null,
   "metadata": {},
   "outputs": [],
   "source": [
    "lstmNoPhysicsHourly.train()"
   ]
  },
  {
   "cell_type": "code",
   "execution_count": null,
   "metadata": {},
   "outputs": [],
   "source": [
    "lstmNoPhysicsHourly.results()"
   ]
  },
  {
   "cell_type": "markdown",
   "metadata": {},
   "source": [
    "check if physics daily still works:"
   ]
  },
  {
   "cell_type": "code",
   "execution_count": null,
   "metadata": {},
   "outputs": [],
   "source": [
    "path_to_csv = Path(\"F:/Dino/UCB-USACE-LSTMs/data/updated_russian_river_folder/\")\n",
    "path_to_yaml = Path(\"calpella_gage.yaml\")\n",
    "path_to_physics_data = Path(\"F:/Dino/UCB-USACE-LSTMs/data/updated_russian_river_folder/Calpella_hourly.csv\")\n",
    "params = {\n",
    "    \"epochs\":5,\n",
    "    \"hidden_size\": 128,\n",
    "    \"output_dropout\": 0.4,\n",
    "    \"seq_length\": 365,\n",
    "}\n",
    "features_with_physics = [\n",
    "    #from daily.csv\n",
    "    \"DRY CREEK 20 PRECIP-INC SCREENED\",\n",
    "    \"DRY CREEK 20 ET-POTENTIAL RUN:BASIN AVERAGE 60 YR\",\n",
    "    \"DRY CREEK 30 PRECIP-INC SCREENED\",\n",
    "    \"DRY CREEK 30 ET-POTENTIAL RUN:BASIN AVERAGE 60 YR\",\n",
    "    \"UKIAH CA HUMIDITY USAF-NOAA\",\n",
    "    \"UKIAH CA SOLAR RADIATION USAF-NOAA\",\n",
    "    \"UKIAH CA TEMPERATURE USAF-NOAA\",\n",
    "    \"UKIAH CA WINDSPEED USAF-NOAA\",\n",
    "    \"SANTA ROSA CA HUMIDITY USAF-NOAA\",\n",
    "    \"SANTA ROSA CA SOLAR RADIATION USAF-NOAA\",\n",
    "    \"SANTA ROSA CA TEMPERATURE USAF-NOAA\",\n",
    "    \"SANTA ROSA CA WINDSPEED USAF-NOAA\",\n",
    "    #from Warm_Spring_Inflow.csv\n",
    "    'Dry Creek 20 ET-POTENTIAL', \n",
    "    'Dry Creek 20 FLOW',\n",
    "    'Dry Creek 20 FLOW-BASE', \n",
    "    'Dry Creek 20 INFILTRATION',\n",
    "    'Dry Creek 20 PERC-SOIL',\n",
    "    'Dry Creek 20 SATURATION FRACTION',\n",
    "    'Dry Creek 30 ET-POTENTIAL', \n",
    "    'Dry Creek 30 FLOW',\n",
    "    'Dry Creek 30 FLOW-BASE', \n",
    "    'Dry Creek 30 INFILTRATION',\n",
    "    'Dry Creek 30 PERC-SOIL',\n",
    "    'Dry Creek 30 SATURATION FRACTION',\n",
    "    'Warm Springs Dam Inflow FLOW',\n",
    "    ]\n",
    "lstmPhysicsDaily = UCB_trainer(path_to_csv, yaml_path= path_to_yaml, hyperparams= params, input_features= features_with_physics, physics_informed=True, physics_data_file=path_to_physics_data, hourly=False)"
   ]
  },
  {
   "cell_type": "code",
   "execution_count": null,
   "metadata": {},
   "outputs": [
    {
     "name": "stdout",
     "output_type": "stream",
     "text": [
      "2025-01-04 20:15:08,549: ### Device cpu will be used for training\n",
      "2025-01-04 20:15:08,552: Loading basin data into xarray data set.\n",
      "  0%|          | 0/1 [00:00<?, ?it/s]2025-01-04 20:15:09,175: Loading data from file: /Users/mia/research/updated_russian_river_data_folder/HMS_outputs_for_UCB/WarmSprings_Inflow_daily.csv, hourly: False\n",
      "100%|██████████| 1/1 [00:00<00:00,  1.02it/s]\n",
      "2025-01-04 20:15:09,600: Calculating target variable stds per basin\n",
      "100%|██████████| 1/1 [00:00<00:00, 114.47it/s]\n",
      "2025-01-04 20:15:09,649: Create lookup table and convert to pytorch tensor\n",
      "100%|██████████| 1/1 [00:00<00:00,  7.13it/s]\n",
      "# Epoch 1: 100%|██████████| 10/10 [00:17<00:00,  1.75s/it, Loss: 0.0000]\n",
      "2025-01-04 20:15:27,656: Epoch 1 average loss: avg_loss: 0.00000, avg_total_loss: 0.00000\n",
      "# Epoch 2: 100%|██████████| 10/10 [00:12<00:00,  1.30s/it, Loss: 0.0000]\n",
      "2025-01-04 20:15:40,660: Epoch 2 average loss: avg_loss: 0.00000, avg_total_loss: 0.00000\n",
      "# Epoch 3: 100%|██████████| 10/10 [00:12<00:00,  1.21s/it, Loss: 0.0000]\n",
      "2025-01-04 20:15:52,871: Epoch 3 average loss: avg_loss: 0.00000, avg_total_loss: 0.00000\n",
      "# Epoch 4: 100%|██████████| 10/10 [00:11<00:00,  1.18s/it, Loss: 0.0000]\n",
      "2025-01-04 20:16:04,694: Epoch 4 average loss: avg_loss: 0.00000, avg_total_loss: 0.00000\n",
      "# Epoch 5: 100%|██████████| 10/10 [00:13<00:00,  1.31s/it, Loss: 0.0000]\n",
      "2025-01-04 20:16:17,780: Epoch 5 average loss: avg_loss: 0.00000, avg_total_loss: 0.00000\n",
      "# Validation:   0%|          | 0/1 [00:00<?, ?it/s]2025-01-04 20:16:18,012: Loading data from file: /Users/mia/research/updated_russian_river_data_folder/HMS_outputs_for_UCB/WarmSprings_Inflow_daily.csv, hourly: False\n",
      "# Validation: 100%|██████████| 1/1 [00:01<00:00,  1.56s/it]\n",
      "2025-01-04 20:16:19,879: Epoch 5 average validation loss: 0.00000 -- Median validation metrics: avg_loss: 0.00000, NSE: 0.80716, MSE: 94546.92969\n",
      "2025-01-04 20:16:19,932: Using the model weights from /Users/mia/research/UCB-USACE-LSTMs/neuralhydrology/warm_springs_all/runs/testing_run_0401_201508/model_epoch005.pt\n",
      "# Validation:   0%|          | 0/1 [00:00<?, ?it/s]2025-01-04 20:16:20,117: Loading data from file: /Users/mia/research/updated_russian_river_data_folder/HMS_outputs_for_UCB/WarmSprings_Inflow_daily.csv, hourly: False\n",
      "# Validation: 100%|██████████| 1/1 [00:01<00:00,  1.80s/it]\n",
      "2025-01-04 20:16:21,748: Stored metrics at /Users/mia/research/UCB-USACE-LSTMs/neuralhydrology/warm_springs_all/runs/testing_run_0401_201508/validation/model_epoch005/validation_metrics.csv\n",
      "2025-01-04 20:16:21,769: Stored results at /Users/mia/research/UCB-USACE-LSTMs/neuralhydrology/warm_springs_all/runs/testing_run_0401_201508/validation/model_epoch005/validation_results.p\n"
     ]
    }
   ],
   "source": [
    "lstmPhysicsDaily.train()"
   ]
  },
  {
   "cell_type": "code",
   "execution_count": null,
   "metadata": {},
   "outputs": [],
   "source": [
    "lstmPhysicsDaily.results()"
   ]
  },
  {
   "cell_type": "markdown",
   "metadata": {},
   "source": [
    "test if hourly physics informed works:"
   ]
  },
  {
   "cell_type": "code",
   "execution_count": null,
   "metadata": {},
   "outputs": [],
   "source": [
    "path_to_csv = Path(\"F:/Dino/UCB-USACE-LSTMs/data/updated_russian_river_folder/\")\n",
    "path_to_yaml = Path(\"calpella_gage.yaml\")\n",
    "path_to_physics_data = Path(\"F:/Dino/UCB-USACE-LSTMs/data/updated_russian_river_folder/Calpella_hourly.csv\")\n",
    "params = {\n",
    "    \"epochs\":5,\n",
    "    \"hidden_size\": 128,\n",
    "    \"output_dropout\": 0.4,\n",
    "    \"seq_length\": 365,\n",
    "}\n",
    "features_with_physics = [\n",
    "    #from daily.csv\n",
    "    \"DRY CREEK 20 PRECIP-INC SCREENED\",\n",
    "    \"DRY CREEK 20 ET-POTENTIAL RUN:BASIN AVERAGE 60 YR\",\n",
    "    \"DRY CREEK 30 PRECIP-INC SCREENED\",\n",
    "    \"DRY CREEK 30 ET-POTENTIAL RUN:BASIN AVERAGE 60 YR\",\n",
    "    \"UKIAH CA HUMIDITY USAF-NOAA\",\n",
    "    \"UKIAH CA SOLAR RADIATION USAF-NOAA\",\n",
    "    \"UKIAH CA TEMPERATURE USAF-NOAA\",\n",
    "    \"UKIAH CA WINDSPEED USAF-NOAA\",\n",
    "    \"SANTA ROSA CA HUMIDITY USAF-NOAA\",\n",
    "    \"SANTA ROSA CA SOLAR RADIATION USAF-NOAA\",\n",
    "    \"SANTA ROSA CA TEMPERATURE USAF-NOAA\",\n",
    "    \"SANTA ROSA CA WINDSPEED USAF-NOAA\",\n",
    "    #from Warm_Spring_Inflow.csv\n",
    "    'Dry Creek 20 ET-POTENTIAL', \n",
    "    'Dry Creek 20 FLOW',\n",
    "    'Dry Creek 20 FLOW-BASE', \n",
    "    'Dry Creek 20 INFILTRATION',\n",
    "    'Dry Creek 20 PERC-SOIL',\n",
    "    'Dry Creek 20 SATURATION FRACTION',\n",
    "    'Dry Creek 30 ET-POTENTIAL', \n",
    "    'Dry Creek 30 FLOW',\n",
    "    'Dry Creek 30 FLOW-BASE', \n",
    "    'Dry Creek 30 INFILTRATION',\n",
    "    'Dry Creek 30 PERC-SOIL',\n",
    "    'Dry Creek 30 SATURATION FRACTION',\n",
    "    'Warm Springs Dam Inflow FLOW',\n",
    "    ]\n",
    "lstmPhysicsHourly = UCB_trainer(path_to_csv, yaml_path= path_to_yaml, hyperparams= params, input_features= features_with_physics, physics_informed=True, physics_data_file=path_to_physics_data, hourly=True)"
   ]
  },
  {
   "cell_type": "code",
   "execution_count": null,
   "metadata": {},
   "outputs": [],
   "source": [
    "lstmPhysicsHourly.train()"
   ]
  },
  {
   "cell_type": "code",
   "execution_count": null,
   "metadata": {},
   "outputs": [],
   "source": [
    "lstmPhysicsHourly.results()"
   ]
  },
  {
   "cell_type": "markdown",
   "metadata": {},
   "source": [
    "TEST OF THE EXTENDED TRAINING PERIOD"
   ]
  },
  {
   "cell_type": "code",
   "execution_count": null,
   "metadata": {},
   "outputs": [],
   "source": [
    "path_to_csv = Path(\"F:/Dino/UCB-USACE-LSTMs/data/updated_russian_river_folder/\")\n",
    "path_to_yaml = Path(\"calpella_gage.yaml\")\n",
    "path_to_physics_data = Path(\"F:/Dino/UCB-USACE-LSTMs/data/updated_russian_river_folder/Calpella_daily.csv\")\n",
    "params = {\n",
    "    \"epochs\":5,\n",
    "    \"hidden_size\": 128,\n",
    "    \"output_dropout\": 0.4,\n",
    "    \"seq_length\": 365,\n",
    "}\n",
    "features_with_physics = [\n",
    "    #from daily.csv\n",
    "    \"DRY CREEK 20 PRECIP-INC SCREENED\",\n",
    "    \"DRY CREEK 20 ET-POTENTIAL RUN:BASIN AVERAGE 60 YR\",\n",
    "    \"DRY CREEK 30 PRECIP-INC SCREENED\",\n",
    "    \"DRY CREEK 30 ET-POTENTIAL RUN:BASIN AVERAGE 60 YR\",\n",
    "    \"UKIAH CA HUMIDITY USAF-NOAA\",\n",
    "    \"UKIAH CA SOLAR RADIATION USAF-NOAA\",\n",
    "    \"UKIAH CA TEMPERATURE USAF-NOAA\",\n",
    "    \"UKIAH CA WINDSPEED USAF-NOAA\",\n",
    "    \"SANTA ROSA CA HUMIDITY USAF-NOAA\",\n",
    "    \"SANTA ROSA CA SOLAR RADIATION USAF-NOAA\",\n",
    "    \"SANTA ROSA CA TEMPERATURE USAF-NOAA\",\n",
    "    \"SANTA ROSA CA WINDSPEED USAF-NOAA\",\n",
    "    #from Warm_Spring_Inflow.csv\n",
    "    'Dry Creek 20 ET-POTENTIAL', \n",
    "    'Dry Creek 20 FLOW',\n",
    "    'Dry Creek 20 FLOW-BASE', \n",
    "    'Dry Creek 20 INFILTRATION',\n",
    "    'Dry Creek 20 PERC-SOIL',\n",
    "    'Dry Creek 20 SATURATION FRACTION',\n",
    "    'Dry Creek 30 ET-POTENTIAL', \n",
    "    'Dry Creek 30 FLOW',\n",
    "    'Dry Creek 30 FLOW-BASE', \n",
    "    'Dry Creek 30 INFILTRATION',\n",
    "    'Dry Creek 30 PERC-SOIL',\n",
    "    'Dry Creek 30 SATURATION FRACTION',\n",
    "    'Warm Springs Dam Inflow FLOW',\n",
    "    ]\n",
    "#extend train period set to true\n",
    "lstmPhysicsDailyExtended = UCB_trainer(path_to_csv, yaml_path= path_to_yaml, hyperparams= params, input_features= features_with_physics, physics_informed=True, physics_data_file=path_to_physics_data, hourly=False, extend_train_period=True)"
   ]
  },
  {
   "cell_type": "code",
   "execution_count": null,
   "metadata": {},
   "outputs": [],
   "source": [
    "lstmPhysicsDailyExtended.train()"
   ]
  },
  {
   "cell_type": "code",
   "execution_count": null,
   "metadata": {},
   "outputs": [],
   "source": [
    "#NOTE Right now the extend train only alters the train period to include the validation as well, so you should use test for \n",
    "# results because evaluating on the validation period would overlap with what the model was trained on\n",
    "lstmPhysicsDailyExtended.results('test')"
   ]
  },
  {
   "cell_type": "code",
   "execution_count": null,
   "metadata": {},
   "outputs": [],
   "source": []
  }
 ],
 "metadata": {
  "kernelspec": {
   "display_name": "Python 3 (ipykernel)",
   "language": "python",
   "name": "python3"
  },
  "language_info": {
   "codemirror_mode": {
    "name": "ipython",
    "version": 3
   },
   "file_extension": ".py",
   "mimetype": "text/x-python",
   "name": "python",
   "nbconvert_exporter": "python",
   "pygments_lexer": "ipython3",
   "version": "3.12.4"
  }
 },
 "nbformat": 4,
 "nbformat_minor": 4
}
