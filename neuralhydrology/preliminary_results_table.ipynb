{
 "cells": [
  {
   "cell_type": "markdown",
   "metadata": {},
   "source": [
    "Just a quick function to present out NSE findings per model per basin"
   ]
  },
  {
   "cell_type": "code",
   "execution_count": 2,
   "metadata": {},
   "outputs": [],
   "source": [
    "import pandas as pd\n",
    "import plotly.graph_objects as go"
   ]
  },
  {
   "cell_type": "code",
   "execution_count": 3,
   "metadata": {},
   "outputs": [],
   "source": [
    "def create_nse_table(basins, models, nse_values):\n",
    "    \"\"\"\n",
    "    Create a table using Plotly where rows are basins, columns are models, and\n",
    "    the highest NSE for each row is highlighted and bolded.\n",
    "\n",
    "    Parameters:\n",
    "    - basins: List of basin names.\n",
    "    - models: List of model names.\n",
    "    - nse_values: 2D list of NSE values, where each row corresponds to a basin and each column to a model.\n",
    "\n",
    "    Returns:\n",
    "    - A Plotly table figure.\n",
    "    \"\"\"\n",
    "    # Create a DataFrame for easier manipulation\n",
    "    df = pd.DataFrame(nse_values, index=basins, columns=models)\n",
    "\n",
    "    # Highlight the maximum value in each row\n",
    "    formatted_values = []\n",
    "    for basin in df.index:\n",
    "        row = []\n",
    "        max_value = df.loc[basin].max()\n",
    "        for value in df.loc[basin]:\n",
    "            if value == max_value:\n",
    "                row.append(f\"<b>{value:.3f}</b>\")\n",
    "            else:\n",
    "                row.append(f\"{value:.3f}\")\n",
    "        formatted_values.append(row)\n",
    "\n",
    "    # Create the table figure\n",
    "    fig = go.Figure(\n",
    "            data=[\n",
    "                go.Table(\n",
    "                    header=dict(\n",
    "                        values=[\"<b>Basin</b>\"] + [f\"<b>{model}</b>\" for model in models],\n",
    "                        fill_color=\"grey\",  # Professional blue\n",
    "                        font=dict(color=\"white\", size=14),  # White text for header\n",
    "                        align=\"center\",\n",
    "                    ),\n",
    "                    cells=dict(\n",
    "                        values=[[basin for basin in basins]] + list(map(list, zip(*formatted_values))),\n",
    "                        fill=dict(\n",
    "                            color=[\n",
    "                                [\"#F9F9F9\" if i % 2 == 0 else \"#FFFFFF\" for i in range(len(basins))],  # Alternating row colors\n",
    "                                [\"#F9F9F9\" if i % 2 == 0 else \"#FFFFFF\" for i in range(len(basins))],\n",
    "                                [\"#F9F9F9\" if i % 2 == 0 else \"#FFFFFF\" for i in range(len(basins))],\n",
    "                                [\"#F9F9F9\" if i % 2 == 0 else \"#FFFFFF\" for i in range(len(basins))],\n",
    "                            ]\n",
    "                        ),\n",
    "                        align=\"center\",\n",
    "                        font=dict(color=\"#333333\", size=12),  # Dark gray text for cells\n",
    "                    ),\n",
    "                )\n",
    "            ]\n",
    "        )\n",
    "\n",
    "\n",
    "    return fig"
   ]
  },
  {
   "cell_type": "markdown",
   "metadata": {},
   "source": [
    "Once all the runs have been done get the NSE outputted by results and update nse_values with real values:"
   ]
  },
  {
   "cell_type": "code",
   "execution_count": 4,
   "metadata": {},
   "outputs": [
    {
     "data": {
      "application/vnd.plotly.v1+json": {
       "config": {
        "plotlyServerURL": "https://plot.ly"
       },
       "data": [
        {
         "cells": {
          "align": "center",
          "fill": {
           "color": [
            [
             "#F9F9F9",
             "#FFFFFF",
             "#F9F9F9",
             "#FFFFFF"
            ],
            [
             "#F9F9F9",
             "#FFFFFF",
             "#F9F9F9",
             "#FFFFFF"
            ],
            [
             "#F9F9F9",
             "#FFFFFF",
             "#F9F9F9",
             "#FFFFFF"
            ],
            [
             "#F9F9F9",
             "#FFFFFF",
             "#F9F9F9",
             "#FFFFFF"
            ]
           ]
          },
          "font": {
           "color": "#333333",
           "size": 12
          },
          "values": [
           [
            "Calpella",
            "Hopland",
            "Guerneville",
            "Warm Springs"
           ],
           [
            "0.700",
            "<b>0.800</b>",
            "<b>0.850</b>",
            "0.730"
           ],
           [
            "0.790",
            "0.720",
            "0.650",
            "<b>0.850</b>"
           ],
           [
            "<b>0.820</b>",
            "0.750",
            "0.740",
            "0.820"
           ]
          ]
         },
         "header": {
          "align": "center",
          "fill": {
           "color": "grey"
          },
          "font": {
           "color": "white",
           "size": 14
          },
          "values": [
           "<b>Basin</b>",
           "<b>HMS NSE</b>",
           "<b>LSTM NSE</b>",
           "<b>Physics Informed LSTM NSE</b>"
          ]
         },
         "type": "table"
        }
       ],
       "layout": {
        "template": {
         "data": {
          "bar": [
           {
            "error_x": {
             "color": "#2a3f5f"
            },
            "error_y": {
             "color": "#2a3f5f"
            },
            "marker": {
             "line": {
              "color": "#E5ECF6",
              "width": 0.5
             },
             "pattern": {
              "fillmode": "overlay",
              "size": 10,
              "solidity": 0.2
             }
            },
            "type": "bar"
           }
          ],
          "barpolar": [
           {
            "marker": {
             "line": {
              "color": "#E5ECF6",
              "width": 0.5
             },
             "pattern": {
              "fillmode": "overlay",
              "size": 10,
              "solidity": 0.2
             }
            },
            "type": "barpolar"
           }
          ],
          "carpet": [
           {
            "aaxis": {
             "endlinecolor": "#2a3f5f",
             "gridcolor": "white",
             "linecolor": "white",
             "minorgridcolor": "white",
             "startlinecolor": "#2a3f5f"
            },
            "baxis": {
             "endlinecolor": "#2a3f5f",
             "gridcolor": "white",
             "linecolor": "white",
             "minorgridcolor": "white",
             "startlinecolor": "#2a3f5f"
            },
            "type": "carpet"
           }
          ],
          "choropleth": [
           {
            "colorbar": {
             "outlinewidth": 0,
             "ticks": ""
            },
            "type": "choropleth"
           }
          ],
          "contour": [
           {
            "colorbar": {
             "outlinewidth": 0,
             "ticks": ""
            },
            "colorscale": [
             [
              0,
              "#0d0887"
             ],
             [
              0.1111111111111111,
              "#46039f"
             ],
             [
              0.2222222222222222,
              "#7201a8"
             ],
             [
              0.3333333333333333,
              "#9c179e"
             ],
             [
              0.4444444444444444,
              "#bd3786"
             ],
             [
              0.5555555555555556,
              "#d8576b"
             ],
             [
              0.6666666666666666,
              "#ed7953"
             ],
             [
              0.7777777777777778,
              "#fb9f3a"
             ],
             [
              0.8888888888888888,
              "#fdca26"
             ],
             [
              1,
              "#f0f921"
             ]
            ],
            "type": "contour"
           }
          ],
          "contourcarpet": [
           {
            "colorbar": {
             "outlinewidth": 0,
             "ticks": ""
            },
            "type": "contourcarpet"
           }
          ],
          "heatmap": [
           {
            "colorbar": {
             "outlinewidth": 0,
             "ticks": ""
            },
            "colorscale": [
             [
              0,
              "#0d0887"
             ],
             [
              0.1111111111111111,
              "#46039f"
             ],
             [
              0.2222222222222222,
              "#7201a8"
             ],
             [
              0.3333333333333333,
              "#9c179e"
             ],
             [
              0.4444444444444444,
              "#bd3786"
             ],
             [
              0.5555555555555556,
              "#d8576b"
             ],
             [
              0.6666666666666666,
              "#ed7953"
             ],
             [
              0.7777777777777778,
              "#fb9f3a"
             ],
             [
              0.8888888888888888,
              "#fdca26"
             ],
             [
              1,
              "#f0f921"
             ]
            ],
            "type": "heatmap"
           }
          ],
          "heatmapgl": [
           {
            "colorbar": {
             "outlinewidth": 0,
             "ticks": ""
            },
            "colorscale": [
             [
              0,
              "#0d0887"
             ],
             [
              0.1111111111111111,
              "#46039f"
             ],
             [
              0.2222222222222222,
              "#7201a8"
             ],
             [
              0.3333333333333333,
              "#9c179e"
             ],
             [
              0.4444444444444444,
              "#bd3786"
             ],
             [
              0.5555555555555556,
              "#d8576b"
             ],
             [
              0.6666666666666666,
              "#ed7953"
             ],
             [
              0.7777777777777778,
              "#fb9f3a"
             ],
             [
              0.8888888888888888,
              "#fdca26"
             ],
             [
              1,
              "#f0f921"
             ]
            ],
            "type": "heatmapgl"
           }
          ],
          "histogram": [
           {
            "marker": {
             "pattern": {
              "fillmode": "overlay",
              "size": 10,
              "solidity": 0.2
             }
            },
            "type": "histogram"
           }
          ],
          "histogram2d": [
           {
            "colorbar": {
             "outlinewidth": 0,
             "ticks": ""
            },
            "colorscale": [
             [
              0,
              "#0d0887"
             ],
             [
              0.1111111111111111,
              "#46039f"
             ],
             [
              0.2222222222222222,
              "#7201a8"
             ],
             [
              0.3333333333333333,
              "#9c179e"
             ],
             [
              0.4444444444444444,
              "#bd3786"
             ],
             [
              0.5555555555555556,
              "#d8576b"
             ],
             [
              0.6666666666666666,
              "#ed7953"
             ],
             [
              0.7777777777777778,
              "#fb9f3a"
             ],
             [
              0.8888888888888888,
              "#fdca26"
             ],
             [
              1,
              "#f0f921"
             ]
            ],
            "type": "histogram2d"
           }
          ],
          "histogram2dcontour": [
           {
            "colorbar": {
             "outlinewidth": 0,
             "ticks": ""
            },
            "colorscale": [
             [
              0,
              "#0d0887"
             ],
             [
              0.1111111111111111,
              "#46039f"
             ],
             [
              0.2222222222222222,
              "#7201a8"
             ],
             [
              0.3333333333333333,
              "#9c179e"
             ],
             [
              0.4444444444444444,
              "#bd3786"
             ],
             [
              0.5555555555555556,
              "#d8576b"
             ],
             [
              0.6666666666666666,
              "#ed7953"
             ],
             [
              0.7777777777777778,
              "#fb9f3a"
             ],
             [
              0.8888888888888888,
              "#fdca26"
             ],
             [
              1,
              "#f0f921"
             ]
            ],
            "type": "histogram2dcontour"
           }
          ],
          "mesh3d": [
           {
            "colorbar": {
             "outlinewidth": 0,
             "ticks": ""
            },
            "type": "mesh3d"
           }
          ],
          "parcoords": [
           {
            "line": {
             "colorbar": {
              "outlinewidth": 0,
              "ticks": ""
             }
            },
            "type": "parcoords"
           }
          ],
          "pie": [
           {
            "automargin": true,
            "type": "pie"
           }
          ],
          "scatter": [
           {
            "fillpattern": {
             "fillmode": "overlay",
             "size": 10,
             "solidity": 0.2
            },
            "type": "scatter"
           }
          ],
          "scatter3d": [
           {
            "line": {
             "colorbar": {
              "outlinewidth": 0,
              "ticks": ""
             }
            },
            "marker": {
             "colorbar": {
              "outlinewidth": 0,
              "ticks": ""
             }
            },
            "type": "scatter3d"
           }
          ],
          "scattercarpet": [
           {
            "marker": {
             "colorbar": {
              "outlinewidth": 0,
              "ticks": ""
             }
            },
            "type": "scattercarpet"
           }
          ],
          "scattergeo": [
           {
            "marker": {
             "colorbar": {
              "outlinewidth": 0,
              "ticks": ""
             }
            },
            "type": "scattergeo"
           }
          ],
          "scattergl": [
           {
            "marker": {
             "colorbar": {
              "outlinewidth": 0,
              "ticks": ""
             }
            },
            "type": "scattergl"
           }
          ],
          "scattermapbox": [
           {
            "marker": {
             "colorbar": {
              "outlinewidth": 0,
              "ticks": ""
             }
            },
            "type": "scattermapbox"
           }
          ],
          "scatterpolar": [
           {
            "marker": {
             "colorbar": {
              "outlinewidth": 0,
              "ticks": ""
             }
            },
            "type": "scatterpolar"
           }
          ],
          "scatterpolargl": [
           {
            "marker": {
             "colorbar": {
              "outlinewidth": 0,
              "ticks": ""
             }
            },
            "type": "scatterpolargl"
           }
          ],
          "scatterternary": [
           {
            "marker": {
             "colorbar": {
              "outlinewidth": 0,
              "ticks": ""
             }
            },
            "type": "scatterternary"
           }
          ],
          "surface": [
           {
            "colorbar": {
             "outlinewidth": 0,
             "ticks": ""
            },
            "colorscale": [
             [
              0,
              "#0d0887"
             ],
             [
              0.1111111111111111,
              "#46039f"
             ],
             [
              0.2222222222222222,
              "#7201a8"
             ],
             [
              0.3333333333333333,
              "#9c179e"
             ],
             [
              0.4444444444444444,
              "#bd3786"
             ],
             [
              0.5555555555555556,
              "#d8576b"
             ],
             [
              0.6666666666666666,
              "#ed7953"
             ],
             [
              0.7777777777777778,
              "#fb9f3a"
             ],
             [
              0.8888888888888888,
              "#fdca26"
             ],
             [
              1,
              "#f0f921"
             ]
            ],
            "type": "surface"
           }
          ],
          "table": [
           {
            "cells": {
             "fill": {
              "color": "#EBF0F8"
             },
             "line": {
              "color": "white"
             }
            },
            "header": {
             "fill": {
              "color": "#C8D4E3"
             },
             "line": {
              "color": "white"
             }
            },
            "type": "table"
           }
          ]
         },
         "layout": {
          "annotationdefaults": {
           "arrowcolor": "#2a3f5f",
           "arrowhead": 0,
           "arrowwidth": 1
          },
          "autotypenumbers": "strict",
          "coloraxis": {
           "colorbar": {
            "outlinewidth": 0,
            "ticks": ""
           }
          },
          "colorscale": {
           "diverging": [
            [
             0,
             "#8e0152"
            ],
            [
             0.1,
             "#c51b7d"
            ],
            [
             0.2,
             "#de77ae"
            ],
            [
             0.3,
             "#f1b6da"
            ],
            [
             0.4,
             "#fde0ef"
            ],
            [
             0.5,
             "#f7f7f7"
            ],
            [
             0.6,
             "#e6f5d0"
            ],
            [
             0.7,
             "#b8e186"
            ],
            [
             0.8,
             "#7fbc41"
            ],
            [
             0.9,
             "#4d9221"
            ],
            [
             1,
             "#276419"
            ]
           ],
           "sequential": [
            [
             0,
             "#0d0887"
            ],
            [
             0.1111111111111111,
             "#46039f"
            ],
            [
             0.2222222222222222,
             "#7201a8"
            ],
            [
             0.3333333333333333,
             "#9c179e"
            ],
            [
             0.4444444444444444,
             "#bd3786"
            ],
            [
             0.5555555555555556,
             "#d8576b"
            ],
            [
             0.6666666666666666,
             "#ed7953"
            ],
            [
             0.7777777777777778,
             "#fb9f3a"
            ],
            [
             0.8888888888888888,
             "#fdca26"
            ],
            [
             1,
             "#f0f921"
            ]
           ],
           "sequentialminus": [
            [
             0,
             "#0d0887"
            ],
            [
             0.1111111111111111,
             "#46039f"
            ],
            [
             0.2222222222222222,
             "#7201a8"
            ],
            [
             0.3333333333333333,
             "#9c179e"
            ],
            [
             0.4444444444444444,
             "#bd3786"
            ],
            [
             0.5555555555555556,
             "#d8576b"
            ],
            [
             0.6666666666666666,
             "#ed7953"
            ],
            [
             0.7777777777777778,
             "#fb9f3a"
            ],
            [
             0.8888888888888888,
             "#fdca26"
            ],
            [
             1,
             "#f0f921"
            ]
           ]
          },
          "colorway": [
           "#636efa",
           "#EF553B",
           "#00cc96",
           "#ab63fa",
           "#FFA15A",
           "#19d3f3",
           "#FF6692",
           "#B6E880",
           "#FF97FF",
           "#FECB52"
          ],
          "font": {
           "color": "#2a3f5f"
          },
          "geo": {
           "bgcolor": "white",
           "lakecolor": "white",
           "landcolor": "#E5ECF6",
           "showlakes": true,
           "showland": true,
           "subunitcolor": "white"
          },
          "hoverlabel": {
           "align": "left"
          },
          "hovermode": "closest",
          "mapbox": {
           "style": "light"
          },
          "paper_bgcolor": "white",
          "plot_bgcolor": "#E5ECF6",
          "polar": {
           "angularaxis": {
            "gridcolor": "white",
            "linecolor": "white",
            "ticks": ""
           },
           "bgcolor": "#E5ECF6",
           "radialaxis": {
            "gridcolor": "white",
            "linecolor": "white",
            "ticks": ""
           }
          },
          "scene": {
           "xaxis": {
            "backgroundcolor": "#E5ECF6",
            "gridcolor": "white",
            "gridwidth": 2,
            "linecolor": "white",
            "showbackground": true,
            "ticks": "",
            "zerolinecolor": "white"
           },
           "yaxis": {
            "backgroundcolor": "#E5ECF6",
            "gridcolor": "white",
            "gridwidth": 2,
            "linecolor": "white",
            "showbackground": true,
            "ticks": "",
            "zerolinecolor": "white"
           },
           "zaxis": {
            "backgroundcolor": "#E5ECF6",
            "gridcolor": "white",
            "gridwidth": 2,
            "linecolor": "white",
            "showbackground": true,
            "ticks": "",
            "zerolinecolor": "white"
           }
          },
          "shapedefaults": {
           "line": {
            "color": "#2a3f5f"
           }
          },
          "ternary": {
           "aaxis": {
            "gridcolor": "white",
            "linecolor": "white",
            "ticks": ""
           },
           "baxis": {
            "gridcolor": "white",
            "linecolor": "white",
            "ticks": ""
           },
           "bgcolor": "#E5ECF6",
           "caxis": {
            "gridcolor": "white",
            "linecolor": "white",
            "ticks": ""
           }
          },
          "title": {
           "x": 0.05
          },
          "xaxis": {
           "automargin": true,
           "gridcolor": "white",
           "linecolor": "white",
           "ticks": "",
           "title": {
            "standoff": 15
           },
           "zerolinecolor": "white",
           "zerolinewidth": 2
          },
          "yaxis": {
           "automargin": true,
           "gridcolor": "white",
           "linecolor": "white",
           "ticks": "",
           "title": {
            "standoff": 15
           },
           "zerolinecolor": "white",
           "zerolinewidth": 2
          }
         }
        }
       }
      }
     },
     "metadata": {},
     "output_type": "display_data"
    }
   ],
   "source": [
    "# Example usage: input the actual NSE Values\n",
    "basins = [\"Calpella\", \"Hopland\", \"Guerneville\", \"Warm Springs\"]\n",
    "models = [\"HMS NSE\", \"LSTM NSE\", \"Physics Informed LSTM NSE\"]\n",
    "nse_values = [\n",
    "    [0.70, 0.79, 0.82], #calpella --> updated with real numbers from calpella model notebook (includes all physics columns)\n",
    "    [0.80, 0.72, 0.75], #hopland --> updated with real numbers from hopland model notebook (includes all physics columns)\n",
    "    [0.85, 0.65, 0.74], #guerneville--> updated with real numbers from guerneville model notebook (includes full physics)\n",
    "    [0.73, 0.85, 0.82], #warm springs --> updated with real numbers from warm_springs model notebook (includes all physics columns)\n",
    "]\n",
    "\n",
    "fig = create_nse_table(basins, models, nse_values)\n",
    "fig.show()"
   ]
  },
  {
   "cell_type": "markdown",
   "metadata": {},
   "source": []
  },
  {
   "cell_type": "code",
   "execution_count": 67,
   "metadata": {},
   "outputs": [],
   "source": [
    "def create_metrics_table(dataframe, title):\n",
    "    \"\"\"\n",
    "    Create a Plotly table with alternating row colors and a specified title.\n",
    "\n",
    "    Parameters:\n",
    "    - dataframe: A Pandas DataFrame containing the metrics data.\n",
    "        The first column should contain metric names (rows), and\n",
    "        the remaining columns should contain model values.\n",
    "    - title: A string for the table title.\n",
    "\n",
    "    Returns:\n",
    "    - A Plotly Figure object.\n",
    "    \"\"\"\n",
    "    # Clean the data: Rename and drop unnecessary rows/columns\n",
    "    data_cleaned = dataframe.dropna().rename(columns={'Unnamed: 0': 'Metric'})\n",
    "\n",
    "    # Extract table values\n",
    "    metrics = data_cleaned['Metric'].tolist()  # Metrics as rows\n",
    "    models = list(data_cleaned.columns[1:])  # Columns are model names\n",
    "    values = [data_cleaned[col].tolist() for col in models]  # Model values per metric\n",
    "\n",
    "    # Create alternating row colors\n",
    "    row_colors = [\"#F9F9F9\" if i % 2 == 0 else \"#FFFFFF\" for i in range(len(metrics))]\n",
    "\n",
    "    # Create Plotly table\n",
    "    fig = go.Figure(data=[go.Table(\n",
    "        header=dict(\n",
    "            values=['<b>Metric</b>'] + [f\"<b>{model}</b>\" for model in models],\n",
    "            fill_color=\"grey\",  # Header background color\n",
    "            font=dict(size=12, color='white'),  # Header text color\n",
    "            align='center'\n",
    "        ),\n",
    "        cells=dict(\n",
    "            values=[metrics] + values,\n",
    "            fill_color=[row_colors * len(models)],  # Alternating row colors\n",
    "            align='center',\n",
    "            font=dict(size=11, color='black'),\n",
    "            format=[None] + [\".4f\"] * len(models)  # Adjust number format\n",
    "        )\n",
    "    )])\n",
    "\n",
    "    # Customize layout\n",
    "    fig.update_layout(\n",
    "        title=title,\n",
    "        title_x=0.5,  # Center the title\n",
    "        width=1200,\n",
    "        height=600\n",
    "    )\n",
    "\n",
    "    return fig"
   ]
  },
  {
   "cell_type": "code",
   "execution_count": 68,
   "metadata": {},
   "outputs": [
    {
     "data": {
      "text/html": [
       "<div>\n",
       "<style scoped>\n",
       "    .dataframe tbody tr th:only-of-type {\n",
       "        vertical-align: middle;\n",
       "    }\n",
       "\n",
       "    .dataframe tbody tr th {\n",
       "        vertical-align: top;\n",
       "    }\n",
       "\n",
       "    .dataframe thead th {\n",
       "        text-align: right;\n",
       "    }\n",
       "</style>\n",
       "<table border=\"1\" class=\"dataframe\">\n",
       "  <thead>\n",
       "    <tr style=\"text-align: right;\">\n",
       "      <th></th>\n",
       "      <th>Unnamed: 0</th>\n",
       "      <th>HMS</th>\n",
       "      <th>LSTM</th>\n",
       "      <th>Physics_Informed_LSTM</th>\n",
       "    </tr>\n",
       "  </thead>\n",
       "  <tbody>\n",
       "    <tr>\n",
       "      <th>0</th>\n",
       "      <td>NSE</td>\n",
       "      <td>0.699186</td>\n",
       "      <td>0.774333</td>\n",
       "      <td>0.724424</td>\n",
       "    </tr>\n",
       "    <tr>\n",
       "      <th>1</th>\n",
       "      <td>MSE</td>\n",
       "      <td>76611.326933</td>\n",
       "      <td>57472.847658</td>\n",
       "      <td>28870.322390</td>\n",
       "    </tr>\n",
       "    <tr>\n",
       "      <th>2</th>\n",
       "      <td>RMSE</td>\n",
       "      <td>276.787512</td>\n",
       "      <td>239.734953</td>\n",
       "      <td>169.912690</td>\n",
       "    </tr>\n",
       "    <tr>\n",
       "      <th>3</th>\n",
       "      <td>KGE</td>\n",
       "      <td>0.746424</td>\n",
       "      <td>0.675719</td>\n",
       "      <td>0.808272</td>\n",
       "    </tr>\n",
       "    <tr>\n",
       "      <th>4</th>\n",
       "      <td>Alpha-NSE</td>\n",
       "      <td>1.224704</td>\n",
       "      <td>0.712526</td>\n",
       "      <td>0.910376</td>\n",
       "    </tr>\n",
       "    <tr>\n",
       "      <th>5</th>\n",
       "      <td>Beta-KGE</td>\n",
       "      <td>1.058859</td>\n",
       "      <td>0.885681</td>\n",
       "      <td>1.087094</td>\n",
       "    </tr>\n",
       "    <tr>\n",
       "      <th>6</th>\n",
       "      <td>Beta-NSE</td>\n",
       "      <td>0.034577</td>\n",
       "      <td>-0.067157</td>\n",
       "      <td>0.052941</td>\n",
       "    </tr>\n",
       "    <tr>\n",
       "      <th>7</th>\n",
       "      <td>Pearson-r</td>\n",
       "      <td>0.898291</td>\n",
       "      <td>0.902799</td>\n",
       "      <td>0.854598</td>\n",
       "    </tr>\n",
       "    <tr>\n",
       "      <th>8</th>\n",
       "      <td>FHV</td>\n",
       "      <td>25.593778</td>\n",
       "      <td>-25.316821</td>\n",
       "      <td>-3.790094</td>\n",
       "    </tr>\n",
       "    <tr>\n",
       "      <th>9</th>\n",
       "      <td>FMS</td>\n",
       "      <td>0.594171</td>\n",
       "      <td>-32.859758</td>\n",
       "      <td>-41.091226</td>\n",
       "    </tr>\n",
       "    <tr>\n",
       "      <th>10</th>\n",
       "      <td>FLV</td>\n",
       "      <td>-967.606045</td>\n",
       "      <td>-1009.319918</td>\n",
       "      <td>-45.459322</td>\n",
       "    </tr>\n",
       "    <tr>\n",
       "      <th>11</th>\n",
       "      <td>Peak-Timing</td>\n",
       "      <td>0.000000</td>\n",
       "      <td>0.250000</td>\n",
       "      <td>0.000000</td>\n",
       "    </tr>\n",
       "    <tr>\n",
       "      <th>12</th>\n",
       "      <td>Peak-MAPE</td>\n",
       "      <td>54.234475</td>\n",
       "      <td>39.163541</td>\n",
       "      <td>47.541029</td>\n",
       "    </tr>\n",
       "  </tbody>\n",
       "</table>\n",
       "</div>"
      ],
      "text/plain": [
       "     Unnamed: 0           HMS          LSTM  Physics_Informed_LSTM\n",
       "0           NSE      0.699186      0.774333               0.724424\n",
       "1           MSE  76611.326933  57472.847658           28870.322390\n",
       "2          RMSE    276.787512    239.734953             169.912690\n",
       "3           KGE      0.746424      0.675719               0.808272\n",
       "4     Alpha-NSE      1.224704      0.712526               0.910376\n",
       "5      Beta-KGE      1.058859      0.885681               1.087094\n",
       "6      Beta-NSE      0.034577     -0.067157               0.052941\n",
       "7     Pearson-r      0.898291      0.902799               0.854598\n",
       "8           FHV     25.593778    -25.316821              -3.790094\n",
       "9           FMS      0.594171    -32.859758             -41.091226\n",
       "10          FLV   -967.606045  -1009.319918             -45.459322\n",
       "11  Peak-Timing      0.000000      0.250000               0.000000\n",
       "12    Peak-MAPE     54.234475     39.163541              47.541029"
      ]
     },
     "execution_count": 68,
     "metadata": {},
     "output_type": "execute_result"
    }
   ],
   "source": [
    "calpella_metrics_df = pd.read_csv(\"calpella_all/calpella_metrics.csv\")\n",
    "calpella_metrics_df"
   ]
  },
  {
   "cell_type": "code",
   "execution_count": 71,
   "metadata": {},
   "outputs": [
    {
     "data": {
      "application/vnd.plotly.v1+json": {
       "config": {
        "plotlyServerURL": "https://plot.ly"
       },
       "data": [
        {
         "cells": {
          "align": "center",
          "fill": {
           "color": [
            [
             "#F9F9F9",
             "#FFFFFF",
             "#F9F9F9",
             "#FFFFFF",
             "#F9F9F9",
             "#FFFFFF",
             "#F9F9F9",
             "#FFFFFF",
             "#F9F9F9",
             "#FFFFFF",
             "#F9F9F9",
             "#FFFFFF",
             "#F9F9F9",
             "#F9F9F9",
             "#FFFFFF",
             "#F9F9F9",
             "#FFFFFF",
             "#F9F9F9",
             "#FFFFFF",
             "#F9F9F9",
             "#FFFFFF",
             "#F9F9F9",
             "#FFFFFF",
             "#F9F9F9",
             "#FFFFFF",
             "#F9F9F9",
             "#F9F9F9",
             "#FFFFFF",
             "#F9F9F9",
             "#FFFFFF",
             "#F9F9F9",
             "#FFFFFF",
             "#F9F9F9",
             "#FFFFFF",
             "#F9F9F9",
             "#FFFFFF",
             "#F9F9F9",
             "#FFFFFF",
             "#F9F9F9"
            ]
           ]
          },
          "font": {
           "color": "black",
           "size": 11
          },
          "format": [
           null,
           ".4f",
           ".4f",
           ".4f"
          ],
          "values": [
           [
            "NSE",
            "MSE",
            "RMSE",
            "KGE",
            "Alpha-NSE",
            "Beta-KGE",
            "Beta-NSE",
            "Pearson-r",
            "FHV",
            "FMS",
            "FLV",
            "Peak-Timing",
            "Peak-MAPE"
           ],
           [
            0.6991856462431243,
            76611.32693337982,
            276.7875122424779,
            0.7464235588689607,
            1.2247040420987712,
            1.0588589896090026,
            0.0345768241440293,
            0.8982909821925092,
            25.593777649265498,
            0.5941711431321225,
            -967.606044582316,
            0,
            54.23447477600877
           ],
           [
            0.774332879761162,
            57472.84765774507,
            239.73495293291103,
            0.6757194379415236,
            0.7125263736051678,
            0.8856809704167595,
            -0.067156928932589,
            0.9027994005599144,
            -25.316820701498504,
            -32.85975802248281,
            -1009.3199178188456,
            0.25,
            39.16354052747469
           ],
           [
            0.724423990658539,
            28870.32238977765,
            169.91269049066833,
            0.8082721433613294,
            0.9103762373625436,
            1.0870944320304416,
            0.0529407590088613,
            0.8545981014867471,
            -3.790094091921502,
            -41.09122649531054,
            -45.45932229894896,
            0,
            47.541028583633455
           ]
          ]
         },
         "header": {
          "align": "center",
          "fill": {
           "color": "grey"
          },
          "font": {
           "color": "white",
           "size": 12
          },
          "values": [
           "<b>Metric</b>",
           "<b>HMS</b>",
           "<b>LSTM</b>",
           "<b>Physics_Informed_LSTM</b>"
          ]
         },
         "type": "table"
        }
       ],
       "layout": {
        "height": 600,
        "template": {
         "data": {
          "bar": [
           {
            "error_x": {
             "color": "#2a3f5f"
            },
            "error_y": {
             "color": "#2a3f5f"
            },
            "marker": {
             "line": {
              "color": "#E5ECF6",
              "width": 0.5
             },
             "pattern": {
              "fillmode": "overlay",
              "size": 10,
              "solidity": 0.2
             }
            },
            "type": "bar"
           }
          ],
          "barpolar": [
           {
            "marker": {
             "line": {
              "color": "#E5ECF6",
              "width": 0.5
             },
             "pattern": {
              "fillmode": "overlay",
              "size": 10,
              "solidity": 0.2
             }
            },
            "type": "barpolar"
           }
          ],
          "carpet": [
           {
            "aaxis": {
             "endlinecolor": "#2a3f5f",
             "gridcolor": "white",
             "linecolor": "white",
             "minorgridcolor": "white",
             "startlinecolor": "#2a3f5f"
            },
            "baxis": {
             "endlinecolor": "#2a3f5f",
             "gridcolor": "white",
             "linecolor": "white",
             "minorgridcolor": "white",
             "startlinecolor": "#2a3f5f"
            },
            "type": "carpet"
           }
          ],
          "choropleth": [
           {
            "colorbar": {
             "outlinewidth": 0,
             "ticks": ""
            },
            "type": "choropleth"
           }
          ],
          "contour": [
           {
            "colorbar": {
             "outlinewidth": 0,
             "ticks": ""
            },
            "colorscale": [
             [
              0,
              "#0d0887"
             ],
             [
              0.1111111111111111,
              "#46039f"
             ],
             [
              0.2222222222222222,
              "#7201a8"
             ],
             [
              0.3333333333333333,
              "#9c179e"
             ],
             [
              0.4444444444444444,
              "#bd3786"
             ],
             [
              0.5555555555555556,
              "#d8576b"
             ],
             [
              0.6666666666666666,
              "#ed7953"
             ],
             [
              0.7777777777777778,
              "#fb9f3a"
             ],
             [
              0.8888888888888888,
              "#fdca26"
             ],
             [
              1,
              "#f0f921"
             ]
            ],
            "type": "contour"
           }
          ],
          "contourcarpet": [
           {
            "colorbar": {
             "outlinewidth": 0,
             "ticks": ""
            },
            "type": "contourcarpet"
           }
          ],
          "heatmap": [
           {
            "colorbar": {
             "outlinewidth": 0,
             "ticks": ""
            },
            "colorscale": [
             [
              0,
              "#0d0887"
             ],
             [
              0.1111111111111111,
              "#46039f"
             ],
             [
              0.2222222222222222,
              "#7201a8"
             ],
             [
              0.3333333333333333,
              "#9c179e"
             ],
             [
              0.4444444444444444,
              "#bd3786"
             ],
             [
              0.5555555555555556,
              "#d8576b"
             ],
             [
              0.6666666666666666,
              "#ed7953"
             ],
             [
              0.7777777777777778,
              "#fb9f3a"
             ],
             [
              0.8888888888888888,
              "#fdca26"
             ],
             [
              1,
              "#f0f921"
             ]
            ],
            "type": "heatmap"
           }
          ],
          "heatmapgl": [
           {
            "colorbar": {
             "outlinewidth": 0,
             "ticks": ""
            },
            "colorscale": [
             [
              0,
              "#0d0887"
             ],
             [
              0.1111111111111111,
              "#46039f"
             ],
             [
              0.2222222222222222,
              "#7201a8"
             ],
             [
              0.3333333333333333,
              "#9c179e"
             ],
             [
              0.4444444444444444,
              "#bd3786"
             ],
             [
              0.5555555555555556,
              "#d8576b"
             ],
             [
              0.6666666666666666,
              "#ed7953"
             ],
             [
              0.7777777777777778,
              "#fb9f3a"
             ],
             [
              0.8888888888888888,
              "#fdca26"
             ],
             [
              1,
              "#f0f921"
             ]
            ],
            "type": "heatmapgl"
           }
          ],
          "histogram": [
           {
            "marker": {
             "pattern": {
              "fillmode": "overlay",
              "size": 10,
              "solidity": 0.2
             }
            },
            "type": "histogram"
           }
          ],
          "histogram2d": [
           {
            "colorbar": {
             "outlinewidth": 0,
             "ticks": ""
            },
            "colorscale": [
             [
              0,
              "#0d0887"
             ],
             [
              0.1111111111111111,
              "#46039f"
             ],
             [
              0.2222222222222222,
              "#7201a8"
             ],
             [
              0.3333333333333333,
              "#9c179e"
             ],
             [
              0.4444444444444444,
              "#bd3786"
             ],
             [
              0.5555555555555556,
              "#d8576b"
             ],
             [
              0.6666666666666666,
              "#ed7953"
             ],
             [
              0.7777777777777778,
              "#fb9f3a"
             ],
             [
              0.8888888888888888,
              "#fdca26"
             ],
             [
              1,
              "#f0f921"
             ]
            ],
            "type": "histogram2d"
           }
          ],
          "histogram2dcontour": [
           {
            "colorbar": {
             "outlinewidth": 0,
             "ticks": ""
            },
            "colorscale": [
             [
              0,
              "#0d0887"
             ],
             [
              0.1111111111111111,
              "#46039f"
             ],
             [
              0.2222222222222222,
              "#7201a8"
             ],
             [
              0.3333333333333333,
              "#9c179e"
             ],
             [
              0.4444444444444444,
              "#bd3786"
             ],
             [
              0.5555555555555556,
              "#d8576b"
             ],
             [
              0.6666666666666666,
              "#ed7953"
             ],
             [
              0.7777777777777778,
              "#fb9f3a"
             ],
             [
              0.8888888888888888,
              "#fdca26"
             ],
             [
              1,
              "#f0f921"
             ]
            ],
            "type": "histogram2dcontour"
           }
          ],
          "mesh3d": [
           {
            "colorbar": {
             "outlinewidth": 0,
             "ticks": ""
            },
            "type": "mesh3d"
           }
          ],
          "parcoords": [
           {
            "line": {
             "colorbar": {
              "outlinewidth": 0,
              "ticks": ""
             }
            },
            "type": "parcoords"
           }
          ],
          "pie": [
           {
            "automargin": true,
            "type": "pie"
           }
          ],
          "scatter": [
           {
            "fillpattern": {
             "fillmode": "overlay",
             "size": 10,
             "solidity": 0.2
            },
            "type": "scatter"
           }
          ],
          "scatter3d": [
           {
            "line": {
             "colorbar": {
              "outlinewidth": 0,
              "ticks": ""
             }
            },
            "marker": {
             "colorbar": {
              "outlinewidth": 0,
              "ticks": ""
             }
            },
            "type": "scatter3d"
           }
          ],
          "scattercarpet": [
           {
            "marker": {
             "colorbar": {
              "outlinewidth": 0,
              "ticks": ""
             }
            },
            "type": "scattercarpet"
           }
          ],
          "scattergeo": [
           {
            "marker": {
             "colorbar": {
              "outlinewidth": 0,
              "ticks": ""
             }
            },
            "type": "scattergeo"
           }
          ],
          "scattergl": [
           {
            "marker": {
             "colorbar": {
              "outlinewidth": 0,
              "ticks": ""
             }
            },
            "type": "scattergl"
           }
          ],
          "scattermapbox": [
           {
            "marker": {
             "colorbar": {
              "outlinewidth": 0,
              "ticks": ""
             }
            },
            "type": "scattermapbox"
           }
          ],
          "scatterpolar": [
           {
            "marker": {
             "colorbar": {
              "outlinewidth": 0,
              "ticks": ""
             }
            },
            "type": "scatterpolar"
           }
          ],
          "scatterpolargl": [
           {
            "marker": {
             "colorbar": {
              "outlinewidth": 0,
              "ticks": ""
             }
            },
            "type": "scatterpolargl"
           }
          ],
          "scatterternary": [
           {
            "marker": {
             "colorbar": {
              "outlinewidth": 0,
              "ticks": ""
             }
            },
            "type": "scatterternary"
           }
          ],
          "surface": [
           {
            "colorbar": {
             "outlinewidth": 0,
             "ticks": ""
            },
            "colorscale": [
             [
              0,
              "#0d0887"
             ],
             [
              0.1111111111111111,
              "#46039f"
             ],
             [
              0.2222222222222222,
              "#7201a8"
             ],
             [
              0.3333333333333333,
              "#9c179e"
             ],
             [
              0.4444444444444444,
              "#bd3786"
             ],
             [
              0.5555555555555556,
              "#d8576b"
             ],
             [
              0.6666666666666666,
              "#ed7953"
             ],
             [
              0.7777777777777778,
              "#fb9f3a"
             ],
             [
              0.8888888888888888,
              "#fdca26"
             ],
             [
              1,
              "#f0f921"
             ]
            ],
            "type": "surface"
           }
          ],
          "table": [
           {
            "cells": {
             "fill": {
              "color": "#EBF0F8"
             },
             "line": {
              "color": "white"
             }
            },
            "header": {
             "fill": {
              "color": "#C8D4E3"
             },
             "line": {
              "color": "white"
             }
            },
            "type": "table"
           }
          ]
         },
         "layout": {
          "annotationdefaults": {
           "arrowcolor": "#2a3f5f",
           "arrowhead": 0,
           "arrowwidth": 1
          },
          "autotypenumbers": "strict",
          "coloraxis": {
           "colorbar": {
            "outlinewidth": 0,
            "ticks": ""
           }
          },
          "colorscale": {
           "diverging": [
            [
             0,
             "#8e0152"
            ],
            [
             0.1,
             "#c51b7d"
            ],
            [
             0.2,
             "#de77ae"
            ],
            [
             0.3,
             "#f1b6da"
            ],
            [
             0.4,
             "#fde0ef"
            ],
            [
             0.5,
             "#f7f7f7"
            ],
            [
             0.6,
             "#e6f5d0"
            ],
            [
             0.7,
             "#b8e186"
            ],
            [
             0.8,
             "#7fbc41"
            ],
            [
             0.9,
             "#4d9221"
            ],
            [
             1,
             "#276419"
            ]
           ],
           "sequential": [
            [
             0,
             "#0d0887"
            ],
            [
             0.1111111111111111,
             "#46039f"
            ],
            [
             0.2222222222222222,
             "#7201a8"
            ],
            [
             0.3333333333333333,
             "#9c179e"
            ],
            [
             0.4444444444444444,
             "#bd3786"
            ],
            [
             0.5555555555555556,
             "#d8576b"
            ],
            [
             0.6666666666666666,
             "#ed7953"
            ],
            [
             0.7777777777777778,
             "#fb9f3a"
            ],
            [
             0.8888888888888888,
             "#fdca26"
            ],
            [
             1,
             "#f0f921"
            ]
           ],
           "sequentialminus": [
            [
             0,
             "#0d0887"
            ],
            [
             0.1111111111111111,
             "#46039f"
            ],
            [
             0.2222222222222222,
             "#7201a8"
            ],
            [
             0.3333333333333333,
             "#9c179e"
            ],
            [
             0.4444444444444444,
             "#bd3786"
            ],
            [
             0.5555555555555556,
             "#d8576b"
            ],
            [
             0.6666666666666666,
             "#ed7953"
            ],
            [
             0.7777777777777778,
             "#fb9f3a"
            ],
            [
             0.8888888888888888,
             "#fdca26"
            ],
            [
             1,
             "#f0f921"
            ]
           ]
          },
          "colorway": [
           "#636efa",
           "#EF553B",
           "#00cc96",
           "#ab63fa",
           "#FFA15A",
           "#19d3f3",
           "#FF6692",
           "#B6E880",
           "#FF97FF",
           "#FECB52"
          ],
          "font": {
           "color": "#2a3f5f"
          },
          "geo": {
           "bgcolor": "white",
           "lakecolor": "white",
           "landcolor": "#E5ECF6",
           "showlakes": true,
           "showland": true,
           "subunitcolor": "white"
          },
          "hoverlabel": {
           "align": "left"
          },
          "hovermode": "closest",
          "mapbox": {
           "style": "light"
          },
          "paper_bgcolor": "white",
          "plot_bgcolor": "#E5ECF6",
          "polar": {
           "angularaxis": {
            "gridcolor": "white",
            "linecolor": "white",
            "ticks": ""
           },
           "bgcolor": "#E5ECF6",
           "radialaxis": {
            "gridcolor": "white",
            "linecolor": "white",
            "ticks": ""
           }
          },
          "scene": {
           "xaxis": {
            "backgroundcolor": "#E5ECF6",
            "gridcolor": "white",
            "gridwidth": 2,
            "linecolor": "white",
            "showbackground": true,
            "ticks": "",
            "zerolinecolor": "white"
           },
           "yaxis": {
            "backgroundcolor": "#E5ECF6",
            "gridcolor": "white",
            "gridwidth": 2,
            "linecolor": "white",
            "showbackground": true,
            "ticks": "",
            "zerolinecolor": "white"
           },
           "zaxis": {
            "backgroundcolor": "#E5ECF6",
            "gridcolor": "white",
            "gridwidth": 2,
            "linecolor": "white",
            "showbackground": true,
            "ticks": "",
            "zerolinecolor": "white"
           }
          },
          "shapedefaults": {
           "line": {
            "color": "#2a3f5f"
           }
          },
          "ternary": {
           "aaxis": {
            "gridcolor": "white",
            "linecolor": "white",
            "ticks": ""
           },
           "baxis": {
            "gridcolor": "white",
            "linecolor": "white",
            "ticks": ""
           },
           "bgcolor": "#E5ECF6",
           "caxis": {
            "gridcolor": "white",
            "linecolor": "white",
            "ticks": ""
           }
          },
          "title": {
           "x": 0.05
          },
          "xaxis": {
           "automargin": true,
           "gridcolor": "white",
           "linecolor": "white",
           "ticks": "",
           "title": {
            "standoff": 15
           },
           "zerolinecolor": "white",
           "zerolinewidth": 2
          },
          "yaxis": {
           "automargin": true,
           "gridcolor": "white",
           "linecolor": "white",
           "ticks": "",
           "title": {
            "standoff": 15
           },
           "zerolinecolor": "white",
           "zerolinewidth": 2
          }
         }
        },
        "title": {
         "text": "Metrics Table for Calpella",
         "x": 0.5
        },
        "width": 1200
       }
      }
     },
     "metadata": {},
     "output_type": "display_data"
    }
   ],
   "source": [
    "calpella_table = create_metrics_table(calpella_metrics_df, \"Metrics Table for Calpella\")\n",
    "calpella_table.show()"
   ]
  },
  {
   "cell_type": "code",
   "execution_count": 73,
   "metadata": {},
   "outputs": [
    {
     "data": {
      "text/html": [
       "<div>\n",
       "<style scoped>\n",
       "    .dataframe tbody tr th:only-of-type {\n",
       "        vertical-align: middle;\n",
       "    }\n",
       "\n",
       "    .dataframe tbody tr th {\n",
       "        vertical-align: top;\n",
       "    }\n",
       "\n",
       "    .dataframe thead th {\n",
       "        text-align: right;\n",
       "    }\n",
       "</style>\n",
       "<table border=\"1\" class=\"dataframe\">\n",
       "  <thead>\n",
       "    <tr style=\"text-align: right;\">\n",
       "      <th></th>\n",
       "      <th>Unnamed: 0</th>\n",
       "      <th>HMS</th>\n",
       "      <th>LSTM</th>\n",
       "      <th>Physics_Informed_LSTM</th>\n",
       "    </tr>\n",
       "  </thead>\n",
       "  <tbody>\n",
       "    <tr>\n",
       "      <th>0</th>\n",
       "      <td>NSE</td>\n",
       "      <td>0.732378</td>\n",
       "      <td>0.850322</td>\n",
       "      <td>0.762767</td>\n",
       "    </tr>\n",
       "    <tr>\n",
       "      <th>1</th>\n",
       "      <td>MSE</td>\n",
       "      <td>143219.109139</td>\n",
       "      <td>80100.972954</td>\n",
       "      <td>126956.311357</td>\n",
       "    </tr>\n",
       "    <tr>\n",
       "      <th>2</th>\n",
       "      <td>RMSE</td>\n",
       "      <td>378.443006</td>\n",
       "      <td>283.021153</td>\n",
       "      <td>356.309292</td>\n",
       "    </tr>\n",
       "    <tr>\n",
       "      <th>3</th>\n",
       "      <td>KGE</td>\n",
       "      <td>0.791193</td>\n",
       "      <td>0.875194</td>\n",
       "      <td>0.739197</td>\n",
       "    </tr>\n",
       "    <tr>\n",
       "      <th>4</th>\n",
       "      <td>Alpha-NSE</td>\n",
       "      <td>1.179502</td>\n",
       "      <td>0.939637</td>\n",
       "      <td>0.797347</td>\n",
       "    </tr>\n",
       "    <tr>\n",
       "      <th>5</th>\n",
       "      <td>Beta-KGE</td>\n",
       "      <td>1.037973</td>\n",
       "      <td>1.077303</td>\n",
       "      <td>0.889880</td>\n",
       "    </tr>\n",
       "    <tr>\n",
       "      <th>6</th>\n",
       "      <td>Beta-NSE</td>\n",
       "      <td>0.015443</td>\n",
       "      <td>0.031438</td>\n",
       "      <td>-0.044784</td>\n",
       "    </tr>\n",
       "    <tr>\n",
       "      <th>7</th>\n",
       "      <td>Pearson-r</td>\n",
       "      <td>0.900313</td>\n",
       "      <td>0.922818</td>\n",
       "      <td>0.878247</td>\n",
       "    </tr>\n",
       "    <tr>\n",
       "      <th>8</th>\n",
       "      <td>FHV</td>\n",
       "      <td>24.454837</td>\n",
       "      <td>-1.038285</td>\n",
       "      <td>-23.831772</td>\n",
       "    </tr>\n",
       "    <tr>\n",
       "      <th>9</th>\n",
       "      <td>FMS</td>\n",
       "      <td>25.355981</td>\n",
       "      <td>-11.638515</td>\n",
       "      <td>73.623212</td>\n",
       "    </tr>\n",
       "    <tr>\n",
       "      <th>10</th>\n",
       "      <td>FLV</td>\n",
       "      <td>79.444047</td>\n",
       "      <td>-2249.806006</td>\n",
       "      <td>-1669.059207</td>\n",
       "    </tr>\n",
       "    <tr>\n",
       "      <th>11</th>\n",
       "      <td>Peak-Timing</td>\n",
       "      <td>0.833333</td>\n",
       "      <td>0.166667</td>\n",
       "      <td>0.333333</td>\n",
       "    </tr>\n",
       "    <tr>\n",
       "      <th>12</th>\n",
       "      <td>Peak-MAPE</td>\n",
       "      <td>44.995234</td>\n",
       "      <td>51.717223</td>\n",
       "      <td>55.615952</td>\n",
       "    </tr>\n",
       "  </tbody>\n",
       "</table>\n",
       "</div>"
      ],
      "text/plain": [
       "     Unnamed: 0            HMS          LSTM  Physics_Informed_LSTM\n",
       "0           NSE       0.732378      0.850322               0.762767\n",
       "1           MSE  143219.109139  80100.972954          126956.311357\n",
       "2          RMSE     378.443006    283.021153             356.309292\n",
       "3           KGE       0.791193      0.875194               0.739197\n",
       "4     Alpha-NSE       1.179502      0.939637               0.797347\n",
       "5      Beta-KGE       1.037973      1.077303               0.889880\n",
       "6      Beta-NSE       0.015443      0.031438              -0.044784\n",
       "7     Pearson-r       0.900313      0.922818               0.878247\n",
       "8           FHV      24.454837     -1.038285             -23.831772\n",
       "9           FMS      25.355981    -11.638515              73.623212\n",
       "10          FLV      79.444047  -2249.806006           -1669.059207\n",
       "11  Peak-Timing       0.833333      0.166667               0.333333\n",
       "12    Peak-MAPE      44.995234     51.717223              55.615952"
      ]
     },
     "execution_count": 73,
     "metadata": {},
     "output_type": "execute_result"
    }
   ],
   "source": [
    "warm_springs_metrics_df = pd.read_csv(\"warm_springs_all/warm_springs_metrics.csv\")\n",
    "warm_springs_metrics_df"
   ]
  },
  {
   "cell_type": "code",
   "execution_count": 76,
   "metadata": {},
   "outputs": [
    {
     "data": {
      "application/vnd.plotly.v1+json": {
       "config": {
        "plotlyServerURL": "https://plot.ly"
       },
       "data": [
        {
         "cells": {
          "align": "center",
          "fill": {
           "color": [
            [
             "#F9F9F9",
             "#FFFFFF",
             "#F9F9F9",
             "#FFFFFF",
             "#F9F9F9",
             "#FFFFFF",
             "#F9F9F9",
             "#FFFFFF",
             "#F9F9F9",
             "#FFFFFF",
             "#F9F9F9",
             "#FFFFFF",
             "#F9F9F9",
             "#F9F9F9",
             "#FFFFFF",
             "#F9F9F9",
             "#FFFFFF",
             "#F9F9F9",
             "#FFFFFF",
             "#F9F9F9",
             "#FFFFFF",
             "#F9F9F9",
             "#FFFFFF",
             "#F9F9F9",
             "#FFFFFF",
             "#F9F9F9",
             "#F9F9F9",
             "#FFFFFF",
             "#F9F9F9",
             "#FFFFFF",
             "#F9F9F9",
             "#FFFFFF",
             "#F9F9F9",
             "#FFFFFF",
             "#F9F9F9",
             "#FFFFFF",
             "#F9F9F9",
             "#FFFFFF",
             "#F9F9F9"
            ]
           ]
          },
          "font": {
           "color": "black",
           "size": 11
          },
          "format": [
           null,
           ".4f",
           ".4f",
           ".4f"
          ],
          "values": [
           [
            "NSE",
            "MSE",
            "RMSE",
            "KGE",
            "Alpha-NSE",
            "Beta-KGE",
            "Beta-NSE",
            "Pearson-r",
            "FHV",
            "FMS",
            "FLV",
            "Peak-Timing",
            "Peak-MAPE"
           ],
           [
            0.7323780017185723,
            143219.10913853074,
            378.4430064600623,
            0.7911931565933268,
            1.1795016044364384,
            1.0379725123917525,
            0.0154429125223982,
            0.9003126880648217,
            24.4548366505348,
            25.355981289573887,
            79.44404702918855,
            0.8333333333333334,
            44.99523375743027
           ],
           [
            0.8503217721763695,
            80100.97295436739,
            283.0211528390897,
            0.8751942405453719,
            0.9396368706705708,
            1.077302674057672,
            0.0314379628322771,
            0.9228179632677498,
            -1.038284624885449,
            -11.63851529178411,
            -2249.806005930272,
            0.1666666666666666,
            51.71722290165079
           ],
           [
            0.7627669802996933,
            126956.31135670848,
            356.3092917069501,
            0.7391969516496533,
            0.7973474337502783,
            0.8898804968707337,
            -0.0447841279579009,
            0.8782467148213283,
            -23.83177231681873,
            73.62321188193386,
            -1669.059207280003,
            0.3333333333333333,
            55.61595193368799
           ]
          ]
         },
         "header": {
          "align": "center",
          "fill": {
           "color": "grey"
          },
          "font": {
           "color": "white",
           "size": 12
          },
          "values": [
           "<b>Metric</b>",
           "<b>HMS</b>",
           "<b>LSTM</b>",
           "<b>Physics_Informed_LSTM</b>"
          ]
         },
         "type": "table"
        }
       ],
       "layout": {
        "height": 600,
        "template": {
         "data": {
          "bar": [
           {
            "error_x": {
             "color": "#2a3f5f"
            },
            "error_y": {
             "color": "#2a3f5f"
            },
            "marker": {
             "line": {
              "color": "#E5ECF6",
              "width": 0.5
             },
             "pattern": {
              "fillmode": "overlay",
              "size": 10,
              "solidity": 0.2
             }
            },
            "type": "bar"
           }
          ],
          "barpolar": [
           {
            "marker": {
             "line": {
              "color": "#E5ECF6",
              "width": 0.5
             },
             "pattern": {
              "fillmode": "overlay",
              "size": 10,
              "solidity": 0.2
             }
            },
            "type": "barpolar"
           }
          ],
          "carpet": [
           {
            "aaxis": {
             "endlinecolor": "#2a3f5f",
             "gridcolor": "white",
             "linecolor": "white",
             "minorgridcolor": "white",
             "startlinecolor": "#2a3f5f"
            },
            "baxis": {
             "endlinecolor": "#2a3f5f",
             "gridcolor": "white",
             "linecolor": "white",
             "minorgridcolor": "white",
             "startlinecolor": "#2a3f5f"
            },
            "type": "carpet"
           }
          ],
          "choropleth": [
           {
            "colorbar": {
             "outlinewidth": 0,
             "ticks": ""
            },
            "type": "choropleth"
           }
          ],
          "contour": [
           {
            "colorbar": {
             "outlinewidth": 0,
             "ticks": ""
            },
            "colorscale": [
             [
              0,
              "#0d0887"
             ],
             [
              0.1111111111111111,
              "#46039f"
             ],
             [
              0.2222222222222222,
              "#7201a8"
             ],
             [
              0.3333333333333333,
              "#9c179e"
             ],
             [
              0.4444444444444444,
              "#bd3786"
             ],
             [
              0.5555555555555556,
              "#d8576b"
             ],
             [
              0.6666666666666666,
              "#ed7953"
             ],
             [
              0.7777777777777778,
              "#fb9f3a"
             ],
             [
              0.8888888888888888,
              "#fdca26"
             ],
             [
              1,
              "#f0f921"
             ]
            ],
            "type": "contour"
           }
          ],
          "contourcarpet": [
           {
            "colorbar": {
             "outlinewidth": 0,
             "ticks": ""
            },
            "type": "contourcarpet"
           }
          ],
          "heatmap": [
           {
            "colorbar": {
             "outlinewidth": 0,
             "ticks": ""
            },
            "colorscale": [
             [
              0,
              "#0d0887"
             ],
             [
              0.1111111111111111,
              "#46039f"
             ],
             [
              0.2222222222222222,
              "#7201a8"
             ],
             [
              0.3333333333333333,
              "#9c179e"
             ],
             [
              0.4444444444444444,
              "#bd3786"
             ],
             [
              0.5555555555555556,
              "#d8576b"
             ],
             [
              0.6666666666666666,
              "#ed7953"
             ],
             [
              0.7777777777777778,
              "#fb9f3a"
             ],
             [
              0.8888888888888888,
              "#fdca26"
             ],
             [
              1,
              "#f0f921"
             ]
            ],
            "type": "heatmap"
           }
          ],
          "heatmapgl": [
           {
            "colorbar": {
             "outlinewidth": 0,
             "ticks": ""
            },
            "colorscale": [
             [
              0,
              "#0d0887"
             ],
             [
              0.1111111111111111,
              "#46039f"
             ],
             [
              0.2222222222222222,
              "#7201a8"
             ],
             [
              0.3333333333333333,
              "#9c179e"
             ],
             [
              0.4444444444444444,
              "#bd3786"
             ],
             [
              0.5555555555555556,
              "#d8576b"
             ],
             [
              0.6666666666666666,
              "#ed7953"
             ],
             [
              0.7777777777777778,
              "#fb9f3a"
             ],
             [
              0.8888888888888888,
              "#fdca26"
             ],
             [
              1,
              "#f0f921"
             ]
            ],
            "type": "heatmapgl"
           }
          ],
          "histogram": [
           {
            "marker": {
             "pattern": {
              "fillmode": "overlay",
              "size": 10,
              "solidity": 0.2
             }
            },
            "type": "histogram"
           }
          ],
          "histogram2d": [
           {
            "colorbar": {
             "outlinewidth": 0,
             "ticks": ""
            },
            "colorscale": [
             [
              0,
              "#0d0887"
             ],
             [
              0.1111111111111111,
              "#46039f"
             ],
             [
              0.2222222222222222,
              "#7201a8"
             ],
             [
              0.3333333333333333,
              "#9c179e"
             ],
             [
              0.4444444444444444,
              "#bd3786"
             ],
             [
              0.5555555555555556,
              "#d8576b"
             ],
             [
              0.6666666666666666,
              "#ed7953"
             ],
             [
              0.7777777777777778,
              "#fb9f3a"
             ],
             [
              0.8888888888888888,
              "#fdca26"
             ],
             [
              1,
              "#f0f921"
             ]
            ],
            "type": "histogram2d"
           }
          ],
          "histogram2dcontour": [
           {
            "colorbar": {
             "outlinewidth": 0,
             "ticks": ""
            },
            "colorscale": [
             [
              0,
              "#0d0887"
             ],
             [
              0.1111111111111111,
              "#46039f"
             ],
             [
              0.2222222222222222,
              "#7201a8"
             ],
             [
              0.3333333333333333,
              "#9c179e"
             ],
             [
              0.4444444444444444,
              "#bd3786"
             ],
             [
              0.5555555555555556,
              "#d8576b"
             ],
             [
              0.6666666666666666,
              "#ed7953"
             ],
             [
              0.7777777777777778,
              "#fb9f3a"
             ],
             [
              0.8888888888888888,
              "#fdca26"
             ],
             [
              1,
              "#f0f921"
             ]
            ],
            "type": "histogram2dcontour"
           }
          ],
          "mesh3d": [
           {
            "colorbar": {
             "outlinewidth": 0,
             "ticks": ""
            },
            "type": "mesh3d"
           }
          ],
          "parcoords": [
           {
            "line": {
             "colorbar": {
              "outlinewidth": 0,
              "ticks": ""
             }
            },
            "type": "parcoords"
           }
          ],
          "pie": [
           {
            "automargin": true,
            "type": "pie"
           }
          ],
          "scatter": [
           {
            "fillpattern": {
             "fillmode": "overlay",
             "size": 10,
             "solidity": 0.2
            },
            "type": "scatter"
           }
          ],
          "scatter3d": [
           {
            "line": {
             "colorbar": {
              "outlinewidth": 0,
              "ticks": ""
             }
            },
            "marker": {
             "colorbar": {
              "outlinewidth": 0,
              "ticks": ""
             }
            },
            "type": "scatter3d"
           }
          ],
          "scattercarpet": [
           {
            "marker": {
             "colorbar": {
              "outlinewidth": 0,
              "ticks": ""
             }
            },
            "type": "scattercarpet"
           }
          ],
          "scattergeo": [
           {
            "marker": {
             "colorbar": {
              "outlinewidth": 0,
              "ticks": ""
             }
            },
            "type": "scattergeo"
           }
          ],
          "scattergl": [
           {
            "marker": {
             "colorbar": {
              "outlinewidth": 0,
              "ticks": ""
             }
            },
            "type": "scattergl"
           }
          ],
          "scattermapbox": [
           {
            "marker": {
             "colorbar": {
              "outlinewidth": 0,
              "ticks": ""
             }
            },
            "type": "scattermapbox"
           }
          ],
          "scatterpolar": [
           {
            "marker": {
             "colorbar": {
              "outlinewidth": 0,
              "ticks": ""
             }
            },
            "type": "scatterpolar"
           }
          ],
          "scatterpolargl": [
           {
            "marker": {
             "colorbar": {
              "outlinewidth": 0,
              "ticks": ""
             }
            },
            "type": "scatterpolargl"
           }
          ],
          "scatterternary": [
           {
            "marker": {
             "colorbar": {
              "outlinewidth": 0,
              "ticks": ""
             }
            },
            "type": "scatterternary"
           }
          ],
          "surface": [
           {
            "colorbar": {
             "outlinewidth": 0,
             "ticks": ""
            },
            "colorscale": [
             [
              0,
              "#0d0887"
             ],
             [
              0.1111111111111111,
              "#46039f"
             ],
             [
              0.2222222222222222,
              "#7201a8"
             ],
             [
              0.3333333333333333,
              "#9c179e"
             ],
             [
              0.4444444444444444,
              "#bd3786"
             ],
             [
              0.5555555555555556,
              "#d8576b"
             ],
             [
              0.6666666666666666,
              "#ed7953"
             ],
             [
              0.7777777777777778,
              "#fb9f3a"
             ],
             [
              0.8888888888888888,
              "#fdca26"
             ],
             [
              1,
              "#f0f921"
             ]
            ],
            "type": "surface"
           }
          ],
          "table": [
           {
            "cells": {
             "fill": {
              "color": "#EBF0F8"
             },
             "line": {
              "color": "white"
             }
            },
            "header": {
             "fill": {
              "color": "#C8D4E3"
             },
             "line": {
              "color": "white"
             }
            },
            "type": "table"
           }
          ]
         },
         "layout": {
          "annotationdefaults": {
           "arrowcolor": "#2a3f5f",
           "arrowhead": 0,
           "arrowwidth": 1
          },
          "autotypenumbers": "strict",
          "coloraxis": {
           "colorbar": {
            "outlinewidth": 0,
            "ticks": ""
           }
          },
          "colorscale": {
           "diverging": [
            [
             0,
             "#8e0152"
            ],
            [
             0.1,
             "#c51b7d"
            ],
            [
             0.2,
             "#de77ae"
            ],
            [
             0.3,
             "#f1b6da"
            ],
            [
             0.4,
             "#fde0ef"
            ],
            [
             0.5,
             "#f7f7f7"
            ],
            [
             0.6,
             "#e6f5d0"
            ],
            [
             0.7,
             "#b8e186"
            ],
            [
             0.8,
             "#7fbc41"
            ],
            [
             0.9,
             "#4d9221"
            ],
            [
             1,
             "#276419"
            ]
           ],
           "sequential": [
            [
             0,
             "#0d0887"
            ],
            [
             0.1111111111111111,
             "#46039f"
            ],
            [
             0.2222222222222222,
             "#7201a8"
            ],
            [
             0.3333333333333333,
             "#9c179e"
            ],
            [
             0.4444444444444444,
             "#bd3786"
            ],
            [
             0.5555555555555556,
             "#d8576b"
            ],
            [
             0.6666666666666666,
             "#ed7953"
            ],
            [
             0.7777777777777778,
             "#fb9f3a"
            ],
            [
             0.8888888888888888,
             "#fdca26"
            ],
            [
             1,
             "#f0f921"
            ]
           ],
           "sequentialminus": [
            [
             0,
             "#0d0887"
            ],
            [
             0.1111111111111111,
             "#46039f"
            ],
            [
             0.2222222222222222,
             "#7201a8"
            ],
            [
             0.3333333333333333,
             "#9c179e"
            ],
            [
             0.4444444444444444,
             "#bd3786"
            ],
            [
             0.5555555555555556,
             "#d8576b"
            ],
            [
             0.6666666666666666,
             "#ed7953"
            ],
            [
             0.7777777777777778,
             "#fb9f3a"
            ],
            [
             0.8888888888888888,
             "#fdca26"
            ],
            [
             1,
             "#f0f921"
            ]
           ]
          },
          "colorway": [
           "#636efa",
           "#EF553B",
           "#00cc96",
           "#ab63fa",
           "#FFA15A",
           "#19d3f3",
           "#FF6692",
           "#B6E880",
           "#FF97FF",
           "#FECB52"
          ],
          "font": {
           "color": "#2a3f5f"
          },
          "geo": {
           "bgcolor": "white",
           "lakecolor": "white",
           "landcolor": "#E5ECF6",
           "showlakes": true,
           "showland": true,
           "subunitcolor": "white"
          },
          "hoverlabel": {
           "align": "left"
          },
          "hovermode": "closest",
          "mapbox": {
           "style": "light"
          },
          "paper_bgcolor": "white",
          "plot_bgcolor": "#E5ECF6",
          "polar": {
           "angularaxis": {
            "gridcolor": "white",
            "linecolor": "white",
            "ticks": ""
           },
           "bgcolor": "#E5ECF6",
           "radialaxis": {
            "gridcolor": "white",
            "linecolor": "white",
            "ticks": ""
           }
          },
          "scene": {
           "xaxis": {
            "backgroundcolor": "#E5ECF6",
            "gridcolor": "white",
            "gridwidth": 2,
            "linecolor": "white",
            "showbackground": true,
            "ticks": "",
            "zerolinecolor": "white"
           },
           "yaxis": {
            "backgroundcolor": "#E5ECF6",
            "gridcolor": "white",
            "gridwidth": 2,
            "linecolor": "white",
            "showbackground": true,
            "ticks": "",
            "zerolinecolor": "white"
           },
           "zaxis": {
            "backgroundcolor": "#E5ECF6",
            "gridcolor": "white",
            "gridwidth": 2,
            "linecolor": "white",
            "showbackground": true,
            "ticks": "",
            "zerolinecolor": "white"
           }
          },
          "shapedefaults": {
           "line": {
            "color": "#2a3f5f"
           }
          },
          "ternary": {
           "aaxis": {
            "gridcolor": "white",
            "linecolor": "white",
            "ticks": ""
           },
           "baxis": {
            "gridcolor": "white",
            "linecolor": "white",
            "ticks": ""
           },
           "bgcolor": "#E5ECF6",
           "caxis": {
            "gridcolor": "white",
            "linecolor": "white",
            "ticks": ""
           }
          },
          "title": {
           "x": 0.05
          },
          "xaxis": {
           "automargin": true,
           "gridcolor": "white",
           "linecolor": "white",
           "ticks": "",
           "title": {
            "standoff": 15
           },
           "zerolinecolor": "white",
           "zerolinewidth": 2
          },
          "yaxis": {
           "automargin": true,
           "gridcolor": "white",
           "linecolor": "white",
           "ticks": "",
           "title": {
            "standoff": 15
           },
           "zerolinecolor": "white",
           "zerolinewidth": 2
          }
         }
        },
        "title": {
         "text": "Metrics Table for Warm Springs",
         "x": 0.5
        },
        "width": 1200
       }
      }
     },
     "metadata": {},
     "output_type": "display_data"
    }
   ],
   "source": [
    "warm_springs_table = create_metrics_table(warm_springs_metrics_df, \"Metrics Table for Warm Springs\")\n",
    "warm_springs_table.show()"
   ]
  },
  {
   "cell_type": "code",
   "execution_count": 77,
   "metadata": {},
   "outputs": [
    {
     "data": {
      "text/html": [
       "<div>\n",
       "<style scoped>\n",
       "    .dataframe tbody tr th:only-of-type {\n",
       "        vertical-align: middle;\n",
       "    }\n",
       "\n",
       "    .dataframe tbody tr th {\n",
       "        vertical-align: top;\n",
       "    }\n",
       "\n",
       "    .dataframe thead th {\n",
       "        text-align: right;\n",
       "    }\n",
       "</style>\n",
       "<table border=\"1\" class=\"dataframe\">\n",
       "  <thead>\n",
       "    <tr style=\"text-align: right;\">\n",
       "      <th></th>\n",
       "      <th>Unnamed: 0</th>\n",
       "      <th>HMS</th>\n",
       "      <th>LSTM</th>\n",
       "      <th>Physics_Informed_LSTM</th>\n",
       "    </tr>\n",
       "  </thead>\n",
       "  <tbody>\n",
       "    <tr>\n",
       "      <th>0</th>\n",
       "      <td>NSE</td>\n",
       "      <td>8.499148e-01</td>\n",
       "      <td>6.494876e-01</td>\n",
       "      <td>7.409967e-01</td>\n",
       "    </tr>\n",
       "    <tr>\n",
       "      <th>1</th>\n",
       "      <td>MSE</td>\n",
       "      <td>4.623214e+06</td>\n",
       "      <td>1.079716e+07</td>\n",
       "      <td>7.978319e+06</td>\n",
       "    </tr>\n",
       "    <tr>\n",
       "      <th>2</th>\n",
       "      <td>RMSE</td>\n",
       "      <td>2.150166e+03</td>\n",
       "      <td>3.285903e+03</td>\n",
       "      <td>2.824592e+03</td>\n",
       "    </tr>\n",
       "    <tr>\n",
       "      <th>3</th>\n",
       "      <td>KGE</td>\n",
       "      <td>8.430314e-01</td>\n",
       "      <td>6.530352e-01</td>\n",
       "      <td>7.235612e-01</td>\n",
       "    </tr>\n",
       "    <tr>\n",
       "      <th>4</th>\n",
       "      <td>Alpha-NSE</td>\n",
       "      <td>1.026757e+00</td>\n",
       "      <td>7.137961e-01</td>\n",
       "      <td>7.665495e-01</td>\n",
       "    </tr>\n",
       "    <tr>\n",
       "      <th>5</th>\n",
       "      <td>Beta-KGE</td>\n",
       "      <td>1.137092e+00</td>\n",
       "      <td>1.056343e+00</td>\n",
       "      <td>1.064927e+00</td>\n",
       "    </tr>\n",
       "    <tr>\n",
       "      <th>6</th>\n",
       "      <td>Beta-NSE</td>\n",
       "      <td>4.800380e-02</td>\n",
       "      <td>1.972874e-02</td>\n",
       "      <td>2.273455e-02</td>\n",
       "    </tr>\n",
       "    <tr>\n",
       "      <th>7</th>\n",
       "      <td>Pearson-r</td>\n",
       "      <td>9.283838e-01</td>\n",
       "      <td>8.121239e-01</td>\n",
       "      <td>8.669445e-01</td>\n",
       "    </tr>\n",
       "    <tr>\n",
       "      <th>8</th>\n",
       "      <td>FHV</td>\n",
       "      <td>2.575216e+00</td>\n",
       "      <td>-3.882094e+01</td>\n",
       "      <td>-3.101388e+01</td>\n",
       "    </tr>\n",
       "    <tr>\n",
       "      <th>9</th>\n",
       "      <td>FMS</td>\n",
       "      <td>-2.409063e+01</td>\n",
       "      <td>1.180181e+02</td>\n",
       "      <td>3.235107e+01</td>\n",
       "    </tr>\n",
       "    <tr>\n",
       "      <th>10</th>\n",
       "      <td>FLV</td>\n",
       "      <td>9.758516e+01</td>\n",
       "      <td>9.194438e+01</td>\n",
       "      <td>7.254837e+01</td>\n",
       "    </tr>\n",
       "    <tr>\n",
       "      <th>11</th>\n",
       "      <td>Peak-Timing</td>\n",
       "      <td>7.500000e-01</td>\n",
       "      <td>7.500000e-01</td>\n",
       "      <td>5.000000e-01</td>\n",
       "    </tr>\n",
       "    <tr>\n",
       "      <th>12</th>\n",
       "      <td>Peak-MAPE</td>\n",
       "      <td>1.465164e+01</td>\n",
       "      <td>4.893300e+01</td>\n",
       "      <td>3.357082e+01</td>\n",
       "    </tr>\n",
       "  </tbody>\n",
       "</table>\n",
       "</div>"
      ],
      "text/plain": [
       "     Unnamed: 0           HMS          LSTM  Physics_Informed_LSTM\n",
       "0           NSE  8.499148e-01  6.494876e-01           7.409967e-01\n",
       "1           MSE  4.623214e+06  1.079716e+07           7.978319e+06\n",
       "2          RMSE  2.150166e+03  3.285903e+03           2.824592e+03\n",
       "3           KGE  8.430314e-01  6.530352e-01           7.235612e-01\n",
       "4     Alpha-NSE  1.026757e+00  7.137961e-01           7.665495e-01\n",
       "5      Beta-KGE  1.137092e+00  1.056343e+00           1.064927e+00\n",
       "6      Beta-NSE  4.800380e-02  1.972874e-02           2.273455e-02\n",
       "7     Pearson-r  9.283838e-01  8.121239e-01           8.669445e-01\n",
       "8           FHV  2.575216e+00 -3.882094e+01          -3.101388e+01\n",
       "9           FMS -2.409063e+01  1.180181e+02           3.235107e+01\n",
       "10          FLV  9.758516e+01  9.194438e+01           7.254837e+01\n",
       "11  Peak-Timing  7.500000e-01  7.500000e-01           5.000000e-01\n",
       "12    Peak-MAPE  1.465164e+01  4.893300e+01           3.357082e+01"
      ]
     },
     "execution_count": 77,
     "metadata": {},
     "output_type": "execute_result"
    }
   ],
   "source": [
    "guerneville_metrics_df = pd.read_csv(\"guerneville_all/guerneville_metrics.csv\")\n",
    "guerneville_metrics_df"
   ]
  },
  {
   "cell_type": "code",
   "execution_count": 78,
   "metadata": {},
   "outputs": [
    {
     "data": {
      "application/vnd.plotly.v1+json": {
       "config": {
        "plotlyServerURL": "https://plot.ly"
       },
       "data": [
        {
         "cells": {
          "align": "center",
          "fill": {
           "color": [
            [
             "#F9F9F9",
             "#FFFFFF",
             "#F9F9F9",
             "#FFFFFF",
             "#F9F9F9",
             "#FFFFFF",
             "#F9F9F9",
             "#FFFFFF",
             "#F9F9F9",
             "#FFFFFF",
             "#F9F9F9",
             "#FFFFFF",
             "#F9F9F9",
             "#F9F9F9",
             "#FFFFFF",
             "#F9F9F9",
             "#FFFFFF",
             "#F9F9F9",
             "#FFFFFF",
             "#F9F9F9",
             "#FFFFFF",
             "#F9F9F9",
             "#FFFFFF",
             "#F9F9F9",
             "#FFFFFF",
             "#F9F9F9",
             "#F9F9F9",
             "#FFFFFF",
             "#F9F9F9",
             "#FFFFFF",
             "#F9F9F9",
             "#FFFFFF",
             "#F9F9F9",
             "#FFFFFF",
             "#F9F9F9",
             "#FFFFFF",
             "#F9F9F9",
             "#FFFFFF",
             "#F9F9F9"
            ]
           ]
          },
          "font": {
           "color": "black",
           "size": 11
          },
          "format": [
           null,
           ".4f",
           ".4f",
           ".4f"
          ],
          "values": [
           [
            "NSE",
            "MSE",
            "RMSE",
            "KGE",
            "Alpha-NSE",
            "Beta-KGE",
            "Beta-NSE",
            "Pearson-r",
            "FHV",
            "FMS",
            "FLV",
            "Peak-Timing",
            "Peak-MAPE"
           ],
           [
            0.8499147832783736,
            4623213.706820005,
            2150.165971924029,
            0.843031351236524,
            1.0267572161205654,
            1.1370924060323586,
            0.0480038035909785,
            0.9283837987019152,
            2.5752161388721917,
            -24.09063416736044,
            97.5851582783026,
            0.75,
            14.651638888522028
           ],
           [
            0.6494876486916954,
            10797156.058240596,
            3285.9026245828704,
            0.6530351660451007,
            0.7137960972410552,
            1.0563426398527342,
            0.0197287442504255,
            0.8121238999198557,
            -38.82093723303792,
            118.01814409265292,
            91.94437616881432,
            0.75,
            48.933003442050335
           ],
           [
            0.740996674517424,
            7978318.922002563,
            2824.5918151128603,
            0.723561206134262,
            0.766549500795083,
            1.064926819747717,
            0.022734551045961,
            0.8669444505014299,
            -31.013879417549965,
            32.35106972751945,
            72.54836779084289,
            0.5,
            33.570815108823886
           ]
          ]
         },
         "header": {
          "align": "center",
          "fill": {
           "color": "grey"
          },
          "font": {
           "color": "white",
           "size": 12
          },
          "values": [
           "<b>Metric</b>",
           "<b>HMS</b>",
           "<b>LSTM</b>",
           "<b>Physics_Informed_LSTM</b>"
          ]
         },
         "type": "table"
        }
       ],
       "layout": {
        "height": 600,
        "template": {
         "data": {
          "bar": [
           {
            "error_x": {
             "color": "#2a3f5f"
            },
            "error_y": {
             "color": "#2a3f5f"
            },
            "marker": {
             "line": {
              "color": "#E5ECF6",
              "width": 0.5
             },
             "pattern": {
              "fillmode": "overlay",
              "size": 10,
              "solidity": 0.2
             }
            },
            "type": "bar"
           }
          ],
          "barpolar": [
           {
            "marker": {
             "line": {
              "color": "#E5ECF6",
              "width": 0.5
             },
             "pattern": {
              "fillmode": "overlay",
              "size": 10,
              "solidity": 0.2
             }
            },
            "type": "barpolar"
           }
          ],
          "carpet": [
           {
            "aaxis": {
             "endlinecolor": "#2a3f5f",
             "gridcolor": "white",
             "linecolor": "white",
             "minorgridcolor": "white",
             "startlinecolor": "#2a3f5f"
            },
            "baxis": {
             "endlinecolor": "#2a3f5f",
             "gridcolor": "white",
             "linecolor": "white",
             "minorgridcolor": "white",
             "startlinecolor": "#2a3f5f"
            },
            "type": "carpet"
           }
          ],
          "choropleth": [
           {
            "colorbar": {
             "outlinewidth": 0,
             "ticks": ""
            },
            "type": "choropleth"
           }
          ],
          "contour": [
           {
            "colorbar": {
             "outlinewidth": 0,
             "ticks": ""
            },
            "colorscale": [
             [
              0,
              "#0d0887"
             ],
             [
              0.1111111111111111,
              "#46039f"
             ],
             [
              0.2222222222222222,
              "#7201a8"
             ],
             [
              0.3333333333333333,
              "#9c179e"
             ],
             [
              0.4444444444444444,
              "#bd3786"
             ],
             [
              0.5555555555555556,
              "#d8576b"
             ],
             [
              0.6666666666666666,
              "#ed7953"
             ],
             [
              0.7777777777777778,
              "#fb9f3a"
             ],
             [
              0.8888888888888888,
              "#fdca26"
             ],
             [
              1,
              "#f0f921"
             ]
            ],
            "type": "contour"
           }
          ],
          "contourcarpet": [
           {
            "colorbar": {
             "outlinewidth": 0,
             "ticks": ""
            },
            "type": "contourcarpet"
           }
          ],
          "heatmap": [
           {
            "colorbar": {
             "outlinewidth": 0,
             "ticks": ""
            },
            "colorscale": [
             [
              0,
              "#0d0887"
             ],
             [
              0.1111111111111111,
              "#46039f"
             ],
             [
              0.2222222222222222,
              "#7201a8"
             ],
             [
              0.3333333333333333,
              "#9c179e"
             ],
             [
              0.4444444444444444,
              "#bd3786"
             ],
             [
              0.5555555555555556,
              "#d8576b"
             ],
             [
              0.6666666666666666,
              "#ed7953"
             ],
             [
              0.7777777777777778,
              "#fb9f3a"
             ],
             [
              0.8888888888888888,
              "#fdca26"
             ],
             [
              1,
              "#f0f921"
             ]
            ],
            "type": "heatmap"
           }
          ],
          "heatmapgl": [
           {
            "colorbar": {
             "outlinewidth": 0,
             "ticks": ""
            },
            "colorscale": [
             [
              0,
              "#0d0887"
             ],
             [
              0.1111111111111111,
              "#46039f"
             ],
             [
              0.2222222222222222,
              "#7201a8"
             ],
             [
              0.3333333333333333,
              "#9c179e"
             ],
             [
              0.4444444444444444,
              "#bd3786"
             ],
             [
              0.5555555555555556,
              "#d8576b"
             ],
             [
              0.6666666666666666,
              "#ed7953"
             ],
             [
              0.7777777777777778,
              "#fb9f3a"
             ],
             [
              0.8888888888888888,
              "#fdca26"
             ],
             [
              1,
              "#f0f921"
             ]
            ],
            "type": "heatmapgl"
           }
          ],
          "histogram": [
           {
            "marker": {
             "pattern": {
              "fillmode": "overlay",
              "size": 10,
              "solidity": 0.2
             }
            },
            "type": "histogram"
           }
          ],
          "histogram2d": [
           {
            "colorbar": {
             "outlinewidth": 0,
             "ticks": ""
            },
            "colorscale": [
             [
              0,
              "#0d0887"
             ],
             [
              0.1111111111111111,
              "#46039f"
             ],
             [
              0.2222222222222222,
              "#7201a8"
             ],
             [
              0.3333333333333333,
              "#9c179e"
             ],
             [
              0.4444444444444444,
              "#bd3786"
             ],
             [
              0.5555555555555556,
              "#d8576b"
             ],
             [
              0.6666666666666666,
              "#ed7953"
             ],
             [
              0.7777777777777778,
              "#fb9f3a"
             ],
             [
              0.8888888888888888,
              "#fdca26"
             ],
             [
              1,
              "#f0f921"
             ]
            ],
            "type": "histogram2d"
           }
          ],
          "histogram2dcontour": [
           {
            "colorbar": {
             "outlinewidth": 0,
             "ticks": ""
            },
            "colorscale": [
             [
              0,
              "#0d0887"
             ],
             [
              0.1111111111111111,
              "#46039f"
             ],
             [
              0.2222222222222222,
              "#7201a8"
             ],
             [
              0.3333333333333333,
              "#9c179e"
             ],
             [
              0.4444444444444444,
              "#bd3786"
             ],
             [
              0.5555555555555556,
              "#d8576b"
             ],
             [
              0.6666666666666666,
              "#ed7953"
             ],
             [
              0.7777777777777778,
              "#fb9f3a"
             ],
             [
              0.8888888888888888,
              "#fdca26"
             ],
             [
              1,
              "#f0f921"
             ]
            ],
            "type": "histogram2dcontour"
           }
          ],
          "mesh3d": [
           {
            "colorbar": {
             "outlinewidth": 0,
             "ticks": ""
            },
            "type": "mesh3d"
           }
          ],
          "parcoords": [
           {
            "line": {
             "colorbar": {
              "outlinewidth": 0,
              "ticks": ""
             }
            },
            "type": "parcoords"
           }
          ],
          "pie": [
           {
            "automargin": true,
            "type": "pie"
           }
          ],
          "scatter": [
           {
            "fillpattern": {
             "fillmode": "overlay",
             "size": 10,
             "solidity": 0.2
            },
            "type": "scatter"
           }
          ],
          "scatter3d": [
           {
            "line": {
             "colorbar": {
              "outlinewidth": 0,
              "ticks": ""
             }
            },
            "marker": {
             "colorbar": {
              "outlinewidth": 0,
              "ticks": ""
             }
            },
            "type": "scatter3d"
           }
          ],
          "scattercarpet": [
           {
            "marker": {
             "colorbar": {
              "outlinewidth": 0,
              "ticks": ""
             }
            },
            "type": "scattercarpet"
           }
          ],
          "scattergeo": [
           {
            "marker": {
             "colorbar": {
              "outlinewidth": 0,
              "ticks": ""
             }
            },
            "type": "scattergeo"
           }
          ],
          "scattergl": [
           {
            "marker": {
             "colorbar": {
              "outlinewidth": 0,
              "ticks": ""
             }
            },
            "type": "scattergl"
           }
          ],
          "scattermapbox": [
           {
            "marker": {
             "colorbar": {
              "outlinewidth": 0,
              "ticks": ""
             }
            },
            "type": "scattermapbox"
           }
          ],
          "scatterpolar": [
           {
            "marker": {
             "colorbar": {
              "outlinewidth": 0,
              "ticks": ""
             }
            },
            "type": "scatterpolar"
           }
          ],
          "scatterpolargl": [
           {
            "marker": {
             "colorbar": {
              "outlinewidth": 0,
              "ticks": ""
             }
            },
            "type": "scatterpolargl"
           }
          ],
          "scatterternary": [
           {
            "marker": {
             "colorbar": {
              "outlinewidth": 0,
              "ticks": ""
             }
            },
            "type": "scatterternary"
           }
          ],
          "surface": [
           {
            "colorbar": {
             "outlinewidth": 0,
             "ticks": ""
            },
            "colorscale": [
             [
              0,
              "#0d0887"
             ],
             [
              0.1111111111111111,
              "#46039f"
             ],
             [
              0.2222222222222222,
              "#7201a8"
             ],
             [
              0.3333333333333333,
              "#9c179e"
             ],
             [
              0.4444444444444444,
              "#bd3786"
             ],
             [
              0.5555555555555556,
              "#d8576b"
             ],
             [
              0.6666666666666666,
              "#ed7953"
             ],
             [
              0.7777777777777778,
              "#fb9f3a"
             ],
             [
              0.8888888888888888,
              "#fdca26"
             ],
             [
              1,
              "#f0f921"
             ]
            ],
            "type": "surface"
           }
          ],
          "table": [
           {
            "cells": {
             "fill": {
              "color": "#EBF0F8"
             },
             "line": {
              "color": "white"
             }
            },
            "header": {
             "fill": {
              "color": "#C8D4E3"
             },
             "line": {
              "color": "white"
             }
            },
            "type": "table"
           }
          ]
         },
         "layout": {
          "annotationdefaults": {
           "arrowcolor": "#2a3f5f",
           "arrowhead": 0,
           "arrowwidth": 1
          },
          "autotypenumbers": "strict",
          "coloraxis": {
           "colorbar": {
            "outlinewidth": 0,
            "ticks": ""
           }
          },
          "colorscale": {
           "diverging": [
            [
             0,
             "#8e0152"
            ],
            [
             0.1,
             "#c51b7d"
            ],
            [
             0.2,
             "#de77ae"
            ],
            [
             0.3,
             "#f1b6da"
            ],
            [
             0.4,
             "#fde0ef"
            ],
            [
             0.5,
             "#f7f7f7"
            ],
            [
             0.6,
             "#e6f5d0"
            ],
            [
             0.7,
             "#b8e186"
            ],
            [
             0.8,
             "#7fbc41"
            ],
            [
             0.9,
             "#4d9221"
            ],
            [
             1,
             "#276419"
            ]
           ],
           "sequential": [
            [
             0,
             "#0d0887"
            ],
            [
             0.1111111111111111,
             "#46039f"
            ],
            [
             0.2222222222222222,
             "#7201a8"
            ],
            [
             0.3333333333333333,
             "#9c179e"
            ],
            [
             0.4444444444444444,
             "#bd3786"
            ],
            [
             0.5555555555555556,
             "#d8576b"
            ],
            [
             0.6666666666666666,
             "#ed7953"
            ],
            [
             0.7777777777777778,
             "#fb9f3a"
            ],
            [
             0.8888888888888888,
             "#fdca26"
            ],
            [
             1,
             "#f0f921"
            ]
           ],
           "sequentialminus": [
            [
             0,
             "#0d0887"
            ],
            [
             0.1111111111111111,
             "#46039f"
            ],
            [
             0.2222222222222222,
             "#7201a8"
            ],
            [
             0.3333333333333333,
             "#9c179e"
            ],
            [
             0.4444444444444444,
             "#bd3786"
            ],
            [
             0.5555555555555556,
             "#d8576b"
            ],
            [
             0.6666666666666666,
             "#ed7953"
            ],
            [
             0.7777777777777778,
             "#fb9f3a"
            ],
            [
             0.8888888888888888,
             "#fdca26"
            ],
            [
             1,
             "#f0f921"
            ]
           ]
          },
          "colorway": [
           "#636efa",
           "#EF553B",
           "#00cc96",
           "#ab63fa",
           "#FFA15A",
           "#19d3f3",
           "#FF6692",
           "#B6E880",
           "#FF97FF",
           "#FECB52"
          ],
          "font": {
           "color": "#2a3f5f"
          },
          "geo": {
           "bgcolor": "white",
           "lakecolor": "white",
           "landcolor": "#E5ECF6",
           "showlakes": true,
           "showland": true,
           "subunitcolor": "white"
          },
          "hoverlabel": {
           "align": "left"
          },
          "hovermode": "closest",
          "mapbox": {
           "style": "light"
          },
          "paper_bgcolor": "white",
          "plot_bgcolor": "#E5ECF6",
          "polar": {
           "angularaxis": {
            "gridcolor": "white",
            "linecolor": "white",
            "ticks": ""
           },
           "bgcolor": "#E5ECF6",
           "radialaxis": {
            "gridcolor": "white",
            "linecolor": "white",
            "ticks": ""
           }
          },
          "scene": {
           "xaxis": {
            "backgroundcolor": "#E5ECF6",
            "gridcolor": "white",
            "gridwidth": 2,
            "linecolor": "white",
            "showbackground": true,
            "ticks": "",
            "zerolinecolor": "white"
           },
           "yaxis": {
            "backgroundcolor": "#E5ECF6",
            "gridcolor": "white",
            "gridwidth": 2,
            "linecolor": "white",
            "showbackground": true,
            "ticks": "",
            "zerolinecolor": "white"
           },
           "zaxis": {
            "backgroundcolor": "#E5ECF6",
            "gridcolor": "white",
            "gridwidth": 2,
            "linecolor": "white",
            "showbackground": true,
            "ticks": "",
            "zerolinecolor": "white"
           }
          },
          "shapedefaults": {
           "line": {
            "color": "#2a3f5f"
           }
          },
          "ternary": {
           "aaxis": {
            "gridcolor": "white",
            "linecolor": "white",
            "ticks": ""
           },
           "baxis": {
            "gridcolor": "white",
            "linecolor": "white",
            "ticks": ""
           },
           "bgcolor": "#E5ECF6",
           "caxis": {
            "gridcolor": "white",
            "linecolor": "white",
            "ticks": ""
           }
          },
          "title": {
           "x": 0.05
          },
          "xaxis": {
           "automargin": true,
           "gridcolor": "white",
           "linecolor": "white",
           "ticks": "",
           "title": {
            "standoff": 15
           },
           "zerolinecolor": "white",
           "zerolinewidth": 2
          },
          "yaxis": {
           "automargin": true,
           "gridcolor": "white",
           "linecolor": "white",
           "ticks": "",
           "title": {
            "standoff": 15
           },
           "zerolinecolor": "white",
           "zerolinewidth": 2
          }
         }
        },
        "title": {
         "text": "Metrics Table for Guerneville",
         "x": 0.5
        },
        "width": 1200
       }
      }
     },
     "metadata": {},
     "output_type": "display_data"
    }
   ],
   "source": [
    "guerneville_table = create_metrics_table(guerneville_metrics_df, \"Metrics Table for Guerneville\")\n",
    "guerneville_table.show()"
   ]
  },
  {
   "cell_type": "code",
   "execution_count": 61,
   "metadata": {},
   "outputs": [
    {
     "data": {
      "text/html": [
       "<div>\n",
       "<style scoped>\n",
       "    .dataframe tbody tr th:only-of-type {\n",
       "        vertical-align: middle;\n",
       "    }\n",
       "\n",
       "    .dataframe tbody tr th {\n",
       "        vertical-align: top;\n",
       "    }\n",
       "\n",
       "    .dataframe thead th {\n",
       "        text-align: right;\n",
       "    }\n",
       "</style>\n",
       "<table border=\"1\" class=\"dataframe\">\n",
       "  <thead>\n",
       "    <tr style=\"text-align: right;\">\n",
       "      <th></th>\n",
       "      <th>Unnamed: 0</th>\n",
       "      <th>HMS</th>\n",
       "      <th>LSTM</th>\n",
       "      <th>Physics_Informed_LSTM</th>\n",
       "    </tr>\n",
       "  </thead>\n",
       "  <tbody>\n",
       "    <tr>\n",
       "      <th>0</th>\n",
       "      <td>NSE</td>\n",
       "      <td>0.795537</td>\n",
       "      <td>0.723541</td>\n",
       "      <td>0.753028</td>\n",
       "    </tr>\n",
       "    <tr>\n",
       "      <th>1</th>\n",
       "      <td>MSE</td>\n",
       "      <td>404943.189982</td>\n",
       "      <td>547532.777360</td>\n",
       "      <td>489132.717098</td>\n",
       "    </tr>\n",
       "    <tr>\n",
       "      <th>2</th>\n",
       "      <td>RMSE</td>\n",
       "      <td>636.351467</td>\n",
       "      <td>739.954578</td>\n",
       "      <td>699.380238</td>\n",
       "    </tr>\n",
       "    <tr>\n",
       "      <th>3</th>\n",
       "      <td>KGE</td>\n",
       "      <td>0.728365</td>\n",
       "      <td>0.712020</td>\n",
       "      <td>0.759963</td>\n",
       "    </tr>\n",
       "    <tr>\n",
       "      <th>4</th>\n",
       "      <td>Alpha-NSE</td>\n",
       "      <td>1.186275</td>\n",
       "      <td>0.777365</td>\n",
       "      <td>0.841604</td>\n",
       "    </tr>\n",
       "    <tr>\n",
       "      <th>5</th>\n",
       "      <td>Beta-KGE</td>\n",
       "      <td>1.185323</td>\n",
       "      <td>1.111813</td>\n",
       "      <td>1.124909</td>\n",
       "    </tr>\n",
       "    <tr>\n",
       "      <th>6</th>\n",
       "      <td>Beta-NSE</td>\n",
       "      <td>0.079849</td>\n",
       "      <td>0.048176</td>\n",
       "      <td>0.053819</td>\n",
       "    </tr>\n",
       "    <tr>\n",
       "      <th>7</th>\n",
       "      <td>Pearson-r</td>\n",
       "      <td>0.931134</td>\n",
       "      <td>0.855556</td>\n",
       "      <td>0.869899</td>\n",
       "    </tr>\n",
       "    <tr>\n",
       "      <th>8</th>\n",
       "      <td>FHV</td>\n",
       "      <td>23.945896</td>\n",
       "      <td>-20.731369</td>\n",
       "      <td>-14.677648</td>\n",
       "    </tr>\n",
       "    <tr>\n",
       "      <th>9</th>\n",
       "      <td>FMS</td>\n",
       "      <td>32.032020</td>\n",
       "      <td>18.998075</td>\n",
       "      <td>46.100325</td>\n",
       "    </tr>\n",
       "    <tr>\n",
       "      <th>10</th>\n",
       "      <td>FLV</td>\n",
       "      <td>96.362785</td>\n",
       "      <td>0.018183</td>\n",
       "      <td>0.292430</td>\n",
       "    </tr>\n",
       "    <tr>\n",
       "      <th>11</th>\n",
       "      <td>Peak-Timing</td>\n",
       "      <td>0.250000</td>\n",
       "      <td>0.250000</td>\n",
       "      <td>0.250000</td>\n",
       "    </tr>\n",
       "    <tr>\n",
       "      <th>12</th>\n",
       "      <td>Peak-MAPE</td>\n",
       "      <td>36.378148</td>\n",
       "      <td>37.008796</td>\n",
       "      <td>30.467196</td>\n",
       "    </tr>\n",
       "  </tbody>\n",
       "</table>\n",
       "</div>"
      ],
      "text/plain": [
       "     Unnamed: 0            HMS           LSTM  Physics_Informed_LSTM\n",
       "0           NSE       0.795537       0.723541               0.753028\n",
       "1           MSE  404943.189982  547532.777360          489132.717098\n",
       "2          RMSE     636.351467     739.954578             699.380238\n",
       "3           KGE       0.728365       0.712020               0.759963\n",
       "4     Alpha-NSE       1.186275       0.777365               0.841604\n",
       "5      Beta-KGE       1.185323       1.111813               1.124909\n",
       "6      Beta-NSE       0.079849       0.048176               0.053819\n",
       "7     Pearson-r       0.931134       0.855556               0.869899\n",
       "8           FHV      23.945896     -20.731369             -14.677648\n",
       "9           FMS      32.032020      18.998075              46.100325\n",
       "10          FLV      96.362785       0.018183               0.292430\n",
       "11  Peak-Timing       0.250000       0.250000               0.250000\n",
       "12    Peak-MAPE      36.378148      37.008796              30.467196"
      ]
     },
     "execution_count": 61,
     "metadata": {},
     "output_type": "execute_result"
    }
   ],
   "source": [
    "hopland_metrics_df = pd.read_csv(\"hopland_all/hopland_metrics.csv\")\n",
    "hopland_metrics_df"
   ]
  },
  {
   "cell_type": "code",
   "execution_count": 79,
   "metadata": {},
   "outputs": [
    {
     "data": {
      "application/vnd.plotly.v1+json": {
       "config": {
        "plotlyServerURL": "https://plot.ly"
       },
       "data": [
        {
         "cells": {
          "align": "center",
          "fill": {
           "color": [
            [
             "#F9F9F9",
             "#FFFFFF",
             "#F9F9F9",
             "#FFFFFF",
             "#F9F9F9",
             "#FFFFFF",
             "#F9F9F9",
             "#FFFFFF",
             "#F9F9F9",
             "#FFFFFF",
             "#F9F9F9",
             "#FFFFFF",
             "#F9F9F9",
             "#F9F9F9",
             "#FFFFFF",
             "#F9F9F9",
             "#FFFFFF",
             "#F9F9F9",
             "#FFFFFF",
             "#F9F9F9",
             "#FFFFFF",
             "#F9F9F9",
             "#FFFFFF",
             "#F9F9F9",
             "#FFFFFF",
             "#F9F9F9",
             "#F9F9F9",
             "#FFFFFF",
             "#F9F9F9",
             "#FFFFFF",
             "#F9F9F9",
             "#FFFFFF",
             "#F9F9F9",
             "#FFFFFF",
             "#F9F9F9",
             "#FFFFFF",
             "#F9F9F9",
             "#FFFFFF",
             "#F9F9F9"
            ]
           ]
          },
          "font": {
           "color": "black",
           "size": 11
          },
          "format": [
           null,
           ".4f",
           ".4f",
           ".4f"
          ],
          "values": [
           [
            "NSE",
            "MSE",
            "RMSE",
            "KGE",
            "Alpha-NSE",
            "Beta-KGE",
            "Beta-NSE",
            "Pearson-r",
            "FHV",
            "FMS",
            "FLV",
            "Peak-Timing",
            "Peak-MAPE"
           ],
           [
            0.7955368627342703,
            404943.18998214416,
            636.3514673371502,
            0.728364647071309,
            1.1862754570999934,
            1.1853231094266616,
            0.0798488702249963,
            0.9311337226553036,
            23.945895685790628,
            32.032020395818776,
            96.36278473031744,
            0.25,
            36.37814802761963
           ],
           [
            0.7235408023040542,
            547532.777360277,
            739.9545779034528,
            0.7120195344475317,
            0.7773646095392746,
            1.111812693977802,
            0.0481759523599719,
            0.8555557099790957,
            -20.731368753887867,
            18.99807456353016,
            0.0181826597567892,
            0.25,
            37.00879617321385
           ],
           [
            0.7530280484982814,
            489132.7170982621,
            699.3802378522445,
            0.7599634477241853,
            0.8416044087235068,
            1.1249089174981146,
            0.053818630467123,
            0.8698994795472392,
            -14.677648057166945,
            46.100324936082046,
            0.2924298559453843,
            0.25,
            30.467195915405703
           ]
          ]
         },
         "header": {
          "align": "center",
          "fill": {
           "color": "grey"
          },
          "font": {
           "color": "white",
           "size": 12
          },
          "values": [
           "<b>Metric</b>",
           "<b>HMS</b>",
           "<b>LSTM</b>",
           "<b>Physics_Informed_LSTM</b>"
          ]
         },
         "type": "table"
        }
       ],
       "layout": {
        "height": 600,
        "template": {
         "data": {
          "bar": [
           {
            "error_x": {
             "color": "#2a3f5f"
            },
            "error_y": {
             "color": "#2a3f5f"
            },
            "marker": {
             "line": {
              "color": "#E5ECF6",
              "width": 0.5
             },
             "pattern": {
              "fillmode": "overlay",
              "size": 10,
              "solidity": 0.2
             }
            },
            "type": "bar"
           }
          ],
          "barpolar": [
           {
            "marker": {
             "line": {
              "color": "#E5ECF6",
              "width": 0.5
             },
             "pattern": {
              "fillmode": "overlay",
              "size": 10,
              "solidity": 0.2
             }
            },
            "type": "barpolar"
           }
          ],
          "carpet": [
           {
            "aaxis": {
             "endlinecolor": "#2a3f5f",
             "gridcolor": "white",
             "linecolor": "white",
             "minorgridcolor": "white",
             "startlinecolor": "#2a3f5f"
            },
            "baxis": {
             "endlinecolor": "#2a3f5f",
             "gridcolor": "white",
             "linecolor": "white",
             "minorgridcolor": "white",
             "startlinecolor": "#2a3f5f"
            },
            "type": "carpet"
           }
          ],
          "choropleth": [
           {
            "colorbar": {
             "outlinewidth": 0,
             "ticks": ""
            },
            "type": "choropleth"
           }
          ],
          "contour": [
           {
            "colorbar": {
             "outlinewidth": 0,
             "ticks": ""
            },
            "colorscale": [
             [
              0,
              "#0d0887"
             ],
             [
              0.1111111111111111,
              "#46039f"
             ],
             [
              0.2222222222222222,
              "#7201a8"
             ],
             [
              0.3333333333333333,
              "#9c179e"
             ],
             [
              0.4444444444444444,
              "#bd3786"
             ],
             [
              0.5555555555555556,
              "#d8576b"
             ],
             [
              0.6666666666666666,
              "#ed7953"
             ],
             [
              0.7777777777777778,
              "#fb9f3a"
             ],
             [
              0.8888888888888888,
              "#fdca26"
             ],
             [
              1,
              "#f0f921"
             ]
            ],
            "type": "contour"
           }
          ],
          "contourcarpet": [
           {
            "colorbar": {
             "outlinewidth": 0,
             "ticks": ""
            },
            "type": "contourcarpet"
           }
          ],
          "heatmap": [
           {
            "colorbar": {
             "outlinewidth": 0,
             "ticks": ""
            },
            "colorscale": [
             [
              0,
              "#0d0887"
             ],
             [
              0.1111111111111111,
              "#46039f"
             ],
             [
              0.2222222222222222,
              "#7201a8"
             ],
             [
              0.3333333333333333,
              "#9c179e"
             ],
             [
              0.4444444444444444,
              "#bd3786"
             ],
             [
              0.5555555555555556,
              "#d8576b"
             ],
             [
              0.6666666666666666,
              "#ed7953"
             ],
             [
              0.7777777777777778,
              "#fb9f3a"
             ],
             [
              0.8888888888888888,
              "#fdca26"
             ],
             [
              1,
              "#f0f921"
             ]
            ],
            "type": "heatmap"
           }
          ],
          "heatmapgl": [
           {
            "colorbar": {
             "outlinewidth": 0,
             "ticks": ""
            },
            "colorscale": [
             [
              0,
              "#0d0887"
             ],
             [
              0.1111111111111111,
              "#46039f"
             ],
             [
              0.2222222222222222,
              "#7201a8"
             ],
             [
              0.3333333333333333,
              "#9c179e"
             ],
             [
              0.4444444444444444,
              "#bd3786"
             ],
             [
              0.5555555555555556,
              "#d8576b"
             ],
             [
              0.6666666666666666,
              "#ed7953"
             ],
             [
              0.7777777777777778,
              "#fb9f3a"
             ],
             [
              0.8888888888888888,
              "#fdca26"
             ],
             [
              1,
              "#f0f921"
             ]
            ],
            "type": "heatmapgl"
           }
          ],
          "histogram": [
           {
            "marker": {
             "pattern": {
              "fillmode": "overlay",
              "size": 10,
              "solidity": 0.2
             }
            },
            "type": "histogram"
           }
          ],
          "histogram2d": [
           {
            "colorbar": {
             "outlinewidth": 0,
             "ticks": ""
            },
            "colorscale": [
             [
              0,
              "#0d0887"
             ],
             [
              0.1111111111111111,
              "#46039f"
             ],
             [
              0.2222222222222222,
              "#7201a8"
             ],
             [
              0.3333333333333333,
              "#9c179e"
             ],
             [
              0.4444444444444444,
              "#bd3786"
             ],
             [
              0.5555555555555556,
              "#d8576b"
             ],
             [
              0.6666666666666666,
              "#ed7953"
             ],
             [
              0.7777777777777778,
              "#fb9f3a"
             ],
             [
              0.8888888888888888,
              "#fdca26"
             ],
             [
              1,
              "#f0f921"
             ]
            ],
            "type": "histogram2d"
           }
          ],
          "histogram2dcontour": [
           {
            "colorbar": {
             "outlinewidth": 0,
             "ticks": ""
            },
            "colorscale": [
             [
              0,
              "#0d0887"
             ],
             [
              0.1111111111111111,
              "#46039f"
             ],
             [
              0.2222222222222222,
              "#7201a8"
             ],
             [
              0.3333333333333333,
              "#9c179e"
             ],
             [
              0.4444444444444444,
              "#bd3786"
             ],
             [
              0.5555555555555556,
              "#d8576b"
             ],
             [
              0.6666666666666666,
              "#ed7953"
             ],
             [
              0.7777777777777778,
              "#fb9f3a"
             ],
             [
              0.8888888888888888,
              "#fdca26"
             ],
             [
              1,
              "#f0f921"
             ]
            ],
            "type": "histogram2dcontour"
           }
          ],
          "mesh3d": [
           {
            "colorbar": {
             "outlinewidth": 0,
             "ticks": ""
            },
            "type": "mesh3d"
           }
          ],
          "parcoords": [
           {
            "line": {
             "colorbar": {
              "outlinewidth": 0,
              "ticks": ""
             }
            },
            "type": "parcoords"
           }
          ],
          "pie": [
           {
            "automargin": true,
            "type": "pie"
           }
          ],
          "scatter": [
           {
            "fillpattern": {
             "fillmode": "overlay",
             "size": 10,
             "solidity": 0.2
            },
            "type": "scatter"
           }
          ],
          "scatter3d": [
           {
            "line": {
             "colorbar": {
              "outlinewidth": 0,
              "ticks": ""
             }
            },
            "marker": {
             "colorbar": {
              "outlinewidth": 0,
              "ticks": ""
             }
            },
            "type": "scatter3d"
           }
          ],
          "scattercarpet": [
           {
            "marker": {
             "colorbar": {
              "outlinewidth": 0,
              "ticks": ""
             }
            },
            "type": "scattercarpet"
           }
          ],
          "scattergeo": [
           {
            "marker": {
             "colorbar": {
              "outlinewidth": 0,
              "ticks": ""
             }
            },
            "type": "scattergeo"
           }
          ],
          "scattergl": [
           {
            "marker": {
             "colorbar": {
              "outlinewidth": 0,
              "ticks": ""
             }
            },
            "type": "scattergl"
           }
          ],
          "scattermapbox": [
           {
            "marker": {
             "colorbar": {
              "outlinewidth": 0,
              "ticks": ""
             }
            },
            "type": "scattermapbox"
           }
          ],
          "scatterpolar": [
           {
            "marker": {
             "colorbar": {
              "outlinewidth": 0,
              "ticks": ""
             }
            },
            "type": "scatterpolar"
           }
          ],
          "scatterpolargl": [
           {
            "marker": {
             "colorbar": {
              "outlinewidth": 0,
              "ticks": ""
             }
            },
            "type": "scatterpolargl"
           }
          ],
          "scatterternary": [
           {
            "marker": {
             "colorbar": {
              "outlinewidth": 0,
              "ticks": ""
             }
            },
            "type": "scatterternary"
           }
          ],
          "surface": [
           {
            "colorbar": {
             "outlinewidth": 0,
             "ticks": ""
            },
            "colorscale": [
             [
              0,
              "#0d0887"
             ],
             [
              0.1111111111111111,
              "#46039f"
             ],
             [
              0.2222222222222222,
              "#7201a8"
             ],
             [
              0.3333333333333333,
              "#9c179e"
             ],
             [
              0.4444444444444444,
              "#bd3786"
             ],
             [
              0.5555555555555556,
              "#d8576b"
             ],
             [
              0.6666666666666666,
              "#ed7953"
             ],
             [
              0.7777777777777778,
              "#fb9f3a"
             ],
             [
              0.8888888888888888,
              "#fdca26"
             ],
             [
              1,
              "#f0f921"
             ]
            ],
            "type": "surface"
           }
          ],
          "table": [
           {
            "cells": {
             "fill": {
              "color": "#EBF0F8"
             },
             "line": {
              "color": "white"
             }
            },
            "header": {
             "fill": {
              "color": "#C8D4E3"
             },
             "line": {
              "color": "white"
             }
            },
            "type": "table"
           }
          ]
         },
         "layout": {
          "annotationdefaults": {
           "arrowcolor": "#2a3f5f",
           "arrowhead": 0,
           "arrowwidth": 1
          },
          "autotypenumbers": "strict",
          "coloraxis": {
           "colorbar": {
            "outlinewidth": 0,
            "ticks": ""
           }
          },
          "colorscale": {
           "diverging": [
            [
             0,
             "#8e0152"
            ],
            [
             0.1,
             "#c51b7d"
            ],
            [
             0.2,
             "#de77ae"
            ],
            [
             0.3,
             "#f1b6da"
            ],
            [
             0.4,
             "#fde0ef"
            ],
            [
             0.5,
             "#f7f7f7"
            ],
            [
             0.6,
             "#e6f5d0"
            ],
            [
             0.7,
             "#b8e186"
            ],
            [
             0.8,
             "#7fbc41"
            ],
            [
             0.9,
             "#4d9221"
            ],
            [
             1,
             "#276419"
            ]
           ],
           "sequential": [
            [
             0,
             "#0d0887"
            ],
            [
             0.1111111111111111,
             "#46039f"
            ],
            [
             0.2222222222222222,
             "#7201a8"
            ],
            [
             0.3333333333333333,
             "#9c179e"
            ],
            [
             0.4444444444444444,
             "#bd3786"
            ],
            [
             0.5555555555555556,
             "#d8576b"
            ],
            [
             0.6666666666666666,
             "#ed7953"
            ],
            [
             0.7777777777777778,
             "#fb9f3a"
            ],
            [
             0.8888888888888888,
             "#fdca26"
            ],
            [
             1,
             "#f0f921"
            ]
           ],
           "sequentialminus": [
            [
             0,
             "#0d0887"
            ],
            [
             0.1111111111111111,
             "#46039f"
            ],
            [
             0.2222222222222222,
             "#7201a8"
            ],
            [
             0.3333333333333333,
             "#9c179e"
            ],
            [
             0.4444444444444444,
             "#bd3786"
            ],
            [
             0.5555555555555556,
             "#d8576b"
            ],
            [
             0.6666666666666666,
             "#ed7953"
            ],
            [
             0.7777777777777778,
             "#fb9f3a"
            ],
            [
             0.8888888888888888,
             "#fdca26"
            ],
            [
             1,
             "#f0f921"
            ]
           ]
          },
          "colorway": [
           "#636efa",
           "#EF553B",
           "#00cc96",
           "#ab63fa",
           "#FFA15A",
           "#19d3f3",
           "#FF6692",
           "#B6E880",
           "#FF97FF",
           "#FECB52"
          ],
          "font": {
           "color": "#2a3f5f"
          },
          "geo": {
           "bgcolor": "white",
           "lakecolor": "white",
           "landcolor": "#E5ECF6",
           "showlakes": true,
           "showland": true,
           "subunitcolor": "white"
          },
          "hoverlabel": {
           "align": "left"
          },
          "hovermode": "closest",
          "mapbox": {
           "style": "light"
          },
          "paper_bgcolor": "white",
          "plot_bgcolor": "#E5ECF6",
          "polar": {
           "angularaxis": {
            "gridcolor": "white",
            "linecolor": "white",
            "ticks": ""
           },
           "bgcolor": "#E5ECF6",
           "radialaxis": {
            "gridcolor": "white",
            "linecolor": "white",
            "ticks": ""
           }
          },
          "scene": {
           "xaxis": {
            "backgroundcolor": "#E5ECF6",
            "gridcolor": "white",
            "gridwidth": 2,
            "linecolor": "white",
            "showbackground": true,
            "ticks": "",
            "zerolinecolor": "white"
           },
           "yaxis": {
            "backgroundcolor": "#E5ECF6",
            "gridcolor": "white",
            "gridwidth": 2,
            "linecolor": "white",
            "showbackground": true,
            "ticks": "",
            "zerolinecolor": "white"
           },
           "zaxis": {
            "backgroundcolor": "#E5ECF6",
            "gridcolor": "white",
            "gridwidth": 2,
            "linecolor": "white",
            "showbackground": true,
            "ticks": "",
            "zerolinecolor": "white"
           }
          },
          "shapedefaults": {
           "line": {
            "color": "#2a3f5f"
           }
          },
          "ternary": {
           "aaxis": {
            "gridcolor": "white",
            "linecolor": "white",
            "ticks": ""
           },
           "baxis": {
            "gridcolor": "white",
            "linecolor": "white",
            "ticks": ""
           },
           "bgcolor": "#E5ECF6",
           "caxis": {
            "gridcolor": "white",
            "linecolor": "white",
            "ticks": ""
           }
          },
          "title": {
           "x": 0.05
          },
          "xaxis": {
           "automargin": true,
           "gridcolor": "white",
           "linecolor": "white",
           "ticks": "",
           "title": {
            "standoff": 15
           },
           "zerolinecolor": "white",
           "zerolinewidth": 2
          },
          "yaxis": {
           "automargin": true,
           "gridcolor": "white",
           "linecolor": "white",
           "ticks": "",
           "title": {
            "standoff": 15
           },
           "zerolinecolor": "white",
           "zerolinewidth": 2
          }
         }
        },
        "title": {
         "text": "Metrics Table for Hopland",
         "x": 0.5
        },
        "width": 1200
       }
      }
     },
     "metadata": {},
     "output_type": "display_data"
    }
   ],
   "source": [
    "hopland_table = create_metrics_table(hopland_metrics_df, \"Metrics Table for Hopland\")\n",
    "hopland_table.show()"
   ]
  },
  {
   "cell_type": "code",
   "execution_count": 55,
   "metadata": {},
   "outputs": [],
   "source": [
    "# Add basin names to columns to create hierarchical column structure\n",
    "calpella_metrics_df.columns = pd.MultiIndex.from_product([[\"Calpella\"], calpella_metrics_df.columns])\n",
    "warm_springs_metrics_df.columns = pd.MultiIndex.from_product([[\"Warm Springs\"], warm_springs_metrics_df.columns])\n",
    "guerneville_metrics_df.columns = pd.MultiIndex.from_product([[\"Guerneville\"], guerneville_metrics_df.columns])\n",
    "hopland_metrics_df.columns = pd.MultiIndex.from_product([[\"Hopland\"], hopland_metrics_df.columns])\n",
    "\n",
    "# Combine all the metrics into one DataFrame\n",
    "combined_metrics_df = pd.concat(\n",
    "    [hopland_metrics_df, guerneville_metrics_df, warm_springs_metrics_df, calpella_metrics_df], axis=1\n",
    ")\n",
    "combined_metrics_df\n",
    "output_csv_path = \"all_metrics.csv\"\n",
    "combined_metrics_df.to_csv(output_csv_path)"
   ]
  },
  {
   "cell_type": "code",
   "execution_count": null,
   "metadata": {},
   "outputs": [
    {
     "data": {
      "text/html": [
       "<style type=\"text/css\">\n",
       "#T_da29c thead th {\n",
       "  background-color: #D3D3D3;\n",
       "  color: black;\n",
       "  font-weight: bold;\n",
       "}\n",
       "#T_da29c tbody td {\n",
       "  text-align: center;\n",
       "}\n",
       "</style>\n",
       "<table id=\"T_da29c\">\n",
       "  <caption>Metrics Table for All Basins and Models</caption>\n",
       "  <thead>\n",
       "    <tr>\n",
       "      <th class=\"blank level0\" >&nbsp;</th>\n",
       "      <th id=\"T_da29c_level0_col0\" class=\"col_heading level0 col0\" colspan=\"3\">Hopland</th>\n",
       "      <th id=\"T_da29c_level0_col3\" class=\"col_heading level0 col3\" colspan=\"3\">Guerneville</th>\n",
       "      <th id=\"T_da29c_level0_col6\" class=\"col_heading level0 col6\" colspan=\"3\">Warm Springs</th>\n",
       "      <th id=\"T_da29c_level0_col9\" class=\"col_heading level0 col9\" colspan=\"3\">Calpella</th>\n",
       "    </tr>\n",
       "    <tr>\n",
       "      <th class=\"blank level1\" >&nbsp;</th>\n",
       "      <th id=\"T_da29c_level1_col0\" class=\"col_heading level1 col0\" >HMS</th>\n",
       "      <th id=\"T_da29c_level1_col1\" class=\"col_heading level1 col1\" >LSTM</th>\n",
       "      <th id=\"T_da29c_level1_col2\" class=\"col_heading level1 col2\" >Physics_Informed_LSTM</th>\n",
       "      <th id=\"T_da29c_level1_col3\" class=\"col_heading level1 col3\" >HMS</th>\n",
       "      <th id=\"T_da29c_level1_col4\" class=\"col_heading level1 col4\" >LSTM</th>\n",
       "      <th id=\"T_da29c_level1_col5\" class=\"col_heading level1 col5\" >Physics_Informed_LSTM</th>\n",
       "      <th id=\"T_da29c_level1_col6\" class=\"col_heading level1 col6\" >HMS</th>\n",
       "      <th id=\"T_da29c_level1_col7\" class=\"col_heading level1 col7\" >LSTM</th>\n",
       "      <th id=\"T_da29c_level1_col8\" class=\"col_heading level1 col8\" >Physics_Informed_LSTM</th>\n",
       "      <th id=\"T_da29c_level1_col9\" class=\"col_heading level1 col9\" >HMS</th>\n",
       "      <th id=\"T_da29c_level1_col10\" class=\"col_heading level1 col10\" >LSTM</th>\n",
       "      <th id=\"T_da29c_level1_col11\" class=\"col_heading level1 col11\" >Physics_Informed_LSTM</th>\n",
       "    </tr>\n",
       "  </thead>\n",
       "  <tbody>\n",
       "    <tr>\n",
       "      <th id=\"T_da29c_level0_row0\" class=\"row_heading level0 row0\" >NSE</th>\n",
       "      <td id=\"T_da29c_row0_col0\" class=\"data row0 col0\" >0.795537</td>\n",
       "      <td id=\"T_da29c_row0_col1\" class=\"data row0 col1\" >0.723541</td>\n",
       "      <td id=\"T_da29c_row0_col2\" class=\"data row0 col2\" >0.753028</td>\n",
       "      <td id=\"T_da29c_row0_col3\" class=\"data row0 col3\" >0.849915</td>\n",
       "      <td id=\"T_da29c_row0_col4\" class=\"data row0 col4\" >0.649488</td>\n",
       "      <td id=\"T_da29c_row0_col5\" class=\"data row0 col5\" >0.740997</td>\n",
       "      <td id=\"T_da29c_row0_col6\" class=\"data row0 col6\" >0.732378</td>\n",
       "      <td id=\"T_da29c_row0_col7\" class=\"data row0 col7\" >0.850322</td>\n",
       "      <td id=\"T_da29c_row0_col8\" class=\"data row0 col8\" >0.762767</td>\n",
       "      <td id=\"T_da29c_row0_col9\" class=\"data row0 col9\" >0.699186</td>\n",
       "      <td id=\"T_da29c_row0_col10\" class=\"data row0 col10\" >0.774333</td>\n",
       "      <td id=\"T_da29c_row0_col11\" class=\"data row0 col11\" >0.724424</td>\n",
       "    </tr>\n",
       "    <tr>\n",
       "      <th id=\"T_da29c_level0_row1\" class=\"row_heading level0 row1\" >MSE</th>\n",
       "      <td id=\"T_da29c_row1_col0\" class=\"data row1 col0\" >404943.189982</td>\n",
       "      <td id=\"T_da29c_row1_col1\" class=\"data row1 col1\" >547532.777360</td>\n",
       "      <td id=\"T_da29c_row1_col2\" class=\"data row1 col2\" >489132.717098</td>\n",
       "      <td id=\"T_da29c_row1_col3\" class=\"data row1 col3\" >4623213.706820</td>\n",
       "      <td id=\"T_da29c_row1_col4\" class=\"data row1 col4\" >10797156.058241</td>\n",
       "      <td id=\"T_da29c_row1_col5\" class=\"data row1 col5\" >7978318.922003</td>\n",
       "      <td id=\"T_da29c_row1_col6\" class=\"data row1 col6\" >143219.109139</td>\n",
       "      <td id=\"T_da29c_row1_col7\" class=\"data row1 col7\" >80100.972954</td>\n",
       "      <td id=\"T_da29c_row1_col8\" class=\"data row1 col8\" >126956.311357</td>\n",
       "      <td id=\"T_da29c_row1_col9\" class=\"data row1 col9\" >76611.326933</td>\n",
       "      <td id=\"T_da29c_row1_col10\" class=\"data row1 col10\" >57472.847658</td>\n",
       "      <td id=\"T_da29c_row1_col11\" class=\"data row1 col11\" >28870.322390</td>\n",
       "    </tr>\n",
       "    <tr>\n",
       "      <th id=\"T_da29c_level0_row2\" class=\"row_heading level0 row2\" >RMSE</th>\n",
       "      <td id=\"T_da29c_row2_col0\" class=\"data row2 col0\" >636.351467</td>\n",
       "      <td id=\"T_da29c_row2_col1\" class=\"data row2 col1\" >739.954578</td>\n",
       "      <td id=\"T_da29c_row2_col2\" class=\"data row2 col2\" >699.380238</td>\n",
       "      <td id=\"T_da29c_row2_col3\" class=\"data row2 col3\" >2150.165972</td>\n",
       "      <td id=\"T_da29c_row2_col4\" class=\"data row2 col4\" >3285.902625</td>\n",
       "      <td id=\"T_da29c_row2_col5\" class=\"data row2 col5\" >2824.591815</td>\n",
       "      <td id=\"T_da29c_row2_col6\" class=\"data row2 col6\" >378.443006</td>\n",
       "      <td id=\"T_da29c_row2_col7\" class=\"data row2 col7\" >283.021153</td>\n",
       "      <td id=\"T_da29c_row2_col8\" class=\"data row2 col8\" >356.309292</td>\n",
       "      <td id=\"T_da29c_row2_col9\" class=\"data row2 col9\" >276.787512</td>\n",
       "      <td id=\"T_da29c_row2_col10\" class=\"data row2 col10\" >239.734953</td>\n",
       "      <td id=\"T_da29c_row2_col11\" class=\"data row2 col11\" >169.912690</td>\n",
       "    </tr>\n",
       "    <tr>\n",
       "      <th id=\"T_da29c_level0_row3\" class=\"row_heading level0 row3\" >KGE</th>\n",
       "      <td id=\"T_da29c_row3_col0\" class=\"data row3 col0\" >0.728365</td>\n",
       "      <td id=\"T_da29c_row3_col1\" class=\"data row3 col1\" >0.712020</td>\n",
       "      <td id=\"T_da29c_row3_col2\" class=\"data row3 col2\" >0.759963</td>\n",
       "      <td id=\"T_da29c_row3_col3\" class=\"data row3 col3\" >0.843031</td>\n",
       "      <td id=\"T_da29c_row3_col4\" class=\"data row3 col4\" >0.653035</td>\n",
       "      <td id=\"T_da29c_row3_col5\" class=\"data row3 col5\" >0.723561</td>\n",
       "      <td id=\"T_da29c_row3_col6\" class=\"data row3 col6\" >0.791193</td>\n",
       "      <td id=\"T_da29c_row3_col7\" class=\"data row3 col7\" >0.875194</td>\n",
       "      <td id=\"T_da29c_row3_col8\" class=\"data row3 col8\" >0.739197</td>\n",
       "      <td id=\"T_da29c_row3_col9\" class=\"data row3 col9\" >0.746424</td>\n",
       "      <td id=\"T_da29c_row3_col10\" class=\"data row3 col10\" >0.675719</td>\n",
       "      <td id=\"T_da29c_row3_col11\" class=\"data row3 col11\" >0.808272</td>\n",
       "    </tr>\n",
       "    <tr>\n",
       "      <th id=\"T_da29c_level0_row4\" class=\"row_heading level0 row4\" >Alpha-NSE</th>\n",
       "      <td id=\"T_da29c_row4_col0\" class=\"data row4 col0\" >1.186275</td>\n",
       "      <td id=\"T_da29c_row4_col1\" class=\"data row4 col1\" >0.777365</td>\n",
       "      <td id=\"T_da29c_row4_col2\" class=\"data row4 col2\" >0.841604</td>\n",
       "      <td id=\"T_da29c_row4_col3\" class=\"data row4 col3\" >1.026757</td>\n",
       "      <td id=\"T_da29c_row4_col4\" class=\"data row4 col4\" >0.713796</td>\n",
       "      <td id=\"T_da29c_row4_col5\" class=\"data row4 col5\" >0.766550</td>\n",
       "      <td id=\"T_da29c_row4_col6\" class=\"data row4 col6\" >1.179502</td>\n",
       "      <td id=\"T_da29c_row4_col7\" class=\"data row4 col7\" >0.939637</td>\n",
       "      <td id=\"T_da29c_row4_col8\" class=\"data row4 col8\" >0.797347</td>\n",
       "      <td id=\"T_da29c_row4_col9\" class=\"data row4 col9\" >1.224704</td>\n",
       "      <td id=\"T_da29c_row4_col10\" class=\"data row4 col10\" >0.712526</td>\n",
       "      <td id=\"T_da29c_row4_col11\" class=\"data row4 col11\" >0.910376</td>\n",
       "    </tr>\n",
       "    <tr>\n",
       "      <th id=\"T_da29c_level0_row5\" class=\"row_heading level0 row5\" >Beta-KGE</th>\n",
       "      <td id=\"T_da29c_row5_col0\" class=\"data row5 col0\" >1.185323</td>\n",
       "      <td id=\"T_da29c_row5_col1\" class=\"data row5 col1\" >1.111813</td>\n",
       "      <td id=\"T_da29c_row5_col2\" class=\"data row5 col2\" >1.124909</td>\n",
       "      <td id=\"T_da29c_row5_col3\" class=\"data row5 col3\" >1.137092</td>\n",
       "      <td id=\"T_da29c_row5_col4\" class=\"data row5 col4\" >1.056343</td>\n",
       "      <td id=\"T_da29c_row5_col5\" class=\"data row5 col5\" >1.064927</td>\n",
       "      <td id=\"T_da29c_row5_col6\" class=\"data row5 col6\" >1.037973</td>\n",
       "      <td id=\"T_da29c_row5_col7\" class=\"data row5 col7\" >1.077303</td>\n",
       "      <td id=\"T_da29c_row5_col8\" class=\"data row5 col8\" >0.889880</td>\n",
       "      <td id=\"T_da29c_row5_col9\" class=\"data row5 col9\" >1.058859</td>\n",
       "      <td id=\"T_da29c_row5_col10\" class=\"data row5 col10\" >0.885681</td>\n",
       "      <td id=\"T_da29c_row5_col11\" class=\"data row5 col11\" >1.087094</td>\n",
       "    </tr>\n",
       "    <tr>\n",
       "      <th id=\"T_da29c_level0_row6\" class=\"row_heading level0 row6\" >Beta-NSE</th>\n",
       "      <td id=\"T_da29c_row6_col0\" class=\"data row6 col0\" >0.079849</td>\n",
       "      <td id=\"T_da29c_row6_col1\" class=\"data row6 col1\" >0.048176</td>\n",
       "      <td id=\"T_da29c_row6_col2\" class=\"data row6 col2\" >0.053819</td>\n",
       "      <td id=\"T_da29c_row6_col3\" class=\"data row6 col3\" >0.048004</td>\n",
       "      <td id=\"T_da29c_row6_col4\" class=\"data row6 col4\" >0.019729</td>\n",
       "      <td id=\"T_da29c_row6_col5\" class=\"data row6 col5\" >0.022735</td>\n",
       "      <td id=\"T_da29c_row6_col6\" class=\"data row6 col6\" >0.015443</td>\n",
       "      <td id=\"T_da29c_row6_col7\" class=\"data row6 col7\" >0.031438</td>\n",
       "      <td id=\"T_da29c_row6_col8\" class=\"data row6 col8\" >-0.044784</td>\n",
       "      <td id=\"T_da29c_row6_col9\" class=\"data row6 col9\" >0.034577</td>\n",
       "      <td id=\"T_da29c_row6_col10\" class=\"data row6 col10\" >-0.067157</td>\n",
       "      <td id=\"T_da29c_row6_col11\" class=\"data row6 col11\" >0.052941</td>\n",
       "    </tr>\n",
       "    <tr>\n",
       "      <th id=\"T_da29c_level0_row7\" class=\"row_heading level0 row7\" >Pearson-r</th>\n",
       "      <td id=\"T_da29c_row7_col0\" class=\"data row7 col0\" >0.931134</td>\n",
       "      <td id=\"T_da29c_row7_col1\" class=\"data row7 col1\" >0.855556</td>\n",
       "      <td id=\"T_da29c_row7_col2\" class=\"data row7 col2\" >0.869899</td>\n",
       "      <td id=\"T_da29c_row7_col3\" class=\"data row7 col3\" >0.928384</td>\n",
       "      <td id=\"T_da29c_row7_col4\" class=\"data row7 col4\" >0.812124</td>\n",
       "      <td id=\"T_da29c_row7_col5\" class=\"data row7 col5\" >0.866944</td>\n",
       "      <td id=\"T_da29c_row7_col6\" class=\"data row7 col6\" >0.900313</td>\n",
       "      <td id=\"T_da29c_row7_col7\" class=\"data row7 col7\" >0.922818</td>\n",
       "      <td id=\"T_da29c_row7_col8\" class=\"data row7 col8\" >0.878247</td>\n",
       "      <td id=\"T_da29c_row7_col9\" class=\"data row7 col9\" >0.898291</td>\n",
       "      <td id=\"T_da29c_row7_col10\" class=\"data row7 col10\" >0.902799</td>\n",
       "      <td id=\"T_da29c_row7_col11\" class=\"data row7 col11\" >0.854598</td>\n",
       "    </tr>\n",
       "    <tr>\n",
       "      <th id=\"T_da29c_level0_row8\" class=\"row_heading level0 row8\" >FHV</th>\n",
       "      <td id=\"T_da29c_row8_col0\" class=\"data row8 col0\" >23.945896</td>\n",
       "      <td id=\"T_da29c_row8_col1\" class=\"data row8 col1\" >-20.731369</td>\n",
       "      <td id=\"T_da29c_row8_col2\" class=\"data row8 col2\" >-14.677648</td>\n",
       "      <td id=\"T_da29c_row8_col3\" class=\"data row8 col3\" >2.575216</td>\n",
       "      <td id=\"T_da29c_row8_col4\" class=\"data row8 col4\" >-38.820937</td>\n",
       "      <td id=\"T_da29c_row8_col5\" class=\"data row8 col5\" >-31.013879</td>\n",
       "      <td id=\"T_da29c_row8_col6\" class=\"data row8 col6\" >24.454837</td>\n",
       "      <td id=\"T_da29c_row8_col7\" class=\"data row8 col7\" >-1.038285</td>\n",
       "      <td id=\"T_da29c_row8_col8\" class=\"data row8 col8\" >-23.831772</td>\n",
       "      <td id=\"T_da29c_row8_col9\" class=\"data row8 col9\" >25.593778</td>\n",
       "      <td id=\"T_da29c_row8_col10\" class=\"data row8 col10\" >-25.316821</td>\n",
       "      <td id=\"T_da29c_row8_col11\" class=\"data row8 col11\" >-3.790094</td>\n",
       "    </tr>\n",
       "    <tr>\n",
       "      <th id=\"T_da29c_level0_row9\" class=\"row_heading level0 row9\" >FMS</th>\n",
       "      <td id=\"T_da29c_row9_col0\" class=\"data row9 col0\" >32.032020</td>\n",
       "      <td id=\"T_da29c_row9_col1\" class=\"data row9 col1\" >18.998075</td>\n",
       "      <td id=\"T_da29c_row9_col2\" class=\"data row9 col2\" >46.100325</td>\n",
       "      <td id=\"T_da29c_row9_col3\" class=\"data row9 col3\" >-24.090634</td>\n",
       "      <td id=\"T_da29c_row9_col4\" class=\"data row9 col4\" >118.018144</td>\n",
       "      <td id=\"T_da29c_row9_col5\" class=\"data row9 col5\" >32.351070</td>\n",
       "      <td id=\"T_da29c_row9_col6\" class=\"data row9 col6\" >25.355981</td>\n",
       "      <td id=\"T_da29c_row9_col7\" class=\"data row9 col7\" >-11.638515</td>\n",
       "      <td id=\"T_da29c_row9_col8\" class=\"data row9 col8\" >73.623212</td>\n",
       "      <td id=\"T_da29c_row9_col9\" class=\"data row9 col9\" >0.594171</td>\n",
       "      <td id=\"T_da29c_row9_col10\" class=\"data row9 col10\" >-32.859758</td>\n",
       "      <td id=\"T_da29c_row9_col11\" class=\"data row9 col11\" >-41.091226</td>\n",
       "    </tr>\n",
       "    <tr>\n",
       "      <th id=\"T_da29c_level0_row10\" class=\"row_heading level0 row10\" >FLV</th>\n",
       "      <td id=\"T_da29c_row10_col0\" class=\"data row10 col0\" >96.362785</td>\n",
       "      <td id=\"T_da29c_row10_col1\" class=\"data row10 col1\" >0.018183</td>\n",
       "      <td id=\"T_da29c_row10_col2\" class=\"data row10 col2\" >0.292430</td>\n",
       "      <td id=\"T_da29c_row10_col3\" class=\"data row10 col3\" >97.585158</td>\n",
       "      <td id=\"T_da29c_row10_col4\" class=\"data row10 col4\" >91.944376</td>\n",
       "      <td id=\"T_da29c_row10_col5\" class=\"data row10 col5\" >72.548368</td>\n",
       "      <td id=\"T_da29c_row10_col6\" class=\"data row10 col6\" >79.444047</td>\n",
       "      <td id=\"T_da29c_row10_col7\" class=\"data row10 col7\" >-2249.806006</td>\n",
       "      <td id=\"T_da29c_row10_col8\" class=\"data row10 col8\" >-1669.059207</td>\n",
       "      <td id=\"T_da29c_row10_col9\" class=\"data row10 col9\" >-967.606045</td>\n",
       "      <td id=\"T_da29c_row10_col10\" class=\"data row10 col10\" >-1009.319918</td>\n",
       "      <td id=\"T_da29c_row10_col11\" class=\"data row10 col11\" >-45.459322</td>\n",
       "    </tr>\n",
       "    <tr>\n",
       "      <th id=\"T_da29c_level0_row11\" class=\"row_heading level0 row11\" >Peak-Timing</th>\n",
       "      <td id=\"T_da29c_row11_col0\" class=\"data row11 col0\" >0.250000</td>\n",
       "      <td id=\"T_da29c_row11_col1\" class=\"data row11 col1\" >0.250000</td>\n",
       "      <td id=\"T_da29c_row11_col2\" class=\"data row11 col2\" >0.250000</td>\n",
       "      <td id=\"T_da29c_row11_col3\" class=\"data row11 col3\" >0.750000</td>\n",
       "      <td id=\"T_da29c_row11_col4\" class=\"data row11 col4\" >0.750000</td>\n",
       "      <td id=\"T_da29c_row11_col5\" class=\"data row11 col5\" >0.500000</td>\n",
       "      <td id=\"T_da29c_row11_col6\" class=\"data row11 col6\" >0.833333</td>\n",
       "      <td id=\"T_da29c_row11_col7\" class=\"data row11 col7\" >0.166667</td>\n",
       "      <td id=\"T_da29c_row11_col8\" class=\"data row11 col8\" >0.333333</td>\n",
       "      <td id=\"T_da29c_row11_col9\" class=\"data row11 col9\" >0.000000</td>\n",
       "      <td id=\"T_da29c_row11_col10\" class=\"data row11 col10\" >0.250000</td>\n",
       "      <td id=\"T_da29c_row11_col11\" class=\"data row11 col11\" >0.000000</td>\n",
       "    </tr>\n",
       "    <tr>\n",
       "      <th id=\"T_da29c_level0_row12\" class=\"row_heading level0 row12\" >Peak-MAPE</th>\n",
       "      <td id=\"T_da29c_row12_col0\" class=\"data row12 col0\" >36.378148</td>\n",
       "      <td id=\"T_da29c_row12_col1\" class=\"data row12 col1\" >37.008796</td>\n",
       "      <td id=\"T_da29c_row12_col2\" class=\"data row12 col2\" >30.467196</td>\n",
       "      <td id=\"T_da29c_row12_col3\" class=\"data row12 col3\" >14.651639</td>\n",
       "      <td id=\"T_da29c_row12_col4\" class=\"data row12 col4\" >48.933003</td>\n",
       "      <td id=\"T_da29c_row12_col5\" class=\"data row12 col5\" >33.570815</td>\n",
       "      <td id=\"T_da29c_row12_col6\" class=\"data row12 col6\" >44.995234</td>\n",
       "      <td id=\"T_da29c_row12_col7\" class=\"data row12 col7\" >51.717223</td>\n",
       "      <td id=\"T_da29c_row12_col8\" class=\"data row12 col8\" >55.615952</td>\n",
       "      <td id=\"T_da29c_row12_col9\" class=\"data row12 col9\" >54.234475</td>\n",
       "      <td id=\"T_da29c_row12_col10\" class=\"data row12 col10\" >39.163541</td>\n",
       "      <td id=\"T_da29c_row12_col11\" class=\"data row12 col11\" >47.541029</td>\n",
       "    </tr>\n",
       "  </tbody>\n",
       "</table>\n"
      ],
      "text/plain": [
       "<pandas.io.formats.style.Styler at 0x7fd3b13b1250>"
      ]
     },
     "execution_count": 41,
     "metadata": {},
     "output_type": "execute_result"
    }
   ],
   "source": [
    "\n",
    "styled_table = combined_metrics_df.style.set_table_styles(\n",
    "    [{\n",
    "        'selector': 'thead th',\n",
    "        'props': [('background-color', '#D3D3D3'), ('color', 'black'), ('font-weight', 'bold')]\n",
    "    }, {\n",
    "        'selector': 'tbody td',\n",
    "        'props': [('text-align', 'center')]\n",
    "    }]\n",
    ").set_caption(\"Metrics Table for All Basins and Models\")\n",
    "\n",
    "styled_table"
   ]
  },
  {
   "cell_type": "code",
   "execution_count": 57,
   "metadata": {},
   "outputs": [
    {
     "data": {
      "application/vnd.plotly.v1+json": {
       "config": {
        "plotlyServerURL": "https://plot.ly"
       },
       "data": [
        {
         "cells": {
          "align": "left",
          "fill": {
           "color": "lavender"
          },
          "font": {
           "color": "black",
           "size": 11
          },
          "values": [
           [
            0.7955368627342703,
            404943.18998214416,
            636.3514673371502,
            0.728364647071309,
            1.1862754570999934,
            1.1853231094266616,
            0.0798488702249963,
            0.9311337226553036,
            23.945895685790628,
            32.032020395818776,
            96.36278473031744,
            0.25,
            36.37814802761963
           ],
           [
            0.7235408023040542,
            547532.777360277,
            739.9545779034528,
            0.7120195344475317,
            0.7773646095392746,
            1.111812693977802,
            0.0481759523599719,
            0.8555557099790957,
            -20.731368753887867,
            18.99807456353016,
            0.0181826597567892,
            0.25,
            37.00879617321385
           ],
           [
            0.7530280484982814,
            489132.7170982621,
            699.3802378522445,
            0.7599634477241853,
            0.8416044087235068,
            1.1249089174981146,
            0.053818630467123,
            0.8698994795472392,
            -14.677648057166945,
            46.100324936082046,
            0.2924298559453843,
            0.25,
            30.467195915405703
           ],
           [
            0.8499147832783736,
            4623213.706820005,
            2150.165971924029,
            0.843031351236524,
            1.0267572161205654,
            1.1370924060323586,
            0.0480038035909785,
            0.9283837987019152,
            2.5752161388721917,
            -24.09063416736044,
            97.5851582783026,
            0.75,
            14.651638888522028
           ],
           [
            0.6494876486916954,
            10797156.058240596,
            3285.9026245828704,
            0.6530351660451007,
            0.7137960972410552,
            1.0563426398527342,
            0.0197287442504255,
            0.8121238999198557,
            -38.82093723303792,
            118.01814409265292,
            91.94437616881432,
            0.75,
            48.933003442050335
           ],
           [
            0.740996674517424,
            7978318.922002563,
            2824.5918151128603,
            0.723561206134262,
            0.766549500795083,
            1.064926819747717,
            0.022734551045961,
            0.8669444505014299,
            -31.013879417549965,
            32.35106972751945,
            72.54836779084289,
            0.5,
            33.570815108823886
           ],
           [
            0.7323780017185723,
            143219.10913853074,
            378.4430064600623,
            0.7911931565933268,
            1.1795016044364384,
            1.0379725123917525,
            0.0154429125223982,
            0.9003126880648217,
            24.4548366505348,
            25.355981289573887,
            79.44404702918855,
            0.8333333333333334,
            44.99523375743027
           ],
           [
            0.8503217721763695,
            80100.97295436739,
            283.0211528390897,
            0.8751942405453719,
            0.9396368706705708,
            1.077302674057672,
            0.0314379628322771,
            0.9228179632677498,
            -1.038284624885449,
            -11.63851529178411,
            -2249.806005930272,
            0.1666666666666666,
            51.71722290165079
           ],
           [
            0.7627669802996933,
            126956.31135670848,
            356.3092917069501,
            0.7391969516496533,
            0.7973474337502783,
            0.8898804968707337,
            -0.0447841279579009,
            0.8782467148213283,
            -23.83177231681873,
            73.62321188193386,
            -1669.059207280003,
            0.3333333333333333,
            55.61595193368799
           ],
           [
            0.6991856462431243,
            76611.32693337982,
            276.7875122424779,
            0.7464235588689607,
            1.2247040420987712,
            1.0588589896090026,
            0.0345768241440293,
            0.8982909821925092,
            25.593777649265498,
            0.5941711431321225,
            -967.606044582316,
            0,
            54.23447477600877
           ],
           [
            0.774332879761162,
            57472.84765774507,
            239.73495293291103,
            0.6757194379415236,
            0.7125263736051678,
            0.8856809704167595,
            -0.067156928932589,
            0.9027994005599144,
            -25.316820701498504,
            -32.85975802248281,
            -1009.3199178188456,
            0.25,
            39.16354052747469
           ],
           [
            0.724423990658539,
            28870.32238977765,
            169.91269049066833,
            0.8082721433613294,
            0.9103762373625436,
            1.0870944320304416,
            0.0529407590088613,
            0.8545981014867471,
            -3.790094091921502,
            -41.09122649531054,
            -45.45932229894896,
            0,
            47.541028583633455
           ]
          ]
         },
         "header": {
          "align": "left",
          "fill": {
           "color": "paleturquoise"
          },
          "font": {
           "color": "black",
           "size": 12
          },
          "values": [
           [
            "Hopland",
            "HMS"
           ],
           [
            "Hopland",
            "LSTM"
           ],
           [
            "Hopland",
            "Physics_Informed_LSTM"
           ],
           [
            "Guerneville",
            "HMS"
           ],
           [
            "Guerneville",
            "LSTM"
           ],
           [
            "Guerneville",
            "Physics_Informed_LSTM"
           ],
           [
            "Warm Springs",
            "HMS"
           ],
           [
            "Warm Springs",
            "LSTM"
           ],
           [
            "Warm Springs",
            "Physics_Informed_LSTM"
           ],
           [
            "Calpella",
            "HMS"
           ],
           [
            "Calpella",
            "LSTM"
           ],
           [
            "Calpella",
            "Physics_Informed_LSTM"
           ]
          ]
         },
         "type": "table"
        }
       ],
       "layout": {
        "height": 600,
        "template": {
         "data": {
          "bar": [
           {
            "error_x": {
             "color": "#2a3f5f"
            },
            "error_y": {
             "color": "#2a3f5f"
            },
            "marker": {
             "line": {
              "color": "#E5ECF6",
              "width": 0.5
             },
             "pattern": {
              "fillmode": "overlay",
              "size": 10,
              "solidity": 0.2
             }
            },
            "type": "bar"
           }
          ],
          "barpolar": [
           {
            "marker": {
             "line": {
              "color": "#E5ECF6",
              "width": 0.5
             },
             "pattern": {
              "fillmode": "overlay",
              "size": 10,
              "solidity": 0.2
             }
            },
            "type": "barpolar"
           }
          ],
          "carpet": [
           {
            "aaxis": {
             "endlinecolor": "#2a3f5f",
             "gridcolor": "white",
             "linecolor": "white",
             "minorgridcolor": "white",
             "startlinecolor": "#2a3f5f"
            },
            "baxis": {
             "endlinecolor": "#2a3f5f",
             "gridcolor": "white",
             "linecolor": "white",
             "minorgridcolor": "white",
             "startlinecolor": "#2a3f5f"
            },
            "type": "carpet"
           }
          ],
          "choropleth": [
           {
            "colorbar": {
             "outlinewidth": 0,
             "ticks": ""
            },
            "type": "choropleth"
           }
          ],
          "contour": [
           {
            "colorbar": {
             "outlinewidth": 0,
             "ticks": ""
            },
            "colorscale": [
             [
              0,
              "#0d0887"
             ],
             [
              0.1111111111111111,
              "#46039f"
             ],
             [
              0.2222222222222222,
              "#7201a8"
             ],
             [
              0.3333333333333333,
              "#9c179e"
             ],
             [
              0.4444444444444444,
              "#bd3786"
             ],
             [
              0.5555555555555556,
              "#d8576b"
             ],
             [
              0.6666666666666666,
              "#ed7953"
             ],
             [
              0.7777777777777778,
              "#fb9f3a"
             ],
             [
              0.8888888888888888,
              "#fdca26"
             ],
             [
              1,
              "#f0f921"
             ]
            ],
            "type": "contour"
           }
          ],
          "contourcarpet": [
           {
            "colorbar": {
             "outlinewidth": 0,
             "ticks": ""
            },
            "type": "contourcarpet"
           }
          ],
          "heatmap": [
           {
            "colorbar": {
             "outlinewidth": 0,
             "ticks": ""
            },
            "colorscale": [
             [
              0,
              "#0d0887"
             ],
             [
              0.1111111111111111,
              "#46039f"
             ],
             [
              0.2222222222222222,
              "#7201a8"
             ],
             [
              0.3333333333333333,
              "#9c179e"
             ],
             [
              0.4444444444444444,
              "#bd3786"
             ],
             [
              0.5555555555555556,
              "#d8576b"
             ],
             [
              0.6666666666666666,
              "#ed7953"
             ],
             [
              0.7777777777777778,
              "#fb9f3a"
             ],
             [
              0.8888888888888888,
              "#fdca26"
             ],
             [
              1,
              "#f0f921"
             ]
            ],
            "type": "heatmap"
           }
          ],
          "heatmapgl": [
           {
            "colorbar": {
             "outlinewidth": 0,
             "ticks": ""
            },
            "colorscale": [
             [
              0,
              "#0d0887"
             ],
             [
              0.1111111111111111,
              "#46039f"
             ],
             [
              0.2222222222222222,
              "#7201a8"
             ],
             [
              0.3333333333333333,
              "#9c179e"
             ],
             [
              0.4444444444444444,
              "#bd3786"
             ],
             [
              0.5555555555555556,
              "#d8576b"
             ],
             [
              0.6666666666666666,
              "#ed7953"
             ],
             [
              0.7777777777777778,
              "#fb9f3a"
             ],
             [
              0.8888888888888888,
              "#fdca26"
             ],
             [
              1,
              "#f0f921"
             ]
            ],
            "type": "heatmapgl"
           }
          ],
          "histogram": [
           {
            "marker": {
             "pattern": {
              "fillmode": "overlay",
              "size": 10,
              "solidity": 0.2
             }
            },
            "type": "histogram"
           }
          ],
          "histogram2d": [
           {
            "colorbar": {
             "outlinewidth": 0,
             "ticks": ""
            },
            "colorscale": [
             [
              0,
              "#0d0887"
             ],
             [
              0.1111111111111111,
              "#46039f"
             ],
             [
              0.2222222222222222,
              "#7201a8"
             ],
             [
              0.3333333333333333,
              "#9c179e"
             ],
             [
              0.4444444444444444,
              "#bd3786"
             ],
             [
              0.5555555555555556,
              "#d8576b"
             ],
             [
              0.6666666666666666,
              "#ed7953"
             ],
             [
              0.7777777777777778,
              "#fb9f3a"
             ],
             [
              0.8888888888888888,
              "#fdca26"
             ],
             [
              1,
              "#f0f921"
             ]
            ],
            "type": "histogram2d"
           }
          ],
          "histogram2dcontour": [
           {
            "colorbar": {
             "outlinewidth": 0,
             "ticks": ""
            },
            "colorscale": [
             [
              0,
              "#0d0887"
             ],
             [
              0.1111111111111111,
              "#46039f"
             ],
             [
              0.2222222222222222,
              "#7201a8"
             ],
             [
              0.3333333333333333,
              "#9c179e"
             ],
             [
              0.4444444444444444,
              "#bd3786"
             ],
             [
              0.5555555555555556,
              "#d8576b"
             ],
             [
              0.6666666666666666,
              "#ed7953"
             ],
             [
              0.7777777777777778,
              "#fb9f3a"
             ],
             [
              0.8888888888888888,
              "#fdca26"
             ],
             [
              1,
              "#f0f921"
             ]
            ],
            "type": "histogram2dcontour"
           }
          ],
          "mesh3d": [
           {
            "colorbar": {
             "outlinewidth": 0,
             "ticks": ""
            },
            "type": "mesh3d"
           }
          ],
          "parcoords": [
           {
            "line": {
             "colorbar": {
              "outlinewidth": 0,
              "ticks": ""
             }
            },
            "type": "parcoords"
           }
          ],
          "pie": [
           {
            "automargin": true,
            "type": "pie"
           }
          ],
          "scatter": [
           {
            "fillpattern": {
             "fillmode": "overlay",
             "size": 10,
             "solidity": 0.2
            },
            "type": "scatter"
           }
          ],
          "scatter3d": [
           {
            "line": {
             "colorbar": {
              "outlinewidth": 0,
              "ticks": ""
             }
            },
            "marker": {
             "colorbar": {
              "outlinewidth": 0,
              "ticks": ""
             }
            },
            "type": "scatter3d"
           }
          ],
          "scattercarpet": [
           {
            "marker": {
             "colorbar": {
              "outlinewidth": 0,
              "ticks": ""
             }
            },
            "type": "scattercarpet"
           }
          ],
          "scattergeo": [
           {
            "marker": {
             "colorbar": {
              "outlinewidth": 0,
              "ticks": ""
             }
            },
            "type": "scattergeo"
           }
          ],
          "scattergl": [
           {
            "marker": {
             "colorbar": {
              "outlinewidth": 0,
              "ticks": ""
             }
            },
            "type": "scattergl"
           }
          ],
          "scattermapbox": [
           {
            "marker": {
             "colorbar": {
              "outlinewidth": 0,
              "ticks": ""
             }
            },
            "type": "scattermapbox"
           }
          ],
          "scatterpolar": [
           {
            "marker": {
             "colorbar": {
              "outlinewidth": 0,
              "ticks": ""
             }
            },
            "type": "scatterpolar"
           }
          ],
          "scatterpolargl": [
           {
            "marker": {
             "colorbar": {
              "outlinewidth": 0,
              "ticks": ""
             }
            },
            "type": "scatterpolargl"
           }
          ],
          "scatterternary": [
           {
            "marker": {
             "colorbar": {
              "outlinewidth": 0,
              "ticks": ""
             }
            },
            "type": "scatterternary"
           }
          ],
          "surface": [
           {
            "colorbar": {
             "outlinewidth": 0,
             "ticks": ""
            },
            "colorscale": [
             [
              0,
              "#0d0887"
             ],
             [
              0.1111111111111111,
              "#46039f"
             ],
             [
              0.2222222222222222,
              "#7201a8"
             ],
             [
              0.3333333333333333,
              "#9c179e"
             ],
             [
              0.4444444444444444,
              "#bd3786"
             ],
             [
              0.5555555555555556,
              "#d8576b"
             ],
             [
              0.6666666666666666,
              "#ed7953"
             ],
             [
              0.7777777777777778,
              "#fb9f3a"
             ],
             [
              0.8888888888888888,
              "#fdca26"
             ],
             [
              1,
              "#f0f921"
             ]
            ],
            "type": "surface"
           }
          ],
          "table": [
           {
            "cells": {
             "fill": {
              "color": "#EBF0F8"
             },
             "line": {
              "color": "white"
             }
            },
            "header": {
             "fill": {
              "color": "#C8D4E3"
             },
             "line": {
              "color": "white"
             }
            },
            "type": "table"
           }
          ]
         },
         "layout": {
          "annotationdefaults": {
           "arrowcolor": "#2a3f5f",
           "arrowhead": 0,
           "arrowwidth": 1
          },
          "autotypenumbers": "strict",
          "coloraxis": {
           "colorbar": {
            "outlinewidth": 0,
            "ticks": ""
           }
          },
          "colorscale": {
           "diverging": [
            [
             0,
             "#8e0152"
            ],
            [
             0.1,
             "#c51b7d"
            ],
            [
             0.2,
             "#de77ae"
            ],
            [
             0.3,
             "#f1b6da"
            ],
            [
             0.4,
             "#fde0ef"
            ],
            [
             0.5,
             "#f7f7f7"
            ],
            [
             0.6,
             "#e6f5d0"
            ],
            [
             0.7,
             "#b8e186"
            ],
            [
             0.8,
             "#7fbc41"
            ],
            [
             0.9,
             "#4d9221"
            ],
            [
             1,
             "#276419"
            ]
           ],
           "sequential": [
            [
             0,
             "#0d0887"
            ],
            [
             0.1111111111111111,
             "#46039f"
            ],
            [
             0.2222222222222222,
             "#7201a8"
            ],
            [
             0.3333333333333333,
             "#9c179e"
            ],
            [
             0.4444444444444444,
             "#bd3786"
            ],
            [
             0.5555555555555556,
             "#d8576b"
            ],
            [
             0.6666666666666666,
             "#ed7953"
            ],
            [
             0.7777777777777778,
             "#fb9f3a"
            ],
            [
             0.8888888888888888,
             "#fdca26"
            ],
            [
             1,
             "#f0f921"
            ]
           ],
           "sequentialminus": [
            [
             0,
             "#0d0887"
            ],
            [
             0.1111111111111111,
             "#46039f"
            ],
            [
             0.2222222222222222,
             "#7201a8"
            ],
            [
             0.3333333333333333,
             "#9c179e"
            ],
            [
             0.4444444444444444,
             "#bd3786"
            ],
            [
             0.5555555555555556,
             "#d8576b"
            ],
            [
             0.6666666666666666,
             "#ed7953"
            ],
            [
             0.7777777777777778,
             "#fb9f3a"
            ],
            [
             0.8888888888888888,
             "#fdca26"
            ],
            [
             1,
             "#f0f921"
            ]
           ]
          },
          "colorway": [
           "#636efa",
           "#EF553B",
           "#00cc96",
           "#ab63fa",
           "#FFA15A",
           "#19d3f3",
           "#FF6692",
           "#B6E880",
           "#FF97FF",
           "#FECB52"
          ],
          "font": {
           "color": "#2a3f5f"
          },
          "geo": {
           "bgcolor": "white",
           "lakecolor": "white",
           "landcolor": "#E5ECF6",
           "showlakes": true,
           "showland": true,
           "subunitcolor": "white"
          },
          "hoverlabel": {
           "align": "left"
          },
          "hovermode": "closest",
          "mapbox": {
           "style": "light"
          },
          "paper_bgcolor": "white",
          "plot_bgcolor": "#E5ECF6",
          "polar": {
           "angularaxis": {
            "gridcolor": "white",
            "linecolor": "white",
            "ticks": ""
           },
           "bgcolor": "#E5ECF6",
           "radialaxis": {
            "gridcolor": "white",
            "linecolor": "white",
            "ticks": ""
           }
          },
          "scene": {
           "xaxis": {
            "backgroundcolor": "#E5ECF6",
            "gridcolor": "white",
            "gridwidth": 2,
            "linecolor": "white",
            "showbackground": true,
            "ticks": "",
            "zerolinecolor": "white"
           },
           "yaxis": {
            "backgroundcolor": "#E5ECF6",
            "gridcolor": "white",
            "gridwidth": 2,
            "linecolor": "white",
            "showbackground": true,
            "ticks": "",
            "zerolinecolor": "white"
           },
           "zaxis": {
            "backgroundcolor": "#E5ECF6",
            "gridcolor": "white",
            "gridwidth": 2,
            "linecolor": "white",
            "showbackground": true,
            "ticks": "",
            "zerolinecolor": "white"
           }
          },
          "shapedefaults": {
           "line": {
            "color": "#2a3f5f"
           }
          },
          "ternary": {
           "aaxis": {
            "gridcolor": "white",
            "linecolor": "white",
            "ticks": ""
           },
           "baxis": {
            "gridcolor": "white",
            "linecolor": "white",
            "ticks": ""
           },
           "bgcolor": "#E5ECF6",
           "caxis": {
            "gridcolor": "white",
            "linecolor": "white",
            "ticks": ""
           }
          },
          "title": {
           "x": 0.05
          },
          "xaxis": {
           "automargin": true,
           "gridcolor": "white",
           "linecolor": "white",
           "ticks": "",
           "title": {
            "standoff": 15
           },
           "zerolinecolor": "white",
           "zerolinewidth": 2
          },
          "yaxis": {
           "automargin": true,
           "gridcolor": "white",
           "linecolor": "white",
           "ticks": "",
           "title": {
            "standoff": 15
           },
           "zerolinecolor": "white",
           "zerolinewidth": 2
          }
         }
        },
        "title": {
         "text": "Metrics Table",
         "x": 0.5
        },
        "width": 1200
       }
      }
     },
     "metadata": {},
     "output_type": "display_data"
    }
   ],
   "source": [
    "# Load the data\n",
    "# Restructure data: Ensure proper header alignment and remove unnecessary rows\n",
    "data_cleaned = combined_metrics_df.dropna()  # Drop rows with NaN values\n",
    "data_cleaned = data_cleaned.rename(columns={'Unnamed: 0': 'Metric'})  # Rename the first column\n",
    "\n",
    "# Create a Plotly table\n",
    "fig = go.Figure(data=[go.Table(\n",
    "    header=dict(\n",
    "        values=data_cleaned.columns,\n",
    "        fill_color='paleturquoise',\n",
    "        align='left',\n",
    "        font=dict(size=12, color='black')\n",
    "    ),\n",
    "    cells=dict(\n",
    "        values=[data_cleaned[col] for col in data_cleaned.columns],\n",
    "        fill_color='lavender',\n",
    "        align='left',\n",
    "        font=dict(size=11, color='black')\n",
    "    )\n",
    ")])\n",
    "\n",
    "# Customize layout\n",
    "fig.update_layout(\n",
    "    title_text=\"Metrics Table\",\n",
    "    title_x=0.5,  # Center the title\n",
    "    width=1200,\n",
    "    height=600\n",
    ")\n",
    "\n",
    "# Show the table\n",
    "fig.show()"
   ]
  },
  {
   "cell_type": "code",
   "execution_count": null,
   "metadata": {},
   "outputs": [],
   "source": []
  }
 ],
 "metadata": {
  "kernelspec": {
   "display_name": "base",
   "language": "python",
   "name": "python3"
  },
  "language_info": {
   "codemirror_mode": {
    "name": "ipython",
    "version": 3
   },
   "file_extension": ".py",
   "mimetype": "text/x-python",
   "name": "python",
   "nbconvert_exporter": "python",
   "pygments_lexer": "ipython3",
   "version": "3.9.18"
  }
 },
 "nbformat": 4,
 "nbformat_minor": 2
}
