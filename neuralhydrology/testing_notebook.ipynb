{
 "cells": [
  {
   "cell_type": "code",
   "execution_count": 4,
   "metadata": {},
   "outputs": [],
   "source": [
    "import sys\n",
    "import os\n",
    "import pickle\n",
    "\n",
    "library_path = os.path.join('..', '..', 'UCB-USACE-LSTMs')\n",
    "sys.path.insert(0, library_path)\n",
    "\n",
    "from pathlib import Path\n",
    "import pandas as pd\n",
    "\n",
    "import matplotlib.pyplot as plt\n",
    "import torch\n",
    "from neuralhydrology.evaluation.metrics import *\n",
    "from neuralhydrology.nh_run import start_run, eval_run, finetune\n",
    "from neuralhydrology.utils.nh_results_ensemble import create_results_ensemble"
   ]
  },
  {
   "cell_type": "code",
   "execution_count": 10,
   "metadata": {},
   "outputs": [
    {
     "name": "stdout",
     "output_type": "stream",
     "text": [
      "2024-11-19 01:12:32,508: Logging to /Users/evanrobert/Documents/ESDL_Research/russian_river/UCB-USACE-LSTMs/neuralhydrology/runs/testing_run_1911_011232/output.log initialized.\n",
      "2024-11-19 01:12:32,510: ### Folder structure created at /Users/evanrobert/Documents/ESDL_Research/russian_river/UCB-USACE-LSTMs/neuralhydrology/runs/testing_run_1911_011232\n",
      "2024-11-19 01:12:32,510: ### Run configurations for testing_run\n",
      "2024-11-19 01:12:32,510: experiment_name: testing_run\n",
      "2024-11-19 01:12:32,511: train_basin_file: UCB_training/calpella\n",
      "2024-11-19 01:12:32,511: validation_basin_file: UCB_training/calpella\n",
      "2024-11-19 01:12:32,511: test_basin_file: UCB_training/calpella\n",
      "2024-11-19 01:12:32,512: train_start_date: 1994-10-01 00:00:00\n",
      "2024-11-19 01:12:32,512: train_end_date: 2005-09-30 00:00:00\n",
      "2024-11-19 01:12:32,513: validation_start_date: 2005-10-01 00:00:00\n",
      "2024-11-19 01:12:32,513: validation_end_date: 2009-09-30 00:00:00\n",
      "2024-11-19 01:12:32,513: device: cpu\n",
      "2024-11-19 01:12:32,514: validate_every: 5\n",
      "2024-11-19 01:12:32,514: validate_n_random_basins: 1\n",
      "2024-11-19 01:12:32,514: metrics: ['NSE', 'MSE']\n",
      "2024-11-19 01:12:32,515: model: cudalstm\n",
      "2024-11-19 01:12:32,515: head: regression\n",
      "2024-11-19 01:12:32,515: output_activation: linear\n",
      "2024-11-19 01:12:32,516: hidden_size: 64\n",
      "2024-11-19 01:12:32,516: initial_forget_bias: 3\n",
      "2024-11-19 01:12:32,517: output_dropout: 0.5\n",
      "2024-11-19 01:12:32,517: optimizer: Adam\n",
      "2024-11-19 01:12:32,517: loss: NSE\n",
      "2024-11-19 01:12:32,518: learning_rate: {0: 0.01, 30: 0.005, 40: 0.001}\n",
      "2024-11-19 01:12:32,518: batch_size: 256\n",
      "2024-11-19 01:12:32,519: epochs: 32\n",
      "2024-11-19 01:12:32,519: clip_gradient_norm: 1\n",
      "2024-11-19 01:12:32,520: predict_last_n: 1\n",
      "2024-11-19 01:12:32,520: seq_length: 365\n",
      "2024-11-19 01:12:32,521: log_interval: 16\n",
      "2024-11-19 01:12:32,521: log_tensorboard: True\n",
      "2024-11-19 01:12:32,521: log_n_figures: 1\n",
      "2024-11-19 01:12:32,522: save_weights_every: 16\n",
      "2024-11-19 01:12:32,522: dataset: russian_river\n",
      "2024-11-19 01:12:32,522: data_dir: /Users/evanrobert/Documents/ESDL_Research/russian_river/russian_river_data_folder\n",
      "2024-11-19 01:12:32,523: dynamic_inputs: ['EF RUSSIAN 10 ET-POTENTIAL RUN:BASIN AVERAGE 60 YR', 'EF RUSSIAN 20 ET-POTENTIAL RUN:BASIN AVERAGE 60 YR', 'EF RUSSIAN 10 PRECIP-INC SCREENED', 'EF RUSSIAN 20 PRECIP-INC SCREENED', 'POTTER VALLEY CA FLOW USGS_ADJUSTED', 'UKIAH CA HUMIDITY USAF-NOAA', 'UKIAH CA SOLAR RADIATION USAF-NOAA', 'UKIAH CA TEMPERATURE USAF-NOAA', 'UKIAH CA WINDSPEED USAF-NOAA', 'UKIAH CA FLOW USGS-MERGED']\n",
      "2024-11-19 01:12:32,523: target_variables: ['NR CALPELLA FLOW COE CPL']\n",
      "2024-11-19 01:12:32,523: number_of_basins: 1\n",
      "2024-11-19 01:12:32,524: run_dir: /Users/evanrobert/Documents/ESDL_Research/russian_river/UCB-USACE-LSTMs/neuralhydrology/runs/testing_run_1911_011232\n",
      "2024-11-19 01:12:32,524: train_dir: /Users/evanrobert/Documents/ESDL_Research/russian_river/UCB-USACE-LSTMs/neuralhydrology/runs/testing_run_1911_011232/train_data\n",
      "2024-11-19 01:12:32,524: img_log_dir: /Users/evanrobert/Documents/ESDL_Research/russian_river/UCB-USACE-LSTMs/neuralhydrology/runs/testing_run_1911_011232/img_log\n",
      "2024-11-19 01:12:32,536: ### Device cpu will be used for training\n",
      "2024-11-19 01:12:32,537: Loading basin data into xarray data set.\n",
      "100%|██████████| 1/1 [00:00<00:00,  7.42it/s]\n",
      "2024-11-19 01:12:32,678: Calculating target variable stds per basin\n",
      "100%|██████████| 1/1 [00:00<00:00, 577.01it/s]\n",
      "2024-11-19 01:12:32,687: Create lookup table and convert to pytorch tensor\n",
      "100%|██████████| 1/1 [00:00<00:00, 23.36it/s]\n",
      "# Epoch 1: 100%|██████████| 15/15 [00:04<00:00,  3.11it/s, Loss: 0.0000]\n",
      "2024-11-19 01:12:37,854: Epoch 1 average loss: avg_loss: 0.00000, avg_total_loss: 0.00000\n",
      "# Epoch 2: 100%|██████████| 15/15 [00:04<00:00,  3.29it/s, Loss: 0.0000]\n",
      "2024-11-19 01:12:42,417: Epoch 2 average loss: avg_loss: 0.00000, avg_total_loss: 0.00000\n",
      "# Epoch 3: 100%|██████████| 15/15 [00:04<00:00,  3.32it/s, Loss: 0.0000]\n",
      "2024-11-19 01:12:46,945: Epoch 3 average loss: avg_loss: 0.00000, avg_total_loss: 0.00000\n",
      "# Epoch 4: 100%|██████████| 15/15 [00:04<00:00,  3.22it/s, Loss: 0.0000]\n",
      "2024-11-19 01:12:51,601: Epoch 4 average loss: avg_loss: 0.00000, avg_total_loss: 0.00000\n",
      "# Epoch 5: 100%|██████████| 15/15 [00:04<00:00,  3.16it/s, Loss: 0.0000]\n",
      "2024-11-19 01:12:56,354: Epoch 5 average loss: avg_loss: 0.00000, avg_total_loss: 0.00000\n",
      "# Validation: 100%|██████████| 1/1 [00:00<00:00,  1.31it/s]\n",
      "2024-11-19 01:12:57,423: Epoch 5 average validation loss: 0.00000 -- Median validation metrics: avg_loss: 0.00000, NSE: 0.67742, MSE: 82155.42188\n",
      "# Epoch 6: 100%|██████████| 15/15 [00:04<00:00,  3.13it/s, Loss: 0.0000]\n",
      "2024-11-19 01:13:02,220: Epoch 6 average loss: avg_loss: 0.00000, avg_total_loss: 0.00000\n",
      "# Epoch 7: 100%|██████████| 15/15 [00:04<00:00,  3.07it/s, Loss: 0.0000]\n",
      "2024-11-19 01:13:07,116: Epoch 7 average loss: avg_loss: 0.00000, avg_total_loss: 0.00000\n",
      "# Epoch 8: 100%|██████████| 15/15 [00:04<00:00,  3.12it/s, Loss: 0.0000]\n",
      "2024-11-19 01:13:11,920: Epoch 8 average loss: avg_loss: 0.00000, avg_total_loss: 0.00000\n",
      "# Epoch 9: 100%|██████████| 15/15 [00:04<00:00,  3.19it/s, Loss: 0.0000]\n",
      "2024-11-19 01:13:16,630: Epoch 9 average loss: avg_loss: 0.00000, avg_total_loss: 0.00000\n",
      "# Epoch 10: 100%|██████████| 15/15 [00:04<00:00,  3.21it/s, Loss: 0.0000]\n",
      "2024-11-19 01:13:21,305: Epoch 10 average loss: avg_loss: 0.00000, avg_total_loss: 0.00000\n",
      "# Validation: 100%|██████████| 1/1 [00:00<00:00,  1.44it/s]\n",
      "2024-11-19 01:13:22,303: Epoch 10 average validation loss: 0.00000 -- Median validation metrics: avg_loss: 0.00000, NSE: 0.73618, MSE: 67188.42188\n",
      "# Epoch 11: 100%|██████████| 15/15 [00:04<00:00,  3.31it/s, Loss: 0.0000]\n",
      "2024-11-19 01:13:26,841: Epoch 11 average loss: avg_loss: 0.00000, avg_total_loss: 0.00000\n",
      "# Epoch 12: 100%|██████████| 15/15 [00:04<00:00,  3.34it/s, Loss: 0.0000]\n",
      "2024-11-19 01:13:31,338: Epoch 12 average loss: avg_loss: 0.00000, avg_total_loss: 0.00000\n",
      "# Epoch 13: 100%|██████████| 15/15 [00:04<00:00,  3.21it/s, Loss: 0.0000]\n",
      "2024-11-19 01:13:36,012: Epoch 13 average loss: avg_loss: 0.00000, avg_total_loss: 0.00000\n",
      "# Epoch 14: 100%|██████████| 15/15 [00:04<00:00,  3.26it/s, Loss: 0.0000]\n",
      "2024-11-19 01:13:40,612: Epoch 14 average loss: avg_loss: 0.00000, avg_total_loss: 0.00000\n",
      "# Epoch 15: 100%|██████████| 15/15 [00:04<00:00,  3.22it/s, Loss: 0.0000]\n",
      "2024-11-19 01:13:45,267: Epoch 15 average loss: avg_loss: 0.00000, avg_total_loss: 0.00000\n",
      "# Validation: 100%|██████████| 1/1 [00:00<00:00,  1.46it/s]\n",
      "2024-11-19 01:13:46,258: Epoch 15 average validation loss: 0.00000 -- Median validation metrics: avg_loss: 0.00000, NSE: 0.70967, MSE: 73941.82812\n",
      "# Epoch 16: 100%|██████████| 15/15 [00:04<00:00,  3.34it/s, Loss: 0.0000]\n",
      "2024-11-19 01:13:50,757: Epoch 16 average loss: avg_loss: 0.00000, avg_total_loss: 0.00000\n",
      "# Epoch 17: 100%|██████████| 15/15 [00:04<00:00,  3.31it/s, Loss: 0.0000]\n",
      "2024-11-19 01:13:55,293: Epoch 17 average loss: avg_loss: 0.00000, avg_total_loss: 0.00000\n",
      "# Epoch 18: 100%|██████████| 15/15 [00:04<00:00,  3.12it/s, Loss: 0.0000]\n",
      "2024-11-19 01:14:00,098: Epoch 18 average loss: avg_loss: 0.00000, avg_total_loss: 0.00000\n",
      "# Epoch 19: 100%|██████████| 15/15 [00:04<00:00,  3.27it/s, Loss: 0.0000]\n",
      "2024-11-19 01:14:04,687: Epoch 19 average loss: avg_loss: 0.00000, avg_total_loss: 0.00000\n",
      "# Epoch 20: 100%|██████████| 15/15 [00:04<00:00,  3.29it/s, Loss: 0.0000]\n",
      "2024-11-19 01:14:09,251: Epoch 20 average loss: avg_loss: 0.00000, avg_total_loss: 0.00000\n",
      "# Validation: 100%|██████████| 1/1 [00:00<00:00,  1.47it/s]\n",
      "2024-11-19 01:14:10,236: Epoch 20 average validation loss: 0.00000 -- Median validation metrics: avg_loss: 0.00000, NSE: 0.75000, MSE: 63670.82422\n",
      "# Epoch 21: 100%|██████████| 15/15 [00:04<00:00,  3.26it/s, Loss: 0.0000]\n",
      "2024-11-19 01:14:14,833: Epoch 21 average loss: avg_loss: 0.00000, avg_total_loss: 0.00000\n",
      "# Epoch 22: 100%|██████████| 15/15 [00:04<00:00,  3.24it/s, Loss: 0.0000]\n",
      "2024-11-19 01:14:19,462: Epoch 22 average loss: avg_loss: 0.00000, avg_total_loss: 0.00000\n",
      "# Epoch 23: 100%|██████████| 15/15 [00:04<00:00,  3.22it/s, Loss: 0.0000]\n",
      "2024-11-19 01:14:24,132: Epoch 23 average loss: avg_loss: 0.00000, avg_total_loss: 0.00000\n",
      "# Epoch 24: 100%|██████████| 15/15 [00:04<00:00,  3.31it/s, Loss: 0.0000]\n",
      "2024-11-19 01:14:28,669: Epoch 24 average loss: avg_loss: 0.00000, avg_total_loss: 0.00000\n",
      "# Epoch 25: 100%|██████████| 15/15 [00:04<00:00,  3.22it/s, Loss: 0.0000]\n",
      "2024-11-19 01:14:33,331: Epoch 25 average loss: avg_loss: 0.00000, avg_total_loss: 0.00000\n",
      "# Validation: 100%|██████████| 1/1 [00:00<00:00,  1.38it/s]\n",
      "2024-11-19 01:14:34,365: Epoch 25 average validation loss: 0.00000 -- Median validation metrics: avg_loss: 0.00000, NSE: 0.70227, MSE: 75825.45312\n",
      "# Epoch 26: 100%|██████████| 15/15 [00:04<00:00,  3.19it/s, Loss: 0.0000]\n",
      "2024-11-19 01:14:39,062: Epoch 26 average loss: avg_loss: 0.00000, avg_total_loss: 0.00000\n",
      "# Epoch 27: 100%|██████████| 15/15 [00:04<00:00,  3.29it/s, Loss: 0.0000]\n",
      "2024-11-19 01:14:43,631: Epoch 27 average loss: avg_loss: 0.00000, avg_total_loss: 0.00000\n",
      "# Epoch 28: 100%|██████████| 15/15 [00:04<00:00,  3.29it/s, Loss: 0.0000]\n",
      "2024-11-19 01:14:48,191: Epoch 28 average loss: avg_loss: 0.00000, avg_total_loss: 0.00000\n",
      "# Epoch 29: 100%|██████████| 15/15 [00:04<00:00,  3.25it/s, Loss: 0.0000]\n",
      "2024-11-19 01:14:52,812: Epoch 29 average loss: avg_loss: 0.00000, avg_total_loss: 0.00000\n",
      "2024-11-19 01:14:52,814: Setting learning rate to 0.005\n",
      "# Epoch 30: 100%|██████████| 15/15 [00:04<00:00,  3.20it/s, Loss: 0.0000]\n",
      "2024-11-19 01:14:57,497: Epoch 30 average loss: avg_loss: 0.00000, avg_total_loss: 0.00000\n",
      "# Validation: 100%|██████████| 1/1 [00:00<00:00,  1.45it/s]\n",
      "2024-11-19 01:14:58,503: Epoch 30 average validation loss: 0.00000 -- Median validation metrics: avg_loss: 0.00000, NSE: 0.77935, MSE: 56194.26562\n",
      "# Epoch 31: 100%|██████████| 15/15 [00:04<00:00,  3.17it/s, Loss: 0.0000]\n",
      "2024-11-19 01:15:03,240: Epoch 31 average loss: avg_loss: 0.00000, avg_total_loss: 0.00000\n",
      "# Epoch 32: 100%|██████████| 15/15 [00:04<00:00,  3.08it/s, Loss: 0.0000]\n",
      "2024-11-19 01:15:08,123: Epoch 32 average loss: avg_loss: 0.00000, avg_total_loss: 0.00000\n"
     ]
    }
   ],
   "source": [
    "config_path = \"UCB_training/calpella_gage.yaml\"\n",
    "start_run(config_file=Path(config_path), gpu=-1)"
   ]
  },
  {
   "cell_type": "code",
   "execution_count": 11,
   "metadata": {},
   "outputs": [
    {
     "name": "stdout",
     "output_type": "stream",
     "text": [
      "2024-11-19 01:15:08,227: Using the model weights from /Users/evanrobert/Documents/ESDL_Research/russian_river/UCB-USACE-LSTMs/neuralhydrology/runs/testing_run_1911_011232/model_epoch032.pt\n",
      "# Validation: 100%|██████████| 1/1 [00:00<00:00,  1.27it/s]\n",
      "2024-11-19 01:15:09,023: Stored metrics at /Users/evanrobert/Documents/ESDL_Research/russian_river/UCB-USACE-LSTMs/neuralhydrology/runs/testing_run_1911_011232/validation/model_epoch032/validation_metrics.csv\n",
      "2024-11-19 01:15:09,024: Stored results at /Users/evanrobert/Documents/ESDL_Research/russian_river/UCB-USACE-LSTMs/neuralhydrology/runs/testing_run_1911_011232/validation/model_epoch032/validation_results.p\n"
     ]
    }
   ],
   "source": [
    "# change directory to directory specified by the first line of the output of above cell\n",
    "\n",
    "run_dir = Path(\"/Users/evanrobert/Documents/ESDL_Research/russian_river/UCB-USACE-LSTMs/neuralhydrology/runs/testing_run_1911_011232\")\n",
    "\n",
    "eval_run(run_dir=run_dir, period=\"validation\")"
   ]
  },
  {
   "cell_type": "code",
   "execution_count": 12,
   "metadata": {},
   "outputs": [
    {
     "data": {
      "text/html": [
       "<div><svg style=\"position: absolute; width: 0; height: 0; overflow: hidden\">\n",
       "<defs>\n",
       "<symbol id=\"icon-database\" viewBox=\"0 0 32 32\">\n",
       "<path d=\"M16 0c-8.837 0-16 2.239-16 5v4c0 2.761 7.163 5 16 5s16-2.239 16-5v-4c0-2.761-7.163-5-16-5z\"></path>\n",
       "<path d=\"M16 17c-8.837 0-16-2.239-16-5v6c0 2.761 7.163 5 16 5s16-2.239 16-5v-6c0 2.761-7.163 5-16 5z\"></path>\n",
       "<path d=\"M16 26c-8.837 0-16-2.239-16-5v6c0 2.761 7.163 5 16 5s16-2.239 16-5v-6c0 2.761-7.163 5-16 5z\"></path>\n",
       "</symbol>\n",
       "<symbol id=\"icon-file-text2\" viewBox=\"0 0 32 32\">\n",
       "<path d=\"M28.681 7.159c-0.694-0.947-1.662-2.053-2.724-3.116s-2.169-2.030-3.116-2.724c-1.612-1.182-2.393-1.319-2.841-1.319h-15.5c-1.378 0-2.5 1.121-2.5 2.5v27c0 1.378 1.122 2.5 2.5 2.5h23c1.378 0 2.5-1.122 2.5-2.5v-19.5c0-0.448-0.137-1.23-1.319-2.841zM24.543 5.457c0.959 0.959 1.712 1.825 2.268 2.543h-4.811v-4.811c0.718 0.556 1.584 1.309 2.543 2.268zM28 29.5c0 0.271-0.229 0.5-0.5 0.5h-23c-0.271 0-0.5-0.229-0.5-0.5v-27c0-0.271 0.229-0.5 0.5-0.5 0 0 15.499-0 15.5 0v7c0 0.552 0.448 1 1 1h7v19.5z\"></path>\n",
       "<path d=\"M23 26h-14c-0.552 0-1-0.448-1-1s0.448-1 1-1h14c0.552 0 1 0.448 1 1s-0.448 1-1 1z\"></path>\n",
       "<path d=\"M23 22h-14c-0.552 0-1-0.448-1-1s0.448-1 1-1h14c0.552 0 1 0.448 1 1s-0.448 1-1 1z\"></path>\n",
       "<path d=\"M23 18h-14c-0.552 0-1-0.448-1-1s0.448-1 1-1h14c0.552 0 1 0.448 1 1s-0.448 1-1 1z\"></path>\n",
       "</symbol>\n",
       "</defs>\n",
       "</svg>\n",
       "<style>/* CSS stylesheet for displaying xarray objects in jupyterlab.\n",
       " *\n",
       " */\n",
       "\n",
       ":root {\n",
       "  --xr-font-color0: var(--jp-content-font-color0, rgba(0, 0, 0, 1));\n",
       "  --xr-font-color2: var(--jp-content-font-color2, rgba(0, 0, 0, 0.54));\n",
       "  --xr-font-color3: var(--jp-content-font-color3, rgba(0, 0, 0, 0.38));\n",
       "  --xr-border-color: var(--jp-border-color2, #e0e0e0);\n",
       "  --xr-disabled-color: var(--jp-layout-color3, #bdbdbd);\n",
       "  --xr-background-color: var(--jp-layout-color0, white);\n",
       "  --xr-background-color-row-even: var(--jp-layout-color1, white);\n",
       "  --xr-background-color-row-odd: var(--jp-layout-color2, #eeeeee);\n",
       "}\n",
       "\n",
       "html[theme=dark],\n",
       "body[data-theme=dark],\n",
       "body.vscode-dark {\n",
       "  --xr-font-color0: rgba(255, 255, 255, 1);\n",
       "  --xr-font-color2: rgba(255, 255, 255, 0.54);\n",
       "  --xr-font-color3: rgba(255, 255, 255, 0.38);\n",
       "  --xr-border-color: #1F1F1F;\n",
       "  --xr-disabled-color: #515151;\n",
       "  --xr-background-color: #111111;\n",
       "  --xr-background-color-row-even: #111111;\n",
       "  --xr-background-color-row-odd: #313131;\n",
       "}\n",
       "\n",
       ".xr-wrap {\n",
       "  display: block !important;\n",
       "  min-width: 300px;\n",
       "  max-width: 700px;\n",
       "}\n",
       "\n",
       ".xr-text-repr-fallback {\n",
       "  /* fallback to plain text repr when CSS is not injected (untrusted notebook) */\n",
       "  display: none;\n",
       "}\n",
       "\n",
       ".xr-header {\n",
       "  padding-top: 6px;\n",
       "  padding-bottom: 6px;\n",
       "  margin-bottom: 4px;\n",
       "  border-bottom: solid 1px var(--xr-border-color);\n",
       "}\n",
       "\n",
       ".xr-header > div,\n",
       ".xr-header > ul {\n",
       "  display: inline;\n",
       "  margin-top: 0;\n",
       "  margin-bottom: 0;\n",
       "}\n",
       "\n",
       ".xr-obj-type,\n",
       ".xr-array-name {\n",
       "  margin-left: 2px;\n",
       "  margin-right: 10px;\n",
       "}\n",
       "\n",
       ".xr-obj-type {\n",
       "  color: var(--xr-font-color2);\n",
       "}\n",
       "\n",
       ".xr-sections {\n",
       "  padding-left: 0 !important;\n",
       "  display: grid;\n",
       "  grid-template-columns: 150px auto auto 1fr 20px 20px;\n",
       "}\n",
       "\n",
       ".xr-section-item {\n",
       "  display: contents;\n",
       "}\n",
       "\n",
       ".xr-section-item input {\n",
       "  display: none;\n",
       "}\n",
       "\n",
       ".xr-section-item input + label {\n",
       "  color: var(--xr-disabled-color);\n",
       "}\n",
       "\n",
       ".xr-section-item input:enabled + label {\n",
       "  cursor: pointer;\n",
       "  color: var(--xr-font-color2);\n",
       "}\n",
       "\n",
       ".xr-section-item input:enabled + label:hover {\n",
       "  color: var(--xr-font-color0);\n",
       "}\n",
       "\n",
       ".xr-section-summary {\n",
       "  grid-column: 1;\n",
       "  color: var(--xr-font-color2);\n",
       "  font-weight: 500;\n",
       "}\n",
       "\n",
       ".xr-section-summary > span {\n",
       "  display: inline-block;\n",
       "  padding-left: 0.5em;\n",
       "}\n",
       "\n",
       ".xr-section-summary-in:disabled + label {\n",
       "  color: var(--xr-font-color2);\n",
       "}\n",
       "\n",
       ".xr-section-summary-in + label:before {\n",
       "  display: inline-block;\n",
       "  content: '►';\n",
       "  font-size: 11px;\n",
       "  width: 15px;\n",
       "  text-align: center;\n",
       "}\n",
       "\n",
       ".xr-section-summary-in:disabled + label:before {\n",
       "  color: var(--xr-disabled-color);\n",
       "}\n",
       "\n",
       ".xr-section-summary-in:checked + label:before {\n",
       "  content: '▼';\n",
       "}\n",
       "\n",
       ".xr-section-summary-in:checked + label > span {\n",
       "  display: none;\n",
       "}\n",
       "\n",
       ".xr-section-summary,\n",
       ".xr-section-inline-details {\n",
       "  padding-top: 4px;\n",
       "  padding-bottom: 4px;\n",
       "}\n",
       "\n",
       ".xr-section-inline-details {\n",
       "  grid-column: 2 / -1;\n",
       "}\n",
       "\n",
       ".xr-section-details {\n",
       "  display: none;\n",
       "  grid-column: 1 / -1;\n",
       "  margin-bottom: 5px;\n",
       "}\n",
       "\n",
       ".xr-section-summary-in:checked ~ .xr-section-details {\n",
       "  display: contents;\n",
       "}\n",
       "\n",
       ".xr-array-wrap {\n",
       "  grid-column: 1 / -1;\n",
       "  display: grid;\n",
       "  grid-template-columns: 20px auto;\n",
       "}\n",
       "\n",
       ".xr-array-wrap > label {\n",
       "  grid-column: 1;\n",
       "  vertical-align: top;\n",
       "}\n",
       "\n",
       ".xr-preview {\n",
       "  color: var(--xr-font-color3);\n",
       "}\n",
       "\n",
       ".xr-array-preview,\n",
       ".xr-array-data {\n",
       "  padding: 0 5px !important;\n",
       "  grid-column: 2;\n",
       "}\n",
       "\n",
       ".xr-array-data,\n",
       ".xr-array-in:checked ~ .xr-array-preview {\n",
       "  display: none;\n",
       "}\n",
       "\n",
       ".xr-array-in:checked ~ .xr-array-data,\n",
       ".xr-array-preview {\n",
       "  display: inline-block;\n",
       "}\n",
       "\n",
       ".xr-dim-list {\n",
       "  display: inline-block !important;\n",
       "  list-style: none;\n",
       "  padding: 0 !important;\n",
       "  margin: 0;\n",
       "}\n",
       "\n",
       ".xr-dim-list li {\n",
       "  display: inline-block;\n",
       "  padding: 0;\n",
       "  margin: 0;\n",
       "}\n",
       "\n",
       ".xr-dim-list:before {\n",
       "  content: '(';\n",
       "}\n",
       "\n",
       ".xr-dim-list:after {\n",
       "  content: ')';\n",
       "}\n",
       "\n",
       ".xr-dim-list li:not(:last-child):after {\n",
       "  content: ',';\n",
       "  padding-right: 5px;\n",
       "}\n",
       "\n",
       ".xr-has-index {\n",
       "  font-weight: bold;\n",
       "}\n",
       "\n",
       ".xr-var-list,\n",
       ".xr-var-item {\n",
       "  display: contents;\n",
       "}\n",
       "\n",
       ".xr-var-item > div,\n",
       ".xr-var-item label,\n",
       ".xr-var-item > .xr-var-name span {\n",
       "  background-color: var(--xr-background-color-row-even);\n",
       "  margin-bottom: 0;\n",
       "}\n",
       "\n",
       ".xr-var-item > .xr-var-name:hover span {\n",
       "  padding-right: 5px;\n",
       "}\n",
       "\n",
       ".xr-var-list > li:nth-child(odd) > div,\n",
       ".xr-var-list > li:nth-child(odd) > label,\n",
       ".xr-var-list > li:nth-child(odd) > .xr-var-name span {\n",
       "  background-color: var(--xr-background-color-row-odd);\n",
       "}\n",
       "\n",
       ".xr-var-name {\n",
       "  grid-column: 1;\n",
       "}\n",
       "\n",
       ".xr-var-dims {\n",
       "  grid-column: 2;\n",
       "}\n",
       "\n",
       ".xr-var-dtype {\n",
       "  grid-column: 3;\n",
       "  text-align: right;\n",
       "  color: var(--xr-font-color2);\n",
       "}\n",
       "\n",
       ".xr-var-preview {\n",
       "  grid-column: 4;\n",
       "}\n",
       "\n",
       ".xr-index-preview {\n",
       "  grid-column: 2 / 5;\n",
       "  color: var(--xr-font-color2);\n",
       "}\n",
       "\n",
       ".xr-var-name,\n",
       ".xr-var-dims,\n",
       ".xr-var-dtype,\n",
       ".xr-preview,\n",
       ".xr-attrs dt {\n",
       "  white-space: nowrap;\n",
       "  overflow: hidden;\n",
       "  text-overflow: ellipsis;\n",
       "  padding-right: 10px;\n",
       "}\n",
       "\n",
       ".xr-var-name:hover,\n",
       ".xr-var-dims:hover,\n",
       ".xr-var-dtype:hover,\n",
       ".xr-attrs dt:hover {\n",
       "  overflow: visible;\n",
       "  width: auto;\n",
       "  z-index: 1;\n",
       "}\n",
       "\n",
       ".xr-var-attrs,\n",
       ".xr-var-data,\n",
       ".xr-index-data {\n",
       "  display: none;\n",
       "  background-color: var(--xr-background-color) !important;\n",
       "  padding-bottom: 5px !important;\n",
       "}\n",
       "\n",
       ".xr-var-attrs-in:checked ~ .xr-var-attrs,\n",
       ".xr-var-data-in:checked ~ .xr-var-data,\n",
       ".xr-index-data-in:checked ~ .xr-index-data {\n",
       "  display: block;\n",
       "}\n",
       "\n",
       ".xr-var-data > table {\n",
       "  float: right;\n",
       "}\n",
       "\n",
       ".xr-var-name span,\n",
       ".xr-var-data,\n",
       ".xr-index-name div,\n",
       ".xr-index-data,\n",
       ".xr-attrs {\n",
       "  padding-left: 25px !important;\n",
       "}\n",
       "\n",
       ".xr-attrs,\n",
       ".xr-var-attrs,\n",
       ".xr-var-data,\n",
       ".xr-index-data {\n",
       "  grid-column: 1 / -1;\n",
       "}\n",
       "\n",
       "dl.xr-attrs {\n",
       "  padding: 0;\n",
       "  margin: 0;\n",
       "  display: grid;\n",
       "  grid-template-columns: 125px auto;\n",
       "}\n",
       "\n",
       ".xr-attrs dt,\n",
       ".xr-attrs dd {\n",
       "  padding: 0;\n",
       "  margin: 0;\n",
       "  float: left;\n",
       "  padding-right: 10px;\n",
       "  width: auto;\n",
       "}\n",
       "\n",
       ".xr-attrs dt {\n",
       "  font-weight: normal;\n",
       "  grid-column: 1;\n",
       "}\n",
       "\n",
       ".xr-attrs dt:hover span {\n",
       "  display: inline-block;\n",
       "  background: var(--xr-background-color);\n",
       "  padding-right: 10px;\n",
       "}\n",
       "\n",
       ".xr-attrs dd {\n",
       "  grid-column: 2;\n",
       "  white-space: pre-wrap;\n",
       "  word-break: break-all;\n",
       "}\n",
       "\n",
       ".xr-icon-database,\n",
       ".xr-icon-file-text2,\n",
       ".xr-no-icon {\n",
       "  display: inline-block;\n",
       "  vertical-align: middle;\n",
       "  width: 1em;\n",
       "  height: 1.5em !important;\n",
       "  stroke-width: 0;\n",
       "  stroke: currentColor;\n",
       "  fill: currentColor;\n",
       "}\n",
       "</style><pre class='xr-text-repr-fallback'>&lt;xarray.Dataset&gt;\n",
       "Dimensions:                       (date: 1461, time_step: 1)\n",
       "Coordinates:\n",
       "  * date                          (date) datetime64[ns] 2005-10-01 ... 2009-0...\n",
       "  * time_step                     (time_step) int64 0\n",
       "Data variables:\n",
       "    NR CALPELLA FLOW COE CPL_obs  (date, time_step) float32 184.2 178.0 ... nan\n",
       "    NR CALPELLA FLOW COE CPL_sim  (date, time_step) float32 145.5 ... 113.1</pre><div class='xr-wrap' style='display:none'><div class='xr-header'><div class='xr-obj-type'>xarray.Dataset</div></div><ul class='xr-sections'><li class='xr-section-item'><input id='section-f6f3cf05-8971-4622-8a6e-f200e0e06c07' class='xr-section-summary-in' type='checkbox' disabled ><label for='section-f6f3cf05-8971-4622-8a6e-f200e0e06c07' class='xr-section-summary'  title='Expand/collapse section'>Dimensions:</label><div class='xr-section-inline-details'><ul class='xr-dim-list'><li><span class='xr-has-index'>date</span>: 1461</li><li><span class='xr-has-index'>time_step</span>: 1</li></ul></div><div class='xr-section-details'></div></li><li class='xr-section-item'><input id='section-c39d8c34-ad64-4bd2-a3c3-6cecc1bdda44' class='xr-section-summary-in' type='checkbox'  checked><label for='section-c39d8c34-ad64-4bd2-a3c3-6cecc1bdda44' class='xr-section-summary' >Coordinates: <span>(2)</span></label><div class='xr-section-inline-details'></div><div class='xr-section-details'><ul class='xr-var-list'><li class='xr-var-item'><div class='xr-var-name'><span class='xr-has-index'>date</span></div><div class='xr-var-dims'>(date)</div><div class='xr-var-dtype'>datetime64[ns]</div><div class='xr-var-preview xr-preview'>2005-10-01 ... 2009-09-30</div><input id='attrs-3b5db9d8-41da-44b8-87d7-ad7491462c75' class='xr-var-attrs-in' type='checkbox' disabled><label for='attrs-3b5db9d8-41da-44b8-87d7-ad7491462c75' title='Show/Hide attributes'><svg class='icon xr-icon-file-text2'><use xlink:href='#icon-file-text2'></use></svg></label><input id='data-e05cf80b-e79d-4f37-a2fe-fd724767dd09' class='xr-var-data-in' type='checkbox'><label for='data-e05cf80b-e79d-4f37-a2fe-fd724767dd09' title='Show/Hide data repr'><svg class='icon xr-icon-database'><use xlink:href='#icon-database'></use></svg></label><div class='xr-var-attrs'><dl class='xr-attrs'></dl></div><div class='xr-var-data'><pre>array([&#x27;2005-10-01T00:00:00.000000000&#x27;, &#x27;2005-10-02T00:00:00.000000000&#x27;,\n",
       "       &#x27;2005-10-03T00:00:00.000000000&#x27;, ..., &#x27;2009-09-28T00:00:00.000000000&#x27;,\n",
       "       &#x27;2009-09-29T00:00:00.000000000&#x27;, &#x27;2009-09-30T00:00:00.000000000&#x27;],\n",
       "      dtype=&#x27;datetime64[ns]&#x27;)</pre></div></li><li class='xr-var-item'><div class='xr-var-name'><span class='xr-has-index'>time_step</span></div><div class='xr-var-dims'>(time_step)</div><div class='xr-var-dtype'>int64</div><div class='xr-var-preview xr-preview'>0</div><input id='attrs-31da71be-a904-462a-a2ce-f6e98aca52a0' class='xr-var-attrs-in' type='checkbox' disabled><label for='attrs-31da71be-a904-462a-a2ce-f6e98aca52a0' title='Show/Hide attributes'><svg class='icon xr-icon-file-text2'><use xlink:href='#icon-file-text2'></use></svg></label><input id='data-e469b346-a300-4f00-8e83-0e815a257ce8' class='xr-var-data-in' type='checkbox'><label for='data-e469b346-a300-4f00-8e83-0e815a257ce8' title='Show/Hide data repr'><svg class='icon xr-icon-database'><use xlink:href='#icon-database'></use></svg></label><div class='xr-var-attrs'><dl class='xr-attrs'></dl></div><div class='xr-var-data'><pre>array([0])</pre></div></li></ul></div></li><li class='xr-section-item'><input id='section-670ef41a-3a3e-4d3e-989d-ac7f772e18cc' class='xr-section-summary-in' type='checkbox'  checked><label for='section-670ef41a-3a3e-4d3e-989d-ac7f772e18cc' class='xr-section-summary' >Data variables: <span>(2)</span></label><div class='xr-section-inline-details'></div><div class='xr-section-details'><ul class='xr-var-list'><li class='xr-var-item'><div class='xr-var-name'><span>NR CALPELLA FLOW COE CPL_obs</span></div><div class='xr-var-dims'>(date, time_step)</div><div class='xr-var-dtype'>float32</div><div class='xr-var-preview xr-preview'>184.2 178.0 187.2 ... nan nan nan</div><input id='attrs-baf59a35-c12f-44d2-9645-5b1766bd83ec' class='xr-var-attrs-in' type='checkbox' disabled><label for='attrs-baf59a35-c12f-44d2-9645-5b1766bd83ec' title='Show/Hide attributes'><svg class='icon xr-icon-file-text2'><use xlink:href='#icon-file-text2'></use></svg></label><input id='data-4ab8d8bb-19cc-4dc8-8dcd-ba8ab7939589' class='xr-var-data-in' type='checkbox'><label for='data-4ab8d8bb-19cc-4dc8-8dcd-ba8ab7939589' title='Show/Hide data repr'><svg class='icon xr-icon-database'><use xlink:href='#icon-database'></use></svg></label><div class='xr-var-attrs'><dl class='xr-attrs'></dl></div><div class='xr-var-data'><pre>array([[184.25],\n",
       "       [178.  ],\n",
       "       [187.25],\n",
       "       ...,\n",
       "       [   nan],\n",
       "       [   nan],\n",
       "       [   nan]], dtype=float32)</pre></div></li><li class='xr-var-item'><div class='xr-var-name'><span>NR CALPELLA FLOW COE CPL_sim</span></div><div class='xr-var-dims'>(date, time_step)</div><div class='xr-var-dtype'>float32</div><div class='xr-var-preview xr-preview'>145.5 142.1 145.0 ... 98.07 113.1</div><input id='attrs-6be4c72f-e37c-47b7-9084-b6db5fdc946e' class='xr-var-attrs-in' type='checkbox' disabled><label for='attrs-6be4c72f-e37c-47b7-9084-b6db5fdc946e' title='Show/Hide attributes'><svg class='icon xr-icon-file-text2'><use xlink:href='#icon-file-text2'></use></svg></label><input id='data-e901a138-6977-4436-adef-2de9921e2ed3' class='xr-var-data-in' type='checkbox'><label for='data-e901a138-6977-4436-adef-2de9921e2ed3' title='Show/Hide data repr'><svg class='icon xr-icon-database'><use xlink:href='#icon-database'></use></svg></label><div class='xr-var-attrs'><dl class='xr-attrs'></dl></div><div class='xr-var-data'><pre>array([[145.46126 ],\n",
       "       [142.0604  ],\n",
       "       [145.03152 ],\n",
       "       ...,\n",
       "       [123.853836],\n",
       "       [ 98.06917 ],\n",
       "       [113.14711 ]], dtype=float32)</pre></div></li></ul></div></li><li class='xr-section-item'><input id='section-da05cf81-d413-4c51-8b16-411e6b169d20' class='xr-section-summary-in' type='checkbox'  ><label for='section-da05cf81-d413-4c51-8b16-411e6b169d20' class='xr-section-summary' >Indexes: <span>(2)</span></label><div class='xr-section-inline-details'></div><div class='xr-section-details'><ul class='xr-var-list'><li class='xr-var-item'><div class='xr-index-name'><div>date</div></div><div class='xr-index-preview'>PandasIndex</div><div></div><input id='index-1788a8d2-647c-4e30-9e36-0ad4b3d2380b' class='xr-index-data-in' type='checkbox'/><label for='index-1788a8d2-647c-4e30-9e36-0ad4b3d2380b' title='Show/Hide index repr'><svg class='icon xr-icon-database'><use xlink:href='#icon-database'></use></svg></label><div class='xr-index-data'><pre>PandasIndex(DatetimeIndex([&#x27;2005-10-01&#x27;, &#x27;2005-10-02&#x27;, &#x27;2005-10-03&#x27;, &#x27;2005-10-04&#x27;,\n",
       "               &#x27;2005-10-05&#x27;, &#x27;2005-10-06&#x27;, &#x27;2005-10-07&#x27;, &#x27;2005-10-08&#x27;,\n",
       "               &#x27;2005-10-09&#x27;, &#x27;2005-10-10&#x27;,\n",
       "               ...\n",
       "               &#x27;2009-09-21&#x27;, &#x27;2009-09-22&#x27;, &#x27;2009-09-23&#x27;, &#x27;2009-09-24&#x27;,\n",
       "               &#x27;2009-09-25&#x27;, &#x27;2009-09-26&#x27;, &#x27;2009-09-27&#x27;, &#x27;2009-09-28&#x27;,\n",
       "               &#x27;2009-09-29&#x27;, &#x27;2009-09-30&#x27;],\n",
       "              dtype=&#x27;datetime64[ns]&#x27;, name=&#x27;date&#x27;, length=1461, freq=None))</pre></div></li><li class='xr-var-item'><div class='xr-index-name'><div>time_step</div></div><div class='xr-index-preview'>PandasIndex</div><div></div><input id='index-195f8adc-0f9d-4b5c-b5d2-62a6a113b7cd' class='xr-index-data-in' type='checkbox'/><label for='index-195f8adc-0f9d-4b5c-b5d2-62a6a113b7cd' title='Show/Hide index repr'><svg class='icon xr-icon-database'><use xlink:href='#icon-database'></use></svg></label><div class='xr-index-data'><pre>PandasIndex(Index([0], dtype=&#x27;int64&#x27;, name=&#x27;time_step&#x27;))</pre></div></li></ul></div></li><li class='xr-section-item'><input id='section-6bc899a5-23a4-4bee-b236-1c1a3dfc0d6d' class='xr-section-summary-in' type='checkbox' disabled ><label for='section-6bc899a5-23a4-4bee-b236-1c1a3dfc0d6d' class='xr-section-summary'  title='Expand/collapse section'>Attributes: <span>(0)</span></label><div class='xr-section-inline-details'></div><div class='xr-section-details'><dl class='xr-attrs'></dl></div></li></ul></div></div>"
      ],
      "text/plain": [
       "<xarray.Dataset>\n",
       "Dimensions:                       (date: 1461, time_step: 1)\n",
       "Coordinates:\n",
       "  * date                          (date) datetime64[ns] 2005-10-01 ... 2009-0...\n",
       "  * time_step                     (time_step) int64 0\n",
       "Data variables:\n",
       "    NR CALPELLA FLOW COE CPL_obs  (date, time_step) float32 184.2 178.0 ... nan\n",
       "    NR CALPELLA FLOW COE CPL_sim  (date, time_step) float32 145.5 ... 113.1"
      ]
     },
     "execution_count": 12,
     "metadata": {},
     "output_type": "execute_result"
    }
   ],
   "source": [
    "with open(run_dir / \"validation\" / \"model_epoch032\" / \"validation_results.p\", \"rb\") as fp:\n",
    "    results = pickle.load(fp)\n",
    "    \n",
    "results['Calpella']['1D']['xr']"
   ]
  },
  {
   "cell_type": "code",
   "execution_count": 14,
   "metadata": {},
   "outputs": [
    {
     "data": {
      "text/plain": [
       "Text(0.5, 1.0, 'Calpella Gage Validation period - NSE 0.780')"
      ]
     },
     "execution_count": 14,
     "metadata": {},
     "output_type": "execute_result"
    },
    {
     "data": {
      "image/png": "[encoded data removed]",
      "text/plain": [
       "<Figure size 1600x1000 with 1 Axes>"
      ]
     },
     "metadata": {},
     "output_type": "display_data"
    }
   ],
   "source": [
    "\n",
    "# extract observations and LSTM simulations\n",
    "qobs = results['Calpella']['1D']['xr']['NR CALPELLA FLOW COE CPL_obs']\n",
    "qsim = results['Calpella']['1D']['xr']['NR CALPELLA FLOW COE CPL_sim']\n",
    "\n",
    "fig, ax = plt.subplots(figsize=(16,10))\n",
    "ax.plot(qobs[\"date\"], qobs, label=\"Obs\")\n",
    "ax.plot(qsim[\"date\"], qsim, label=\"Sim\")\n",
    "ax.set_ylabel(\"NR Calpella Flow\")\n",
    "ax.legend()\n",
    "ax.set_title(f\"Calpella Gage Validation period - NSE {results['Calpella']['1D']['NSE']:.3f}\")"
   ]
  },
  {
   "cell_type": "code",
   "execution_count": null,
   "metadata": {},
   "outputs": [],
   "source": []
  },
  {
   "cell_type": "code",
   "execution_count": null,
   "metadata": {},
   "outputs": [],
   "source": []
  },
  {
   "cell_type": "code",
   "execution_count": null,
   "metadata": {},
   "outputs": [],
   "source": [
    "def load_russian_river_data(data_dir: Path) -> pd.DataFrame:\n",
    "    data_dir = Path(\"/Users/evanrobert/Documents/ESDL_Research/russian_river/russian_river_data_folder/\")\n",
    "    df = pd.read_csv(data_dir / 'daily.csv')\n",
    "    df.columns = df.iloc[0]\n",
    "    df = df[3:]\n",
    "    df = df.drop(\"   Ordinate\", axis=1)\n",
    "    df = df.rename(columns={'   Date': 'Date', '   Time': 'Time'})\n",
    "    df['Time'] = df['Time'].replace('24:00:00', '00:00:00')\n",
    "    df['Datetime'] = pd.to_datetime(df['Date'], format='%d-%b-%y') + pd.to_timedelta(df['Time'])\n",
    "    df.set_index('Datetime', inplace=True)\n",
    "    return df"
   ]
  },
  {
   "cell_type": "code",
   "execution_count": null,
   "metadata": {},
   "outputs": [],
   "source": [
    "load_russian_river_data(None)"
   ]
  },
  {
   "cell_type": "code",
   "execution_count": null,
   "metadata": {},
   "outputs": [],
   "source": []
  },
  {
   "cell_type": "code",
   "execution_count": null,
   "metadata": {
    "ExecuteTime": {
     "end_time": "2024-10-31T00:23:00.146511Z",
     "start_time": "2024-10-31T00:23:00.139823Z"
    }
   },
   "outputs": [],
   "source": [
    "import sys\n",
    "import os \n",
    "\n",
    "library_path = os.path.join('..', '..', '..', 'UCB-USACE-LSTMs')\n",
    "sys.path.insert(0, library_path)\n",
    "\n",
    "from UCB_train import UCB_trainer\n",
    "from pathlib import Path\n",
    "import matplotlib.pyplot as plt\n",
    "from neuralhydrology.evaluation.metrics import calculate_all_metrics"
   ]
  },
  {
   "cell_type": "code",
   "execution_count": null,
   "metadata": {
    "ExecuteTime": {
     "end_time": "2024-10-31T00:23:00.500267Z",
     "start_time": "2024-10-31T00:23:00.482303Z"
    }
   },
   "outputs": [],
   "source": [
    "path_to_csv = Path('/Users/evanrobert/Documents/ESDL_Research/russian_river/UCB-USACE-LSTMs/neuralhydrology/UCB_training')\n",
    "params = {'learning_rate': 0.001, 'batch_size': 256, 'epochs': 1, 'validate_every': 1, 'save_weights_every': 1}\n",
    "num_ensemble_members = 1\n",
    "trainer = UCB_trainer(path_to_csv, params, num_ensemble_members=num_ensemble_members, physics_informed=True)"
   ]
  },
  {
   "cell_type": "code",
   "execution_count": null,
   "metadata": {
    "ExecuteTime": {
     "end_time": "2024-10-31T00:23:21.934773Z",
     "start_time": "2024-10-31T00:23:00.655893Z"
    }
   },
   "outputs": [],
   "source": [
    "trainer.train()"
   ]
  },
  {
   "cell_type": "code",
   "execution_count": null,
   "metadata": {
    "ExecuteTime": {
     "end_time": "2024-10-31T00:23:22.171775Z",
     "start_time": "2024-10-31T00:23:21.936190Z"
    }
   },
   "outputs": [],
   "source": [
    "trainer.results()"
   ]
  },
  {
   "cell_type": "code",
   "execution_count": null,
   "metadata": {
    "ExecuteTime": {
     "end_time": "2024-10-31T00:23:22.284064Z",
     "start_time": "2024-10-31T00:23:22.173037Z"
    }
   },
   "outputs": [],
   "source": [
    "trainer._plot_day_of_year_average()"
   ]
  },
  {
   "cell_type": "code",
   "execution_count": null,
   "metadata": {
    "ExecuteTime": {
     "end_time": "2024-10-31T00:23:22.408913Z",
     "start_time": "2024-10-31T00:23:22.285960Z"
    }
   },
   "outputs": [],
   "source": [
    "trainer._plot_month_of_year_average()"
   ]
  },
  {
   "cell_type": "code",
   "execution_count": null,
   "metadata": {
    "ExecuteTime": {
     "end_time": "2024-10-31T00:23:22.411713Z",
     "start_time": "2024-10-31T00:23:22.409916Z"
    }
   },
   "outputs": [],
   "source": [
    "# .311"
   ]
  },
  {
   "cell_type": "code",
   "execution_count": null,
   "metadata": {
    "ExecuteTime": {
     "end_time": "2024-10-31T00:23:22.419259Z",
     "start_time": "2024-10-31T00:23:22.414555Z"
    }
   },
   "outputs": [],
   "source": [
    "path_to_csv = Path('/Users/canruso/Desktop/UCB-USACE-LSTMs/neuralhydrology/UCB_training')\n",
    "params = {'learning_rate': 0.001, 'batch_size': 256, 'epochs': 1, 'validate_every': 1, 'save_weights_every': 1}\n",
    "num_ensemble_members = 2\n",
    "trainer = UCB_trainer(path_to_csv, params, num_ensemble_members)"
   ]
  },
  {
   "cell_type": "code",
   "execution_count": null,
   "metadata": {
    "ExecuteTime": {
     "end_time": "2024-10-31T00:23:59.664478Z",
     "start_time": "2024-10-31T00:23:22.423165Z"
    }
   },
   "outputs": [],
   "source": [
    "trainer.train()"
   ]
  },
  {
   "cell_type": "code",
   "execution_count": null,
   "metadata": {
    "ExecuteTime": {
     "end_time": "2024-10-31T00:24:00.010893Z",
     "start_time": "2024-10-31T00:23:59.665561Z"
    }
   },
   "outputs": [],
   "source": [
    "trainer.results()"
   ]
  },
  {
   "cell_type": "code",
   "execution_count": null,
   "metadata": {
    "ExecuteTime": {
     "end_time": "2024-10-31T00:24:00.125850Z",
     "start_time": "2024-10-31T00:24:00.013812Z"
    }
   },
   "outputs": [],
   "source": [
    "trainer._plot_day_of_year_average()"
   ]
  },
  {
   "cell_type": "code",
   "execution_count": null,
   "metadata": {
    "ExecuteTime": {
     "end_time": "2024-10-31T00:24:00.240765Z",
     "start_time": "2024-10-31T00:24:00.126857Z"
    }
   },
   "outputs": [],
   "source": [
    "trainer._plot_month_of_year_average()"
   ]
  },
  {
   "cell_type": "code",
   "execution_count": null,
   "metadata": {
    "ExecuteTime": {
     "end_time": "2024-10-31T00:24:00.243635Z",
     "start_time": "2024-10-31T00:24:00.241758Z"
    }
   },
   "outputs": [],
   "source": [
    "new_dynamic_inputs = [\n",
    "    \"MF_TuleR_S10ET-POTENTIAL\",\n",
    "    \"MF_TuleR_S10FLOW\",\n",
    "    \"MF_TuleR_S10PRECIP-INC\"\n",
    "]"
   ]
  },
  {
   "cell_type": "code",
   "execution_count": null,
   "metadata": {
    "ExecuteTime": {
     "end_time": "2024-10-31T00:24:00.246628Z",
     "start_time": "2024-10-31T00:24:00.244626Z"
    }
   },
   "outputs": [],
   "source": [
    "trainer._config.update_config(yml_path_or_dict=params, new_dynamic_inputs=new_dynamic_inputs)"
   ]
  },
  {
   "cell_type": "code",
   "execution_count": null,
   "metadata": {
    "ExecuteTime": {
     "end_time": "2024-10-31T00:24:41.045024Z",
     "start_time": "2024-10-31T00:24:00.247504Z"
    }
   },
   "outputs": [],
   "source": [
    "trainer.train()"
   ]
  },
  {
   "cell_type": "code",
   "execution_count": null,
   "metadata": {
    "ExecuteTime": {
     "end_time": "2024-10-31T00:24:41.204025Z",
     "start_time": "2024-10-31T00:24:41.046473Z"
    }
   },
   "outputs": [],
   "source": [
    "trainer.results()"
   ]
  },
  {
   "cell_type": "code",
   "execution_count": null,
   "metadata": {
    "ExecuteTime": {
     "end_time": "2024-10-31T00:24:41.207495Z",
     "start_time": "2024-10-31T00:24:41.205186Z"
    }
   },
   "outputs": [],
   "source": [
    "print(\"Dynamic Inputs used for training:\", trainer._config.as_dict().get(\"dynamic_inputs\"))"
   ]
  },
  {
   "cell_type": "code",
   "execution_count": null,
   "metadata": {},
   "outputs": [],
   "source": []
  }
 ],
 "metadata": {
  "kernelspec": {
   "display_name": "Python 3 (ipykernel)",
   "language": "python",
   "name": "python3"
  },
  "language_info": {
   "codemirror_mode": {
    "name": "ipython",
    "version": 3
   },
   "file_extension": ".py",
   "mimetype": "text/x-python",
   "name": "python",
   "nbconvert_exporter": "python",
   "pygments_lexer": "ipython3",
   "version": "3.12.4"
  }
 },
 "nbformat": 4,
 "nbformat_minor": 4
}
